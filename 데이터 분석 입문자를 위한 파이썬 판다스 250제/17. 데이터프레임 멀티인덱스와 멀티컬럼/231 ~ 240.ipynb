{
 "cells": [
  {
   "cell_type": "markdown",
   "id": "db986bbe",
   "metadata": {},
   "source": [
    "### zip\n",
    "다음 before 리스트를 after 리스트로 변환하세요."
   ]
  },
  {
   "cell_type": "code",
   "execution_count": 1,
   "id": "13b7a12f",
   "metadata": {},
   "outputs": [],
   "source": [
    "before = [\n",
    "    ('영업이익', '영업이익', '당기순이익', '당기순이익'), \n",
    "    ('컨센서스', '잠정치', '컨센서스', '잠정치')\n",
    "]\n",
    "\n",
    "after = [\n",
    "    ('영업이익', '컨센서스'), \n",
    "    ('영업이익', '잠정치'), \n",
    "    ('당기순이익', '컨센서스'), \n",
    "    ('당기순이익', '잠정치')\n",
    "]"
   ]
  },
  {
   "cell_type": "code",
   "execution_count": 4,
   "id": "2d09c68e",
   "metadata": {},
   "outputs": [
    {
     "data": {
      "text/plain": [
       "[('영업이익', '컨센서스'), ('영업이익', '잠정치'), ('당기순이익', '컨센서스'), ('당기순이익', '잠정치')]"
      ]
     },
     "execution_count": 4,
     "metadata": {},
     "output_type": "execute_result"
    }
   ],
   "source": [
    "#위키독스에서 제시한 답\n",
    "after = list(zip(*before))\n",
    "\n",
    "after"
   ]
  },
  {
   "cell_type": "markdown",
   "id": "be1efd99",
   "metadata": {},
   "source": [
    "### zip\n",
    "위의 after 리스트를 before 리스트로 변경해보세요."
   ]
  },
  {
   "cell_type": "code",
   "execution_count": 5,
   "id": "feae6228",
   "metadata": {},
   "outputs": [
    {
     "data": {
      "text/plain": [
       "[('영업이익', '영업이익', '당기순이익', '당기순이익'), ('컨센서스', '잠정치', '컨센서스', '잠정치')]"
      ]
     },
     "execution_count": 5,
     "metadata": {},
     "output_type": "execute_result"
    }
   ],
   "source": [
    "before = list(zip(*after))\n",
    "before\n"
   ]
  }
 ],
 "metadata": {
  "kernelspec": {
   "display_name": "Python 3 (ipykernel)",
   "language": "python",
   "name": "python3"
  },
  "language_info": {
   "codemirror_mode": {
    "name": "ipython",
    "version": 3
   },
   "file_extension": ".py",
   "mimetype": "text/x-python",
   "name": "python",
   "nbconvert_exporter": "python",
   "pygments_lexer": "ipython3",
   "version": "3.9.13"
  }
 },
 "nbformat": 4,
 "nbformat_minor": 5
}
