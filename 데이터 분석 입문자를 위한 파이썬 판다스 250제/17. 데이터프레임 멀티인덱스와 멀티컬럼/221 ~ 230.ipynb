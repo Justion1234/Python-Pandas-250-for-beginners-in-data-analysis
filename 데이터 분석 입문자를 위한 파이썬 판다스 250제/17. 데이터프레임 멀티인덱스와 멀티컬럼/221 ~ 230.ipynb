{
 "cells": [
  {
   "cell_type": "markdown",
   "id": "7999e0ae",
   "metadata": {},
   "source": [
    "### DataFrame 생성\n",
    "\n",
    "다음 그림과 같은 데이터프레임을 생성하세요."
   ]
  },
  {
   "cell_type": "code",
   "execution_count": 1,
   "id": "798985da",
   "metadata": {},
   "outputs": [
    {
     "data": {
      "text/html": [
       "<div>\n",
       "<style scoped>\n",
       "    .dataframe tbody tr th:only-of-type {\n",
       "        vertical-align: middle;\n",
       "    }\n",
       "\n",
       "    .dataframe tbody tr th {\n",
       "        vertical-align: top;\n",
       "    }\n",
       "\n",
       "    .dataframe thead th {\n",
       "        text-align: right;\n",
       "    }\n",
       "</style>\n",
       "<table border=\"1\" class=\"dataframe\">\n",
       "  <thead>\n",
       "    <tr style=\"text-align: right;\">\n",
       "      <th></th>\n",
       "      <th>Category</th>\n",
       "      <th>Factor</th>\n",
       "      <th>2020</th>\n",
       "      <th>2021</th>\n",
       "    </tr>\n",
       "  </thead>\n",
       "  <tbody>\n",
       "    <tr>\n",
       "      <th>0</th>\n",
       "      <td>Multiples</td>\n",
       "      <td>PER</td>\n",
       "      <td>21.09</td>\n",
       "      <td>13.55</td>\n",
       "    </tr>\n",
       "    <tr>\n",
       "      <th>1</th>\n",
       "      <td>Multiples</td>\n",
       "      <td>PBR</td>\n",
       "      <td>2.06</td>\n",
       "      <td>1.80</td>\n",
       "    </tr>\n",
       "    <tr>\n",
       "      <th>2</th>\n",
       "      <td>Dividends</td>\n",
       "      <td>DPS</td>\n",
       "      <td>2944.00</td>\n",
       "      <td>1444.00</td>\n",
       "    </tr>\n",
       "    <tr>\n",
       "      <th>3</th>\n",
       "      <td>Dividends</td>\n",
       "      <td>배당성향</td>\n",
       "      <td>78.00</td>\n",
       "      <td>25.00</td>\n",
       "    </tr>\n",
       "  </tbody>\n",
       "</table>\n",
       "</div>"
      ],
      "text/plain": [
       "    Category Factor     2020     2021\n",
       "0  Multiples    PER    21.09    13.55\n",
       "1  Multiples    PBR     2.06     1.80\n",
       "2  Dividends    DPS  2944.00  1444.00\n",
       "3  Dividends   배당성향    78.00    25.00"
      ]
     },
     "execution_count": 1,
     "metadata": {},
     "output_type": "execute_result"
    }
   ],
   "source": [
    "import pandas as pd\n",
    "\n",
    "data = [\n",
    "    ['Multiples', 'PER', 21.09, 13.55],\n",
    "    ['Multiples', 'PBR', 2.06, 1.80],\n",
    "    ['Dividends', 'DPS', 2944, 1444],\n",
    "    ['Dividends', '배당성향', 78, 25]\n",
    "]\n",
    "columns = ['Category', 'Factor', 2020, 2021]\n",
    "df = pd.DataFrame(data, columns=columns)\n",
    "df"
   ]
  },
  {
   "cell_type": "markdown",
   "id": "bbe86b4a",
   "metadata": {},
   "source": [
    "### DataFrame.set_index (멀티인덱스)\n",
    "위 데이터프레임에서 set_index 메서드를 사용해서 'Category' 컬럼과 'Factor' 컬럼을 MultiIndex로 설정하세요."
   ]
  },
  {
   "cell_type": "code",
   "execution_count": 2,
   "id": "c26fef3c",
   "metadata": {},
   "outputs": [
    {
     "data": {
      "text/html": [
       "<div>\n",
       "<style scoped>\n",
       "    .dataframe tbody tr th:only-of-type {\n",
       "        vertical-align: middle;\n",
       "    }\n",
       "\n",
       "    .dataframe tbody tr th {\n",
       "        vertical-align: top;\n",
       "    }\n",
       "\n",
       "    .dataframe thead th {\n",
       "        text-align: right;\n",
       "    }\n",
       "</style>\n",
       "<table border=\"1\" class=\"dataframe\">\n",
       "  <thead>\n",
       "    <tr style=\"text-align: right;\">\n",
       "      <th></th>\n",
       "      <th></th>\n",
       "      <th>2020</th>\n",
       "      <th>2021</th>\n",
       "    </tr>\n",
       "    <tr>\n",
       "      <th>Category</th>\n",
       "      <th>Factor</th>\n",
       "      <th></th>\n",
       "      <th></th>\n",
       "    </tr>\n",
       "  </thead>\n",
       "  <tbody>\n",
       "    <tr>\n",
       "      <th rowspan=\"2\" valign=\"top\">Multiples</th>\n",
       "      <th>PER</th>\n",
       "      <td>21.09</td>\n",
       "      <td>13.55</td>\n",
       "    </tr>\n",
       "    <tr>\n",
       "      <th>PBR</th>\n",
       "      <td>2.06</td>\n",
       "      <td>1.80</td>\n",
       "    </tr>\n",
       "    <tr>\n",
       "      <th rowspan=\"2\" valign=\"top\">Dividends</th>\n",
       "      <th>DPS</th>\n",
       "      <td>2944.00</td>\n",
       "      <td>1444.00</td>\n",
       "    </tr>\n",
       "    <tr>\n",
       "      <th>배당성향</th>\n",
       "      <td>78.00</td>\n",
       "      <td>25.00</td>\n",
       "    </tr>\n",
       "  </tbody>\n",
       "</table>\n",
       "</div>"
      ],
      "text/plain": [
       "                     2020     2021\n",
       "Category  Factor                  \n",
       "Multiples PER       21.09    13.55\n",
       "          PBR        2.06     1.80\n",
       "Dividends DPS     2944.00  1444.00\n",
       "          배당성향      78.00    25.00"
      ]
     },
     "execution_count": 2,
     "metadata": {},
     "output_type": "execute_result"
    }
   ],
   "source": [
    "df.set_index(['Category', 'Factor'])"
   ]
  },
  {
   "cell_type": "markdown",
   "id": "7e43ed08",
   "metadata": {},
   "source": [
    "### pandas.MultiIndex.from_tuples(로우방향 저장)\n",
    "\n",
    "MultiIndex의 from_tuples 메서드를 사용해서 tuples를 MultiIndex 객체로 생성하세요. 멀티 인덱스의 이름은 ['number', 'color']로 지정하세요."
   ]
  },
  {
   "cell_type": "code",
   "execution_count": 4,
   "id": "d3d47765",
   "metadata": {},
   "outputs": [
    {
     "data": {
      "text/plain": [
       "[('Multiples', 'PER'),\n",
       " ('Multiples', 'PBR'),\n",
       " ('Dividends', 'DPS'),\n",
       " ('Dividends', '배당성향')]"
      ]
     },
     "execution_count": 4,
     "metadata": {},
     "output_type": "execute_result"
    }
   ],
   "source": [
    "import pandas as pd\n",
    "\n",
    "tuples = [\n",
    "    ('Multiples', 'PER'),\n",
    "    ('Multiples', 'PBR'),\n",
    "    ('Dividends', 'DPS'),\n",
    "    ('Dividends', '배당성향')\n",
    "]\n",
    "\n",
    "tuples"
   ]
  },
  {
   "cell_type": "code",
   "execution_count": 6,
   "id": "923c7174",
   "metadata": {},
   "outputs": [
    {
     "data": {
      "text/plain": [
       "MultiIndex([('Multiples',  'PER'),\n",
       "            ('Multiples',  'PBR'),\n",
       "            ('Dividends',  'DPS'),\n",
       "            ('Dividends', '배당성향')],\n",
       "           names=['Category', 'Factor'])"
      ]
     },
     "execution_count": 6,
     "metadata": {},
     "output_type": "execute_result"
    }
   ],
   "source": [
    "# 위키독스에서 제시한 답\n",
    "\n",
    "index = pd.MultiIndex.from_tuples(tuples, names=['Category', 'Factor'])\n",
    "\n",
    "index"
   ]
  },
  {
   "cell_type": "markdown",
   "id": "37f54bdb",
   "metadata": {},
   "source": [
    "### pandas.MultiIndex.from_arrays (컬럼방향 저장)\n",
    "MultiIndex의 from_arrays 메서드를 사용해서 파이썬 이중 리스트를 MultiIndex 객체로 생성하세요. 멀티 인덱스의 이름은 ['number', 'color']로 지정하세요."
   ]
  },
  {
   "cell_type": "code",
   "execution_count": 10,
   "id": "5eaf7ed1",
   "metadata": {},
   "outputs": [
    {
     "data": {
      "text/plain": [
       "[['Mutiples', 'Multiples', 'Dividends', 'Dividends'],\n",
       " ['PER', 'PBR', 'DPS', '배당성향']]"
      ]
     },
     "execution_count": 10,
     "metadata": {},
     "output_type": "execute_result"
    }
   ],
   "source": [
    "import pandas as pd\n",
    "\n",
    "arrays = [\n",
    "    ['Mutiples', 'Multiples', 'Dividends', 'Dividends'],\n",
    "    ['PER', 'PBR', 'DPS', '배당성향']\n",
    "]\n",
    "\n",
    "arrays"
   ]
  },
  {
   "cell_type": "code",
   "execution_count": 11,
   "id": "54aad5b5",
   "metadata": {},
   "outputs": [
    {
     "data": {
      "text/plain": [
       "MultiIndex([( 'Mutiples',  'PER'),\n",
       "            ('Multiples',  'PBR'),\n",
       "            ('Dividends',  'DPS'),\n",
       "            ('Dividends', '배당성향')],\n",
       "           names=['Category', 'Factor'])"
      ]
     },
     "execution_count": 11,
     "metadata": {},
     "output_type": "execute_result"
    }
   ],
   "source": [
    "# 위키독스에서 제시한 답\n",
    "\n",
    "\n",
    "index = pd.MultiIndex.from_arrays(arrays, names=['Category', 'Factor'])\n",
    "\n",
    "index"
   ]
  },
  {
   "cell_type": "markdown",
   "id": "95906ac2",
   "metadata": {},
   "source": [
    "### pandas.MultiIndex\n",
    "tuples 변수가 바인딩하는 리스트로부터 먼저 MultiIndex 객체를 생성한 후 데이터프레임 객체를 생성하세요."
   ]
  },
  {
   "cell_type": "code",
   "execution_count": 12,
   "id": "0af5db8a",
   "metadata": {},
   "outputs": [],
   "source": [
    "import pandas as pd\n",
    "\n",
    "tuples = [\n",
    "    ('Multiples', 'PER'),\n",
    "    ('Multiples', 'PBR'),\n",
    "    ('Dividends', 'DPS'),\n",
    "    ('Dividends', '배당성향')\n",
    "]\n",
    "\n",
    "\n",
    "data = [\n",
    "    [21.09, 13.55],\n",
    "    [2.06, 1.80],\n",
    "    [2944, 1444],\n",
    "    [78, 25]\n",
    "]\n",
    "\n",
    "columns = [2020, 2021]"
   ]
  },
  {
   "cell_type": "code",
   "execution_count": 14,
   "id": "24c68a1c",
   "metadata": {},
   "outputs": [
    {
     "data": {
      "text/html": [
       "<div>\n",
       "<style scoped>\n",
       "    .dataframe tbody tr th:only-of-type {\n",
       "        vertical-align: middle;\n",
       "    }\n",
       "\n",
       "    .dataframe tbody tr th {\n",
       "        vertical-align: top;\n",
       "    }\n",
       "\n",
       "    .dataframe thead th {\n",
       "        text-align: right;\n",
       "    }\n",
       "</style>\n",
       "<table border=\"1\" class=\"dataframe\">\n",
       "  <thead>\n",
       "    <tr style=\"text-align: right;\">\n",
       "      <th></th>\n",
       "      <th></th>\n",
       "      <th>2020</th>\n",
       "      <th>2021</th>\n",
       "    </tr>\n",
       "    <tr>\n",
       "      <th>Category</th>\n",
       "      <th>Factor</th>\n",
       "      <th></th>\n",
       "      <th></th>\n",
       "    </tr>\n",
       "  </thead>\n",
       "  <tbody>\n",
       "    <tr>\n",
       "      <th rowspan=\"2\" valign=\"top\">Multiples</th>\n",
       "      <th>PER</th>\n",
       "      <td>21.09</td>\n",
       "      <td>13.55</td>\n",
       "    </tr>\n",
       "    <tr>\n",
       "      <th>PBR</th>\n",
       "      <td>2.06</td>\n",
       "      <td>1.80</td>\n",
       "    </tr>\n",
       "    <tr>\n",
       "      <th rowspan=\"2\" valign=\"top\">Dividends</th>\n",
       "      <th>DPS</th>\n",
       "      <td>2944.00</td>\n",
       "      <td>1444.00</td>\n",
       "    </tr>\n",
       "    <tr>\n",
       "      <th>배당성향</th>\n",
       "      <td>78.00</td>\n",
       "      <td>25.00</td>\n",
       "    </tr>\n",
       "  </tbody>\n",
       "</table>\n",
       "</div>"
      ],
      "text/plain": [
       "                     2020     2021\n",
       "Category  Factor                  \n",
       "Multiples PER       21.09    13.55\n",
       "          PBR        2.06     1.80\n",
       "Dividends DPS     2944.00  1444.00\n",
       "          배당성향      78.00    25.00"
      ]
     },
     "execution_count": 14,
     "metadata": {},
     "output_type": "execute_result"
    }
   ],
   "source": [
    "index = pd.MultiIndex.from_tuples(tuples, names=['Category', 'Factor'])\n",
    "df = pd.DataFrame(data=data, index=index, columns=columns)\n",
    "\n",
    "df"
   ]
  },
  {
   "cell_type": "markdown",
   "id": "0ffa067c",
   "metadata": {},
   "source": [
    "### MultiIndex 인덱싱\n",
    "다음 데이터프레임에서 빨간색 영역을 선택하세요."
   ]
  },
  {
   "cell_type": "code",
   "execution_count": 15,
   "id": "bf7f427e",
   "metadata": {},
   "outputs": [],
   "source": [
    "import pandas as pd\n",
    "\n",
    "tuples = [\n",
    "    ('Multiples', 'PER'),\n",
    "    ('Multiples', 'PBR'),\n",
    "    ('Dividends', 'DPS'),\n",
    "    ('Dividends', '배당성향')\n",
    "]\n",
    "\n",
    "\n",
    "data = [\n",
    "    [21.09, 13.55],\n",
    "    [2.06, 1.80],\n",
    "    [2944, 1444],\n",
    "    [78, 25]\n",
    "]\n",
    "\n",
    "columns = [2020, 2021]\n",
    "\n",
    "index = pd.MultiIndex.from_tuples(tuples, names=['Category', 'Factor'])\n",
    "df = pd.DataFrame(data=data, index=index, columns=columns)\n"
   ]
  },
  {
   "cell_type": "code",
   "execution_count": 16,
   "id": "f1149048",
   "metadata": {},
   "outputs": [
    {
     "data": {
      "text/html": [
       "<div>\n",
       "<style scoped>\n",
       "    .dataframe tbody tr th:only-of-type {\n",
       "        vertical-align: middle;\n",
       "    }\n",
       "\n",
       "    .dataframe tbody tr th {\n",
       "        vertical-align: top;\n",
       "    }\n",
       "\n",
       "    .dataframe thead th {\n",
       "        text-align: right;\n",
       "    }\n",
       "</style>\n",
       "<table border=\"1\" class=\"dataframe\">\n",
       "  <thead>\n",
       "    <tr style=\"text-align: right;\">\n",
       "      <th></th>\n",
       "      <th>2020</th>\n",
       "      <th>2021</th>\n",
       "    </tr>\n",
       "    <tr>\n",
       "      <th>Factor</th>\n",
       "      <th></th>\n",
       "      <th></th>\n",
       "    </tr>\n",
       "  </thead>\n",
       "  <tbody>\n",
       "    <tr>\n",
       "      <th>PER</th>\n",
       "      <td>21.09</td>\n",
       "      <td>13.55</td>\n",
       "    </tr>\n",
       "    <tr>\n",
       "      <th>PBR</th>\n",
       "      <td>2.06</td>\n",
       "      <td>1.80</td>\n",
       "    </tr>\n",
       "  </tbody>\n",
       "</table>\n",
       "</div>"
      ],
      "text/plain": [
       "         2020   2021\n",
       "Factor              \n",
       "PER     21.09  13.55\n",
       "PBR      2.06   1.80"
      ]
     },
     "execution_count": 16,
     "metadata": {},
     "output_type": "execute_result"
    }
   ],
   "source": [
    "#위키독스에서 제시한 답\n",
    "\n",
    "df.loc['Multiples']"
   ]
  },
  {
   "cell_type": "markdown",
   "id": "96f4b3d5",
   "metadata": {},
   "source": [
    "### pandas.MultiIndex 인덱싱\n",
    "위 데이터프레임에서 loc 속성을 이용해 Multiples의 PER 로우만 선택하세요."
   ]
  },
  {
   "cell_type": "code",
   "execution_count": 17,
   "id": "201da089",
   "metadata": {},
   "outputs": [
    {
     "data": {
      "text/plain": [
       "2020    21.09\n",
       "2021    13.55\n",
       "Name: (Multiples, PER), dtype: float64"
      ]
     },
     "execution_count": 17,
     "metadata": {},
     "output_type": "execute_result"
    }
   ],
   "source": [
    "df.loc[('Multiples', 'PER')]"
   ]
  },
  {
   "cell_type": "code",
   "execution_count": null,
   "id": "48a1bb71",
   "metadata": {},
   "outputs": [],
   "source": []
  }
 ],
 "metadata": {
  "kernelspec": {
   "display_name": "Python 3 (ipykernel)",
   "language": "python",
   "name": "python3"
  },
  "language_info": {
   "codemirror_mode": {
    "name": "ipython",
    "version": 3
   },
   "file_extension": ".py",
   "mimetype": "text/x-python",
   "name": "python",
   "nbconvert_exporter": "python",
   "pygments_lexer": "ipython3",
   "version": "3.9.13"
  }
 },
 "nbformat": 4,
 "nbformat_minor": 5
}
