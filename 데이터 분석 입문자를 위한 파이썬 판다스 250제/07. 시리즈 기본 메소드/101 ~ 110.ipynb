{
 "cells": [
  {
   "cell_type": "markdown",
   "id": "da17b67a",
   "metadata": {},
   "source": [
    "### 시리즈 sum 메소드\n",
    "\n",
    "다음은 삼성전자의 종가 데이터입니다. 데이터를 시리즈로 표현한 후 증가 데이터의 합을 출력해보세요."
   ]
  },
  {
   "cell_type": "code",
   "execution_count": 1,
   "id": "016dd68e",
   "metadata": {},
   "outputs": [
    {
     "data": {
      "text/plain": [
       "364800"
      ]
     },
     "execution_count": 1,
     "metadata": {},
     "output_type": "execute_result"
    }
   ],
   "source": [
    "import pandas as pd\n",
    "\n",
    "data = [73400, 72900, 73900, 71700, 72900]\n",
    "index = [\"2020-12-07\", \"2020-12-08\", \"2020-12-09\", \"2020-12-10\", \"2020-12-11\"]\n",
    "s = pd.Series(data, index)\n",
    "\n",
    "s.sum()"
   ]
  },
  {
   "cell_type": "markdown",
   "id": "06e3f5fd",
   "metadata": {},
   "source": [
    "### 시리즈 mean 메소드\n",
    "\n",
    "다음은 삼성전자의 종가 데이터입니다. 데이터를 시리즈로 표현한 후 종가 데이터의 평균을 출력하세요."
   ]
  },
  {
   "cell_type": "code",
   "execution_count": 3,
   "id": "6c5470c8",
   "metadata": {},
   "outputs": [
    {
     "data": {
      "text/plain": [
       "72960.0"
      ]
     },
     "execution_count": 3,
     "metadata": {},
     "output_type": "execute_result"
    }
   ],
   "source": [
    "import pandas as pd\n",
    "\n",
    "data = [73400, 72900, 73900, 71700, 72900]\n",
    "index = [\"2020-12-07\", \"2020-12-08\", \"2020-12-09\", \"2020-12-10\", \"2020-12-11\"]\n",
    "s = pd.Series(data, index)\n",
    "\n",
    "s.mean()"
   ]
  },
  {
   "cell_type": "markdown",
   "id": "49e8c3fe",
   "metadata": {},
   "source": [
    "### 시리즈 product 메소드\n",
    "\n",
    "다음은 일별 수익률을 배(ratio)율로 표현한 데이터입니다. 각 거래일의 수익률을 모두 곱한 값을 출력하세요."
   ]
  },
  {
   "cell_type": "code",
   "execution_count": 4,
   "id": "05bfb6d3",
   "metadata": {},
   "outputs": [
    {
     "data": {
      "text/plain": [
       "1.05049494"
      ]
     },
     "execution_count": 4,
     "metadata": {},
     "output_type": "execute_result"
    }
   ],
   "source": [
    "import pandas as pd\n",
    "\n",
    "data = [1.01, 0.99, 1.03, 1.02, 1]\n",
    "index = [\"2020-12-07\", \"2020-12-08\", \"2020-12-09\", \"2020-12-10\", \"2020-12-11\"]\n",
    "s = pd.Series(data, index)\n",
    "\n",
    "s.product()"
   ]
  },
  {
   "cell_type": "markdown",
   "id": "cb6ef3d9",
   "metadata": {},
   "source": [
    "### 시리즈 max/min 메소드\n",
    "\n",
    "다음은 삼성전자의 종가 데이터입니다. 데이터를 시리즈로 표현한 후 종가 데이터의 최댓값과 최솟값을 출력하세요."
   ]
  },
  {
   "cell_type": "code",
   "execution_count": 6,
   "id": "0fdde1fd",
   "metadata": {},
   "outputs": [
    {
     "name": "stdout",
     "output_type": "stream",
     "text": [
      "최댓 값:  73900\n",
      "최솟 값:  71700\n"
     ]
    }
   ],
   "source": [
    "import pandas as pd\n",
    "\n",
    "data = [73400, 72900, 73900, 71700, 72900]\n",
    "index = [\"2020-12-07\", \"2020-12-08\", \"2020-12-09\", \"2020-12-10\", \"2020-12-11\"]\n",
    "s = pd.Series(data, index)\n",
    "\n",
    "print(\"최댓 값: \", s.max())\n",
    "print(\"최솟 값: \", s.min())"
   ]
  }
 ],
 "metadata": {
  "kernelspec": {
   "display_name": "Python 3 (ipykernel)",
   "language": "python",
   "name": "python3"
  },
  "language_info": {
   "codemirror_mode": {
    "name": "ipython",
    "version": 3
   },
   "file_extension": ".py",
   "mimetype": "text/x-python",
   "name": "python",
   "nbconvert_exporter": "python",
   "pygments_lexer": "ipython3",
   "version": "3.9.12"
  }
 },
 "nbformat": 4,
 "nbformat_minor": 5
}
