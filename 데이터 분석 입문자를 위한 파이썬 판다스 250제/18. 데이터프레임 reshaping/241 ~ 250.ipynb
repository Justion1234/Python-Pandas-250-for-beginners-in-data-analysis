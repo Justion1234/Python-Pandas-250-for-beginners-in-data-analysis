{
 "cells": [
  {
   "cell_type": "code",
   "execution_count": 28,
   "id": "0cb1db13",
   "metadata": {},
   "outputs": [
    {
     "data": {
      "text/html": [
       "<div>\n",
       "<style scoped>\n",
       "    .dataframe tbody tr th:only-of-type {\n",
       "        vertical-align: middle;\n",
       "    }\n",
       "\n",
       "    .dataframe tbody tr th {\n",
       "        vertical-align: top;\n",
       "    }\n",
       "\n",
       "    .dataframe thead th {\n",
       "        text-align: right;\n",
       "    }\n",
       "</style>\n",
       "<table border=\"1\" class=\"dataframe\">\n",
       "  <thead>\n",
       "    <tr style=\"text-align: right;\">\n",
       "      <th></th>\n",
       "      <th>Date</th>\n",
       "      <th>삼성전자</th>\n",
       "      <th>카카오</th>\n",
       "      <th>NAVER</th>\n",
       "      <th>SK하이닉스</th>\n",
       "      <th>현대차</th>\n",
       "    </tr>\n",
       "  </thead>\n",
       "  <tbody>\n",
       "    <tr>\n",
       "      <th>0</th>\n",
       "      <td>2020-12-01</td>\n",
       "      <td>21.09</td>\n",
       "      <td>221.53</td>\n",
       "      <td>47.97</td>\n",
       "      <td>18.14</td>\n",
       "      <td>37.33</td>\n",
       "    </tr>\n",
       "    <tr>\n",
       "      <th>1</th>\n",
       "      <td>2021-12-01</td>\n",
       "      <td>13.55</td>\n",
       "      <td>35.92</td>\n",
       "      <td>3.77</td>\n",
       "      <td>9.93</td>\n",
       "      <td>11.71</td>\n",
       "    </tr>\n",
       "  </tbody>\n",
       "</table>\n",
       "</div>"
      ],
      "text/plain": [
       "        Date   삼성전자     카카오  NAVER  SK하이닉스    현대차\n",
       "0 2020-12-01  21.09  221.53  47.97   18.14  37.33\n",
       "1 2021-12-01  13.55   35.92   3.77    9.93  11.71"
      ]
     },
     "execution_count": 28,
     "metadata": {},
     "output_type": "execute_result"
    }
   ],
   "source": [
    "import pandas as pd\n",
    "from datetime import datetime\n",
    "\n",
    "data = {\n",
    "    'Date': [datetime(2020, 12, 1), datetime(2021, 12, 1)],\n",
    "    '삼성전자': [21.09, 13.55],\n",
    "    '카카오': [221.53, 35.92],\n",
    "    'NAVER': [47.97, 3.77],\n",
    "    'SK하이닉스': [18.14, 9.93],\n",
    "    '현대차': [37.33, 11.71]\n",
    "}\n",
    "\n",
    "df = pd.DataFrame(data=data)\n",
    "\n",
    "df"
   ]
  },
  {
   "cell_type": "markdown",
   "id": "a7c87cd8",
   "metadata": {},
   "source": [
    "### pandas.melt\n",
    "\n",
    "pandas melt 함수를 사용하여 위 데이터프레임을 다음과 같이 변경하세요.|"
   ]
  },
  {
   "cell_type": "code",
   "execution_count": 3,
   "id": "86ebae49",
   "metadata": {},
   "outputs": [
    {
     "data": {
      "text/html": [
       "<div>\n",
       "<style scoped>\n",
       "    .dataframe tbody tr th:only-of-type {\n",
       "        vertical-align: middle;\n",
       "    }\n",
       "\n",
       "    .dataframe tbody tr th {\n",
       "        vertical-align: top;\n",
       "    }\n",
       "\n",
       "    .dataframe thead th {\n",
       "        text-align: right;\n",
       "    }\n",
       "</style>\n",
       "<table border=\"1\" class=\"dataframe\">\n",
       "  <thead>\n",
       "    <tr style=\"text-align: right;\">\n",
       "      <th></th>\n",
       "      <th>Date</th>\n",
       "      <th>종목명</th>\n",
       "      <th>PER</th>\n",
       "    </tr>\n",
       "  </thead>\n",
       "  <tbody>\n",
       "    <tr>\n",
       "      <th>0</th>\n",
       "      <td>2020-12-01</td>\n",
       "      <td>삼성전자</td>\n",
       "      <td>21.09</td>\n",
       "    </tr>\n",
       "    <tr>\n",
       "      <th>1</th>\n",
       "      <td>2021-12-01</td>\n",
       "      <td>삼성전자</td>\n",
       "      <td>13.55</td>\n",
       "    </tr>\n",
       "    <tr>\n",
       "      <th>2</th>\n",
       "      <td>2020-12-01</td>\n",
       "      <td>카카오</td>\n",
       "      <td>221.53</td>\n",
       "    </tr>\n",
       "    <tr>\n",
       "      <th>3</th>\n",
       "      <td>2021-12-01</td>\n",
       "      <td>카카오</td>\n",
       "      <td>35.92</td>\n",
       "    </tr>\n",
       "    <tr>\n",
       "      <th>4</th>\n",
       "      <td>2020-12-01</td>\n",
       "      <td>NAVER</td>\n",
       "      <td>47.97</td>\n",
       "    </tr>\n",
       "    <tr>\n",
       "      <th>5</th>\n",
       "      <td>2021-12-01</td>\n",
       "      <td>NAVER</td>\n",
       "      <td>3.77</td>\n",
       "    </tr>\n",
       "    <tr>\n",
       "      <th>6</th>\n",
       "      <td>2020-12-01</td>\n",
       "      <td>SK하이닉스</td>\n",
       "      <td>18.14</td>\n",
       "    </tr>\n",
       "    <tr>\n",
       "      <th>7</th>\n",
       "      <td>2021-12-01</td>\n",
       "      <td>SK하이닉스</td>\n",
       "      <td>9.93</td>\n",
       "    </tr>\n",
       "    <tr>\n",
       "      <th>8</th>\n",
       "      <td>2020-12-01</td>\n",
       "      <td>현대차</td>\n",
       "      <td>37.33</td>\n",
       "    </tr>\n",
       "    <tr>\n",
       "      <th>9</th>\n",
       "      <td>2021-12-01</td>\n",
       "      <td>현대차</td>\n",
       "      <td>11.71</td>\n",
       "    </tr>\n",
       "  </tbody>\n",
       "</table>\n",
       "</div>"
      ],
      "text/plain": [
       "        Date     종목명     PER\n",
       "0 2020-12-01    삼성전자   21.09\n",
       "1 2021-12-01    삼성전자   13.55\n",
       "2 2020-12-01     카카오  221.53\n",
       "3 2021-12-01     카카오   35.92\n",
       "4 2020-12-01   NAVER   47.97\n",
       "5 2021-12-01   NAVER    3.77\n",
       "6 2020-12-01  SK하이닉스   18.14\n",
       "7 2021-12-01  SK하이닉스    9.93\n",
       "8 2020-12-01     현대차   37.33\n",
       "9 2021-12-01     현대차   11.71"
      ]
     },
     "execution_count": 3,
     "metadata": {},
     "output_type": "execute_result"
    }
   ],
   "source": [
    "df2 = pd.melt(df, id_vars=['Date'], var_name='종목명', value_name=\"PER\")\n",
    "df2"
   ]
  },
  {
   "cell_type": "code",
   "execution_count": 6,
   "id": "9e2f9ea5",
   "metadata": {},
   "outputs": [
    {
     "data": {
      "text/html": [
       "<div>\n",
       "<style scoped>\n",
       "    .dataframe tbody tr th:only-of-type {\n",
       "        vertical-align: middle;\n",
       "    }\n",
       "\n",
       "    .dataframe tbody tr th {\n",
       "        vertical-align: top;\n",
       "    }\n",
       "\n",
       "    .dataframe thead th {\n",
       "        text-align: right;\n",
       "    }\n",
       "</style>\n",
       "<table border=\"1\" class=\"dataframe\">\n",
       "  <thead>\n",
       "    <tr style=\"text-align: right;\">\n",
       "      <th></th>\n",
       "      <th>날짜</th>\n",
       "      <th>종목명</th>\n",
       "      <th>종가</th>\n",
       "    </tr>\n",
       "  </thead>\n",
       "  <tbody>\n",
       "    <tr>\n",
       "      <th>0</th>\n",
       "      <td>2021-08-12</td>\n",
       "      <td>삼성전자</td>\n",
       "      <td>77000</td>\n",
       "    </tr>\n",
       "    <tr>\n",
       "      <th>1</th>\n",
       "      <td>2021-08-13</td>\n",
       "      <td>삼성전자</td>\n",
       "      <td>74400</td>\n",
       "    </tr>\n",
       "    <tr>\n",
       "      <th>2</th>\n",
       "      <td>2021-08-12</td>\n",
       "      <td>LG전자</td>\n",
       "      <td>153000</td>\n",
       "    </tr>\n",
       "    <tr>\n",
       "      <th>3</th>\n",
       "      <td>2021-08-13</td>\n",
       "      <td>LG전자</td>\n",
       "      <td>150500</td>\n",
       "    </tr>\n",
       "    <tr>\n",
       "      <th>4</th>\n",
       "      <td>2021-08-12</td>\n",
       "      <td>SK하이닉스</td>\n",
       "      <td>100500</td>\n",
       "    </tr>\n",
       "    <tr>\n",
       "      <th>5</th>\n",
       "      <td>2021-08-13</td>\n",
       "      <td>SK하이닉스</td>\n",
       "      <td>101500</td>\n",
       "    </tr>\n",
       "  </tbody>\n",
       "</table>\n",
       "</div>"
      ],
      "text/plain": [
       "           날짜     종목명      종가\n",
       "0  2021-08-12    삼성전자   77000\n",
       "1  2021-08-13    삼성전자   74400\n",
       "2  2021-08-12    LG전자  153000\n",
       "3  2021-08-13    LG전자  150500\n",
       "4  2021-08-12  SK하이닉스  100500\n",
       "5  2021-08-13  SK하이닉스  101500"
      ]
     },
     "execution_count": 6,
     "metadata": {},
     "output_type": "execute_result"
    }
   ],
   "source": [
    "import pandas as pd\n",
    "\n",
    "data = [\n",
    "    [\"2021-08-12\", \"삼성전자\", 77000],\n",
    "    [\"2021-08-13\", \"삼성전자\", 74400],\n",
    "    [\"2021-08-12\", \"LG전자\", 153000],\n",
    "    [\"2021-08-13\", \"LG전자\", 150500],\n",
    "    [\"2021-08-12\", \"SK하이닉스\", 100500],\n",
    "    [\"2021-08-13\", \"SK하이닉스\", 101500]\n",
    "]\n",
    "columns = [\"날짜\", \"종목명\", \"종가\"]\n",
    "df = pd.DataFrame(data=data, columns=columns)\n",
    "\n",
    "df"
   ]
  },
  {
   "cell_type": "markdown",
   "id": "8e508047",
   "metadata": {},
   "source": [
    "### pandas.pivot\n",
    "\n",
    "위 데이터프레임 df를 pandas pivot 함수를 사용해 다음 그림과 같이 변환해보세요."
   ]
  },
  {
   "cell_type": "code",
   "execution_count": 7,
   "id": "7180fd5b",
   "metadata": {},
   "outputs": [
    {
     "data": {
      "text/html": [
       "<div>\n",
       "<style scoped>\n",
       "    .dataframe tbody tr th:only-of-type {\n",
       "        vertical-align: middle;\n",
       "    }\n",
       "\n",
       "    .dataframe tbody tr th {\n",
       "        vertical-align: top;\n",
       "    }\n",
       "\n",
       "    .dataframe thead th {\n",
       "        text-align: right;\n",
       "    }\n",
       "</style>\n",
       "<table border=\"1\" class=\"dataframe\">\n",
       "  <thead>\n",
       "    <tr style=\"text-align: right;\">\n",
       "      <th>날짜</th>\n",
       "      <th>2021-08-12</th>\n",
       "      <th>2021-08-13</th>\n",
       "    </tr>\n",
       "    <tr>\n",
       "      <th>종목명</th>\n",
       "      <th></th>\n",
       "      <th></th>\n",
       "    </tr>\n",
       "  </thead>\n",
       "  <tbody>\n",
       "    <tr>\n",
       "      <th>LG전자</th>\n",
       "      <td>153000</td>\n",
       "      <td>150500</td>\n",
       "    </tr>\n",
       "    <tr>\n",
       "      <th>SK하이닉스</th>\n",
       "      <td>100500</td>\n",
       "      <td>101500</td>\n",
       "    </tr>\n",
       "    <tr>\n",
       "      <th>삼성전자</th>\n",
       "      <td>77000</td>\n",
       "      <td>74400</td>\n",
       "    </tr>\n",
       "  </tbody>\n",
       "</table>\n",
       "</div>"
      ],
      "text/plain": [
       "날짜      2021-08-12  2021-08-13\n",
       "종목명                           \n",
       "LG전자        153000      150500\n",
       "SK하이닉스      100500      101500\n",
       "삼성전자         77000       74400"
      ]
     },
     "execution_count": 7,
     "metadata": {},
     "output_type": "execute_result"
    }
   ],
   "source": [
    "pd.pivot(df, index='종목명', columns='날짜', values='종가')"
   ]
  },
  {
   "cell_type": "markdown",
   "id": "5f7f6558",
   "metadata": {},
   "source": [
    "### DataFrame stack\n",
    "다음 데이터프레임 df를 stack 메서드를 사용해서 그림과 같이 변환해보세요. 변환된 데이터프레임을 stacked 변수로 바인딩하세요."
   ]
  },
  {
   "cell_type": "code",
   "execution_count": 9,
   "id": "00e4bd01",
   "metadata": {},
   "outputs": [
    {
     "data": {
      "text/html": [
       "<div>\n",
       "<style scoped>\n",
       "    .dataframe tbody tr th:only-of-type {\n",
       "        vertical-align: middle;\n",
       "    }\n",
       "\n",
       "    .dataframe tbody tr th {\n",
       "        vertical-align: top;\n",
       "    }\n",
       "\n",
       "    .dataframe thead tr th {\n",
       "        text-align: left;\n",
       "    }\n",
       "</style>\n",
       "<table border=\"1\" class=\"dataframe\">\n",
       "  <thead>\n",
       "    <tr>\n",
       "      <th></th>\n",
       "      <th colspan=\"2\" halign=\"left\">영업이익</th>\n",
       "      <th colspan=\"2\" halign=\"left\">당기순이익</th>\n",
       "    </tr>\n",
       "    <tr>\n",
       "      <th></th>\n",
       "      <th>컨센서스</th>\n",
       "      <th>잠정치</th>\n",
       "      <th>컨센서스</th>\n",
       "      <th>잠정치</th>\n",
       "    </tr>\n",
       "  </thead>\n",
       "  <tbody>\n",
       "    <tr>\n",
       "      <th>2020-06-01</th>\n",
       "      <td>100</td>\n",
       "      <td>900</td>\n",
       "      <td>800</td>\n",
       "      <td>700</td>\n",
       "    </tr>\n",
       "    <tr>\n",
       "      <th>2020-09-01</th>\n",
       "      <td>1200</td>\n",
       "      <td>1400</td>\n",
       "      <td>900</td>\n",
       "      <td>800</td>\n",
       "    </tr>\n",
       "  </tbody>\n",
       "</table>\n",
       "</div>"
      ],
      "text/plain": [
       "            영업이익       당기순이익     \n",
       "            컨센서스   잠정치  컨센서스  잠정치\n",
       "2020-06-01   100   900   800  700\n",
       "2020-09-01  1200  1400   900  800"
      ]
     },
     "execution_count": 9,
     "metadata": {},
     "output_type": "execute_result"
    }
   ],
   "source": [
    "import pandas as pd\n",
    "from datetime import datetime\n",
    "\n",
    "arrays = [\n",
    "    ['영업이익', '영업이익', '당기순이익', '당기순이익'],\n",
    "    ['컨센서스', '잠정치', '컨센서스', '잠정치']\n",
    "]\n",
    "\n",
    "columns = pd.MultiIndex.from_arrays(arrays)\n",
    "index = [datetime(2020, 6, 1), datetime(2020, 9, 1)]\n",
    "data = [\n",
    "    [100, 900, 800, 700],\n",
    "    [1200, 1400, 900, 800]\n",
    "]\n",
    "df = pd.DataFrame(data=data, index=index, columns=columns)\n",
    "\n",
    "df"
   ]
  },
  {
   "cell_type": "code",
   "execution_count": 11,
   "id": "072df9f9",
   "metadata": {},
   "outputs": [
    {
     "data": {
      "text/html": [
       "<div>\n",
       "<style scoped>\n",
       "    .dataframe tbody tr th:only-of-type {\n",
       "        vertical-align: middle;\n",
       "    }\n",
       "\n",
       "    .dataframe tbody tr th {\n",
       "        vertical-align: top;\n",
       "    }\n",
       "\n",
       "    .dataframe thead th {\n",
       "        text-align: right;\n",
       "    }\n",
       "</style>\n",
       "<table border=\"1\" class=\"dataframe\">\n",
       "  <thead>\n",
       "    <tr style=\"text-align: right;\">\n",
       "      <th></th>\n",
       "      <th></th>\n",
       "      <th>당기순이익</th>\n",
       "      <th>영업이익</th>\n",
       "    </tr>\n",
       "  </thead>\n",
       "  <tbody>\n",
       "    <tr>\n",
       "      <th rowspan=\"2\" valign=\"top\">2020-06-01</th>\n",
       "      <th>잠정치</th>\n",
       "      <td>700</td>\n",
       "      <td>900</td>\n",
       "    </tr>\n",
       "    <tr>\n",
       "      <th>컨센서스</th>\n",
       "      <td>800</td>\n",
       "      <td>100</td>\n",
       "    </tr>\n",
       "    <tr>\n",
       "      <th rowspan=\"2\" valign=\"top\">2020-09-01</th>\n",
       "      <th>잠정치</th>\n",
       "      <td>800</td>\n",
       "      <td>1400</td>\n",
       "    </tr>\n",
       "    <tr>\n",
       "      <th>컨센서스</th>\n",
       "      <td>900</td>\n",
       "      <td>1200</td>\n",
       "    </tr>\n",
       "  </tbody>\n",
       "</table>\n",
       "</div>"
      ],
      "text/plain": [
       "                 당기순이익  영업이익\n",
       "2020-06-01 잠정치     700   900\n",
       "           컨센서스    800   100\n",
       "2020-09-01 잠정치     800  1400\n",
       "           컨센서스    900  1200"
      ]
     },
     "execution_count": 11,
     "metadata": {},
     "output_type": "execute_result"
    }
   ],
   "source": [
    "#위키독스에서 제시하는 답:\n",
    "\n",
    "stacked = df.stack()\n",
    "\n",
    "stacked"
   ]
  },
  {
   "cell_type": "markdown",
   "id": "7428a1a7",
   "metadata": {},
   "source": [
    "### DataFrame stack\n",
    "\n",
    "위 데이터프레임 df를 stack 메서드를 사용하여 다음 그림과 같이 변환해보세요."
   ]
  },
  {
   "cell_type": "code",
   "execution_count": 12,
   "id": "eb7c225d",
   "metadata": {},
   "outputs": [
    {
     "data": {
      "text/html": [
       "<div>\n",
       "<style scoped>\n",
       "    .dataframe tbody tr th:only-of-type {\n",
       "        vertical-align: middle;\n",
       "    }\n",
       "\n",
       "    .dataframe tbody tr th {\n",
       "        vertical-align: top;\n",
       "    }\n",
       "\n",
       "    .dataframe thead th {\n",
       "        text-align: right;\n",
       "    }\n",
       "</style>\n",
       "<table border=\"1\" class=\"dataframe\">\n",
       "  <thead>\n",
       "    <tr style=\"text-align: right;\">\n",
       "      <th></th>\n",
       "      <th></th>\n",
       "      <th>잠정치</th>\n",
       "      <th>컨센서스</th>\n",
       "    </tr>\n",
       "  </thead>\n",
       "  <tbody>\n",
       "    <tr>\n",
       "      <th rowspan=\"2\" valign=\"top\">2020-06-01</th>\n",
       "      <th>당기순이익</th>\n",
       "      <td>700</td>\n",
       "      <td>800</td>\n",
       "    </tr>\n",
       "    <tr>\n",
       "      <th>영업이익</th>\n",
       "      <td>900</td>\n",
       "      <td>100</td>\n",
       "    </tr>\n",
       "    <tr>\n",
       "      <th rowspan=\"2\" valign=\"top\">2020-09-01</th>\n",
       "      <th>당기순이익</th>\n",
       "      <td>800</td>\n",
       "      <td>900</td>\n",
       "    </tr>\n",
       "    <tr>\n",
       "      <th>영업이익</th>\n",
       "      <td>1400</td>\n",
       "      <td>1200</td>\n",
       "    </tr>\n",
       "  </tbody>\n",
       "</table>\n",
       "</div>"
      ],
      "text/plain": [
       "                   잠정치  컨센서스\n",
       "2020-06-01 당기순이익   700   800\n",
       "           영업이익    900   100\n",
       "2020-09-01 당기순이익   800   900\n",
       "           영업이익   1400  1200"
      ]
     },
     "execution_count": 12,
     "metadata": {},
     "output_type": "execute_result"
    }
   ],
   "source": [
    "df.stack(level=0)"
   ]
  },
  {
   "cell_type": "markdown",
   "id": "c08a31ff",
   "metadata": {},
   "source": [
    "### DataFrame.unstack\n",
    "\n",
    "stacked 변수가 바인딩하는 데이터프레임에 unstack 메서드를 호출해보세요."
   ]
  },
  {
   "cell_type": "code",
   "execution_count": 13,
   "id": "4e56b966",
   "metadata": {},
   "outputs": [
    {
     "data": {
      "text/html": [
       "<div>\n",
       "<style scoped>\n",
       "    .dataframe tbody tr th:only-of-type {\n",
       "        vertical-align: middle;\n",
       "    }\n",
       "\n",
       "    .dataframe tbody tr th {\n",
       "        vertical-align: top;\n",
       "    }\n",
       "\n",
       "    .dataframe thead tr th {\n",
       "        text-align: left;\n",
       "    }\n",
       "</style>\n",
       "<table border=\"1\" class=\"dataframe\">\n",
       "  <thead>\n",
       "    <tr>\n",
       "      <th></th>\n",
       "      <th colspan=\"2\" halign=\"left\">당기순이익</th>\n",
       "      <th colspan=\"2\" halign=\"left\">영업이익</th>\n",
       "    </tr>\n",
       "    <tr>\n",
       "      <th></th>\n",
       "      <th>잠정치</th>\n",
       "      <th>컨센서스</th>\n",
       "      <th>잠정치</th>\n",
       "      <th>컨센서스</th>\n",
       "    </tr>\n",
       "  </thead>\n",
       "  <tbody>\n",
       "    <tr>\n",
       "      <th>2020-06-01</th>\n",
       "      <td>700</td>\n",
       "      <td>800</td>\n",
       "      <td>900</td>\n",
       "      <td>100</td>\n",
       "    </tr>\n",
       "    <tr>\n",
       "      <th>2020-09-01</th>\n",
       "      <td>800</td>\n",
       "      <td>900</td>\n",
       "      <td>1400</td>\n",
       "      <td>1200</td>\n",
       "    </tr>\n",
       "  </tbody>\n",
       "</table>\n",
       "</div>"
      ],
      "text/plain": [
       "           당기순이익       영업이익      \n",
       "             잠정치 컨센서스   잠정치  컨센서스\n",
       "2020-06-01   700  800   900   100\n",
       "2020-09-01   800  900  1400  1200"
      ]
     },
     "execution_count": 13,
     "metadata": {},
     "output_type": "execute_result"
    }
   ],
   "source": [
    "stacked.unstack()"
   ]
  },
  {
   "cell_type": "markdown",
   "id": "6dbcf972",
   "metadata": {},
   "source": [
    "### pandas.cut\n",
    "\n",
    "다음 값을 판다스의 cut 함수를 사용하여 3개의 구간으로 나누세요."
   ]
  },
  {
   "cell_type": "code",
   "execution_count": 21,
   "id": "aedeac5a",
   "metadata": {},
   "outputs": [
    {
     "data": {
      "text/plain": [
       "array([1, 7, 5, 4, 6, 3])"
      ]
     },
     "execution_count": 21,
     "metadata": {},
     "output_type": "execute_result"
    }
   ],
   "source": [
    "import numpy as np\n",
    "\n",
    "arr = np.array([1, 7, 5, 4, 6, 3])\n",
    "\n",
    "arr"
   ]
  },
  {
   "cell_type": "code",
   "execution_count": 22,
   "id": "9d709831",
   "metadata": {},
   "outputs": [
    {
     "data": {
      "text/plain": [
       "[(0.994, 3.0], (5.0, 7.0], (3.0, 5.0], (3.0, 5.0], (5.0, 7.0], (0.994, 3.0]]\n",
       "Categories (3, interval[float64, right]): [(0.994, 3.0] < (3.0, 5.0] < (5.0, 7.0]]"
      ]
     },
     "execution_count": 22,
     "metadata": {},
     "output_type": "execute_result"
    }
   ],
   "source": [
    "pd.cut(arr, 3)"
   ]
  },
  {
   "cell_type": "markdown",
   "id": "05f78a72",
   "metadata": {},
   "source": [
    "### pandas.cut labels\n",
    "\n",
    "다음 값을 판다스의 cut 함수를 사용하여 3개의 구간으로 나누세요. 각 구간의 라벨은 'bad', 'medium', 'good'입니다."
   ]
  },
  {
   "cell_type": "code",
   "execution_count": 23,
   "id": "591913f5",
   "metadata": {},
   "outputs": [],
   "source": [
    "import numpy as np \n",
    "arr = np.array([1,  7,  5,  4,  6,  3])"
   ]
  },
  {
   "cell_type": "code",
   "execution_count": 25,
   "id": "e61ba983",
   "metadata": {},
   "outputs": [
    {
     "data": {
      "text/plain": [
       "['bad', 'good', 'medium', 'medium', 'good', 'bad']\n",
       "Categories (3, object): ['bad' < 'medium' < 'good']"
      ]
     },
     "execution_count": 25,
     "metadata": {},
     "output_type": "execute_result"
    }
   ],
   "source": [
    "pd.cut((arr), 3, labels=[\"bad\", \"medium\", \"good\"])"
   ]
  },
  {
   "cell_type": "markdown",
   "id": "57d91052",
   "metadata": {},
   "source": [
    "### pandas cut\n",
    "\n",
    "다음 시리즈 객체에 대해서 수, 우, 미, 양, 가로 평가하세요."
   ]
  },
  {
   "cell_type": "code",
   "execution_count": 26,
   "id": "aa6433fc",
   "metadata": {},
   "outputs": [],
   "source": [
    "import pandas as pd\n",
    "\n",
    "scores = [90, 55, 73, 87, 80, 66, 40, 100]\n",
    "s = pd.Series(scores)"
   ]
  },
  {
   "cell_type": "code",
   "execution_count": 27,
   "id": "5092dff3",
   "metadata": {},
   "outputs": [
    {
     "data": {
      "text/plain": [
       "0    수\n",
       "1    가\n",
       "2    미\n",
       "3    우\n",
       "4    우\n",
       "5    양\n",
       "6    가\n",
       "7    수\n",
       "dtype: category\n",
       "Categories (5, object): ['가' < '양' < '미' < '우' < '수']"
      ]
     },
     "execution_count": 27,
     "metadata": {},
     "output_type": "execute_result"
    }
   ],
   "source": [
    "#위키독스에서 제시한 답\n",
    "\n",
    "import pandas as pd\n",
    "\n",
    "scores = [90, 55, 73, 87, 80, 66, 40, 100]\n",
    "s = pd.Series(scores)\n",
    "pd.cut(s, \n",
    "       bins=[0, 60, 70, 80, 90, 101], \n",
    "       right=False, \n",
    "       labels=[\"가\",\"양\",\"미\",\"우\",\"수\"])"
   ]
  },
  {
   "cell_type": "code",
   "execution_count": null,
   "id": "13d18af4",
   "metadata": {},
   "outputs": [],
   "source": []
  }
 ],
 "metadata": {
  "kernelspec": {
   "display_name": "Python 3 (ipykernel)",
   "language": "python",
   "name": "python3"
  },
  "language_info": {
   "codemirror_mode": {
    "name": "ipython",
    "version": 3
   },
   "file_extension": ".py",
   "mimetype": "text/x-python",
   "name": "python",
   "nbconvert_exporter": "python",
   "pygments_lexer": "ipython3",
   "version": "3.9.13"
  }
 },
 "nbformat": 4,
 "nbformat_minor": 5
}
