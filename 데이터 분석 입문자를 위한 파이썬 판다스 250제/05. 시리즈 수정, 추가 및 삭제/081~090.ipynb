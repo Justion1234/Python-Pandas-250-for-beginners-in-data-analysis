{
 "cells": [
  {
   "cell_type": "markdown",
   "id": "27aa9a56",
   "metadata": {},
   "source": [
    "### 시리즈 추가\n",
    "\n",
    "시리즈에 순이 인덱스에 400을 추가하라.\n",
    "\n",
    "data = [100, 200, 300]  \n",
    "index = [\"철수\", \"영희\", \"아름\"]  \n",
    "s = Series(data, index)"
   ]
  },
  {
   "cell_type": "code",
   "execution_count": 2,
   "id": "634be0d0",
   "metadata": {},
   "outputs": [
    {
     "data": {
      "text/plain": [
       "철수    100\n",
       "영희    200\n",
       "아름    300\n",
       "순이    400\n",
       "dtype: int64"
      ]
     },
     "execution_count": 2,
     "metadata": {},
     "output_type": "execute_result"
    }
   ],
   "source": [
    "import pandas as pd\n",
    "\n",
    "data = [100, 200, 300]\n",
    "index = [\"철수\", \"영희\", \"아름\"]\n",
    "s = pd.Series(data, index)\n",
    "\n",
    "s['순이'] = 400\n",
    "s"
   ]
  },
  {
   "cell_type": "code",
   "execution_count": 3,
   "id": "81eb0224",
   "metadata": {},
   "outputs": [
    {
     "data": {
      "text/plain": [
       "철수    100\n",
       "영희    200\n",
       "아름    300\n",
       "순이    400\n",
       "dtype: int64"
      ]
     },
     "execution_count": 3,
     "metadata": {},
     "output_type": "execute_result"
    }
   ],
   "source": [
    "#위키백과에서 제시한 답\n",
    "\n",
    "data = [100, 200, 300]\n",
    "index = [\"철수\", \"영희\", \"아름\"]\n",
    "s = pd.Series(data, index)\n",
    "\n",
    "s.loc['순이'] = 400\n",
    "s"
   ]
  },
  {
   "cell_type": "markdown",
   "id": "bf20e2e4",
   "metadata": {},
   "source": [
    "### 시리즈 삭제\n",
    "\n",
    "시리즈에 철수를 삭제하라.\n",
    "\n",
    "data = [100, 200, 300]  \n",
    "index = [\"철수\", \"영희\", \"아름\"]  \n",
    "s = pd.Series(data, index)"
   ]
  },
  {
   "cell_type": "code",
   "execution_count": 4,
   "id": "e8ef6c35",
   "metadata": {},
   "outputs": [
    {
     "data": {
      "text/plain": [
       "영희    200\n",
       "아름    300\n",
       "dtype: int64"
      ]
     },
     "execution_count": 4,
     "metadata": {},
     "output_type": "execute_result"
    }
   ],
   "source": [
    "data = [100, 200, 300]\n",
    "index = [\"철수\", \"영희\", \"아름\"]\n",
    "s = pd.Series(data, index)\n",
    "\n",
    "del s['철수']\n",
    "s"
   ]
  },
  {
   "cell_type": "markdown",
   "id": "dfc627dc",
   "metadata": {},
   "source": [
    "### 시리즈 삭제(inplace)\n",
    "\n",
    "시리즈 객체에서 drop 메소드를 사용하여 철수를 삭제하세요. 이때 drop 메소드의 인자로 inplace=True를 사용해보고 그 의미를 설명해보세요.\n",
    "\n",
    "data = [100, 200, 300]  \n",
    "index = [\"철수\", \"영희\", \"아름\"]  \n",
    "s = pd.Series(data, index)"
   ]
  },
  {
   "cell_type": "code",
   "execution_count": 11,
   "id": "6ad8a811",
   "metadata": {},
   "outputs": [
    {
     "data": {
      "text/plain": [
       "영희    200\n",
       "아름    300\n",
       "dtype: int64"
      ]
     },
     "execution_count": 11,
     "metadata": {},
     "output_type": "execute_result"
    }
   ],
   "source": [
    "data = [100, 200, 300]\n",
    "index = [\"철수\", \"영희\", \"아름\"]\n",
    "s = pd.Series(data, index)\n",
    "s.drop('철수', inplace=True)\n",
    "s\n",
    "\n",
    "#inplace=True 변동 사항을 저장"
   ]
  },
  {
   "cell_type": "markdown",
   "id": "c86812a2",
   "metadata": {},
   "source": [
    "### unique\n",
    "\n",
    "다음 시리즈 객체는 주식 종목별로 업종을 나타냅니다. 업종 중 중복적인 값을 제외한 값을 출력해보세요.\n",
    "\n",
    "from pandas import Series\n",
    "\n",
    "data = {  \n",
    "    \"삼성전자\": \"전기,전자\",  \n",
    "    \"LG전자\": \"전기,전자\",  \n",
    "    \"현대차\": \"운수장비\",  \n",
    "    \"NAVER\": \"서비스업\",  \n",
    "    \"카카오\": \"서비스업\"  \n",
    "}\n",
    "\n",
    "s = Series(data)"
   ]
  },
  {
   "cell_type": "code",
   "execution_count": 12,
   "id": "981d96b2",
   "metadata": {},
   "outputs": [
    {
     "data": {
      "text/plain": [
       "<bound method Series.unique of 삼성전자     전기,전자\n",
       "LG전자     전기,전자\n",
       "현대차       운수장비\n",
       "NAVER     서비스업\n",
       "카카오       서비스업\n",
       "dtype: object>"
      ]
     },
     "execution_count": 12,
     "metadata": {},
     "output_type": "execute_result"
    }
   ],
   "source": [
    "from pandas import Series\n",
    "\n",
    "data = {\n",
    "    \"삼성전자\": \"전기,전자\",\n",
    "    \"LG전자\": \"전기,전자\",\n",
    "    \"현대차\": \"운수장비\",\n",
    "    \"NAVER\": \"서비스업\",\n",
    "    \"카카오\": \"서비스업\"\n",
    "}\n",
    "s = Series(data)\n",
    "\n",
    "s.unique"
   ]
  },
  {
   "cell_type": "markdown",
   "id": "736d8df5",
   "metadata": {},
   "source": [
    "### unique\n",
    "\n",
    "다음 시리즈 객체는 파이스탁 출판사의 저녁 식대 지출 내역입니다. 식대 금액에 대해서 중복적인 값을 제외한 값만 출력해보세요.\n",
    "\n",
    "import pandas as pd  \n",
    "\n",
    "s = pd.Series(  \n",
    "    data = [9000, 9000, 8000, 9000, 10000],  \n",
    "    index = ['김과장', '이대리', '박전무', '이대리', '이대리']  \n",
    ")"
   ]
  },
  {
   "cell_type": "code",
   "execution_count": 14,
   "id": "b1ec3519",
   "metadata": {},
   "outputs": [
    {
     "data": {
      "text/plain": [
       "array([ 9000,  8000, 10000], dtype=int64)"
      ]
     },
     "execution_count": 14,
     "metadata": {},
     "output_type": "execute_result"
    }
   ],
   "source": [
    "import pandas as pd\n",
    "\n",
    "s = pd.Series(\n",
    "    data = [9000, 9000, 8000, 9000, 10000],\n",
    "    index = ['김과장', '이대리', '박전무', '이대리', '이대리']\n",
    ")\n",
    "\n",
    "s.unique()"
   ]
  },
  {
   "cell_type": "markdown",
   "id": "f451beca",
   "metadata": {},
   "source": [
    "### unique\n",
    "\n",
    "다음 시리즈 객체는 파이스탁 출파사의 저녁 식대 지출 내역입니다. 한 번이라도 야근한 직원들의 명부를 출력해보세요."
   ]
  },
  {
   "cell_type": "code",
   "execution_count": 15,
   "id": "602a4c75",
   "metadata": {},
   "outputs": [
    {
     "data": {
      "text/plain": [
       "Index(['김과장', '이대리', '박전무'], dtype='object')"
      ]
     },
     "execution_count": 15,
     "metadata": {},
     "output_type": "execute_result"
    }
   ],
   "source": [
    "import pandas as pd\n",
    "\n",
    "s = pd.Series(\n",
    "    data = [9000, 9000, 8000, 9000, 10000],\n",
    "    index = ['김과장', '이대리', '박전무', '이대리', '이대리']\n",
    ")\n",
    "\n",
    "s.index.unique()"
   ]
  },
  {
   "cell_type": "markdown",
   "id": "7bab8762",
   "metadata": {},
   "source": [
    "### value_counts\n",
    "\n",
    "다음 시리즈 객체는 파이스탁 출판사의 저녁 식대 지출 내역입니다. 식대 금액별로 횟수를 출력해보세요.\n",
    "\n",
    "import pandas as pd\n",
    "\n",
    "s = pd.Series(  \n",
    "    data = [9000, 9000, 8000, 9000, 10000],  \n",
    "    index = ['김과장', '이대리', '박전무', '이대리', '이대리']  \n",
    ")"
   ]
  },
  {
   "cell_type": "code",
   "execution_count": 1,
   "id": "c0462f9b",
   "metadata": {},
   "outputs": [
    {
     "data": {
      "text/plain": [
       "9000     3\n",
       "8000     1\n",
       "10000    1\n",
       "dtype: int64"
      ]
     },
     "execution_count": 1,
     "metadata": {},
     "output_type": "execute_result"
    }
   ],
   "source": [
    "import pandas as pd\n",
    "\n",
    "s = pd.Series(\n",
    "    data = [9000, 9000, 8000, 9000, 10000],\n",
    "    index = ['김과장', '이대리', '박전무', '이대리', '이대리']\n",
    ")\n",
    "\n",
    "\n",
    "s.value_counts()"
   ]
  },
  {
   "cell_type": "markdown",
   "id": "a06f9914",
   "metadata": {},
   "source": [
    "### value_counts\n",
    "\n",
    "다음 시리즈 객체는 종목에 대한 업종 정보를 표현합니다. 업종별 발생 횟수를 출력해보세요.\n",
    "\n",
    "from pandas import Series\n",
    "\n",
    "data = {  \n",
    "    \"삼성전자\": \"전기,전자\",  \n",
    "    \"LG전자\": \"전기,전자\",  \n",
    "    \"현대차\": \"운수장비\",  \n",
    "    \"NAVER\": \"서비스업\",  \n",
    "    \"카카오\": \"서비스업\"  \n",
    "}  \n",
    "\n",
    "s = Series(data)"
   ]
  },
  {
   "cell_type": "code",
   "execution_count": 2,
   "id": "7ce205b5",
   "metadata": {},
   "outputs": [
    {
     "data": {
      "text/plain": [
       "전기,전자    2\n",
       "서비스업     2\n",
       "운수장비     1\n",
       "dtype: int64"
      ]
     },
     "execution_count": 2,
     "metadata": {},
     "output_type": "execute_result"
    }
   ],
   "source": [
    "data = {\n",
    "    \"삼성전자\": \"전기,전자\",\n",
    "    \"LG전자\": \"전기,전자\",\n",
    "    \"현대차\": \"운수장비\",\n",
    "    \"NAVER\": \"서비스업\",\n",
    "    \"카카오\": \"서비스업\"\n",
    "}\n",
    "s = pd.Series(data)\n",
    "s.value_counts()"
   ]
  },
  {
   "cell_type": "markdown",
   "id": "7706fdec",
   "metadata": {},
   "source": [
    "### missing data\n",
    "\n",
    "아래 표는 어떤 회사의 재무제표의 일부 항목입니다. 다음 표를 판다스 시리즈 객체로 생성하세요. PER 값이 존재하지 않는데 이를 numpy 모듈의 nan 타입을 사용해서 표현하면 됩니다."
   ]
  },
  {
   "cell_type": "code",
   "execution_count": 5,
   "id": "e2e2c589",
   "metadata": {},
   "outputs": [],
   "source": [
    "import numpy as np\n",
    "\n",
    "\n",
    "s = pd.Series(\n",
    "    data = [300, np.nan , 2.0],\n",
    "    index = ['매출액', 'PER', 'PBR']\n",
    ")\n"
   ]
  }
 ],
 "metadata": {
  "kernelspec": {
   "display_name": "Python 3 (ipykernel)",
   "language": "python",
   "name": "python3"
  },
  "language_info": {
   "codemirror_mode": {
    "name": "ipython",
    "version": 3
   },
   "file_extension": ".py",
   "mimetype": "text/x-python",
   "name": "python",
   "nbconvert_exporter": "python",
   "pygments_lexer": "ipython3",
   "version": "3.9.12"
  }
 },
 "nbformat": 4,
 "nbformat_minor": 5
}
