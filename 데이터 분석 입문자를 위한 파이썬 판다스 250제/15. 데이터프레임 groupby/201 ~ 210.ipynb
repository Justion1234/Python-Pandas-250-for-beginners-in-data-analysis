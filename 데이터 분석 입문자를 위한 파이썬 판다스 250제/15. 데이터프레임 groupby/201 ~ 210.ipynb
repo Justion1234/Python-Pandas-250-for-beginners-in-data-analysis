{
 "cells": [
  {
   "cell_type": "markdown",
   "id": "826ef011",
   "metadata": {},
   "source": [
    "### DataFrame.groupby mean\n",
    "\n",
    "다음 데이터프레임에서 테마별 PER, PBR 의 평균을 계산하세요.\n",
    "\n",
    "\n",
    "data = [  \n",
    "    [\"2차전지(생산)\", \"SK이노베이션\", 10.19, 1.29],  \n",
    "    [\"해운\", \"팬오션\", 21.23, 0.95],  \n",
    "    [\"시스템반도체\", \"티엘아이\", 35.97, 1.12],  \n",
    "    [\"해운\", \"HMM\", 21.52, 3.20],  \n",
    "    [\"시스템반도체\", \"아이에이\", 37.32, 3.55],  \n",
    "    [\"2차전지(생산)\", \"LG화학\", 83.06, 3.75]  \n",
    "]\n",
    "\n",
    "columns = [\"테마\", \"종목명\", \"PER\", \"PBR\"]  \n",
    "df = pd.DataFrame(data=data, columns=columns)"
   ]
  },
  {
   "cell_type": "code",
   "execution_count": 1,
   "id": "f67161ce",
   "metadata": {},
   "outputs": [
    {
     "data": {
      "text/html": [
       "<div>\n",
       "<style scoped>\n",
       "    .dataframe tbody tr th:only-of-type {\n",
       "        vertical-align: middle;\n",
       "    }\n",
       "\n",
       "    .dataframe tbody tr th {\n",
       "        vertical-align: top;\n",
       "    }\n",
       "\n",
       "    .dataframe thead th {\n",
       "        text-align: right;\n",
       "    }\n",
       "</style>\n",
       "<table border=\"1\" class=\"dataframe\">\n",
       "  <thead>\n",
       "    <tr style=\"text-align: right;\">\n",
       "      <th></th>\n",
       "      <th>PER</th>\n",
       "      <th>PBR</th>\n",
       "    </tr>\n",
       "    <tr>\n",
       "      <th>테마</th>\n",
       "      <th></th>\n",
       "      <th></th>\n",
       "    </tr>\n",
       "  </thead>\n",
       "  <tbody>\n",
       "    <tr>\n",
       "      <th>2차전지(생산)</th>\n",
       "      <td>46.625</td>\n",
       "      <td>2.520</td>\n",
       "    </tr>\n",
       "    <tr>\n",
       "      <th>시스템반도체</th>\n",
       "      <td>36.645</td>\n",
       "      <td>2.335</td>\n",
       "    </tr>\n",
       "    <tr>\n",
       "      <th>해운</th>\n",
       "      <td>21.375</td>\n",
       "      <td>2.075</td>\n",
       "    </tr>\n",
       "  </tbody>\n",
       "</table>\n",
       "</div>"
      ],
      "text/plain": [
       "             PER    PBR\n",
       "테마                     \n",
       "2차전지(생산)  46.625  2.520\n",
       "시스템반도체    36.645  2.335\n",
       "해운        21.375  2.075"
      ]
     },
     "execution_count": 1,
     "metadata": {},
     "output_type": "execute_result"
    }
   ],
   "source": [
    "import pandas as pd\n",
    "\n",
    "data = [  \n",
    "    [\"2차전지(생산)\", \"SK이노베이션\", 10.19, 1.29],  \n",
    "    [\"해운\", \"팬오션\", 21.23, 0.95],  \n",
    "    [\"시스템반도체\", \"티엘아이\", 35.97, 1.12],  \n",
    "    [\"해운\", \"HMM\", 21.52, 3.20],  \n",
    "    [\"시스템반도체\", \"아이에이\", 37.32, 3.55],  \n",
    "    [\"2차전지(생산)\", \"LG화학\", 83.06, 3.75]  \n",
    "]\n",
    "\n",
    "columns = [\"테마\", \"종목명\", \"PER\", \"PBR\"]  \n",
    "df = pd.DataFrame(data=data, columns=columns)\n",
    "\n",
    "df.groupby(by=\"테마\").mean()"
   ]
  },
  {
   "cell_type": "markdown",
   "id": "36b7330d",
   "metadata": {},
   "source": [
    "### DataFrame.groupby max, min\n",
    "\n",
    "위 데이터프레임에서 테마별 PER, PBR의 최대, 최소값을 계산하세요"
   ]
  },
  {
   "cell_type": "code",
   "execution_count": 2,
   "id": "b925538f",
   "metadata": {},
   "outputs": [
    {
     "data": {
      "text/html": [
       "<div>\n",
       "<style scoped>\n",
       "    .dataframe tbody tr th:only-of-type {\n",
       "        vertical-align: middle;\n",
       "    }\n",
       "\n",
       "    .dataframe tbody tr th {\n",
       "        vertical-align: top;\n",
       "    }\n",
       "\n",
       "    .dataframe thead th {\n",
       "        text-align: right;\n",
       "    }\n",
       "</style>\n",
       "<table border=\"1\" class=\"dataframe\">\n",
       "  <thead>\n",
       "    <tr style=\"text-align: right;\">\n",
       "      <th></th>\n",
       "      <th>종목명</th>\n",
       "      <th>PER</th>\n",
       "      <th>PBR</th>\n",
       "    </tr>\n",
       "    <tr>\n",
       "      <th>테마</th>\n",
       "      <th></th>\n",
       "      <th></th>\n",
       "      <th></th>\n",
       "    </tr>\n",
       "  </thead>\n",
       "  <tbody>\n",
       "    <tr>\n",
       "      <th>2차전지(생산)</th>\n",
       "      <td>SK이노베이션</td>\n",
       "      <td>83.06</td>\n",
       "      <td>3.75</td>\n",
       "    </tr>\n",
       "    <tr>\n",
       "      <th>시스템반도체</th>\n",
       "      <td>티엘아이</td>\n",
       "      <td>37.32</td>\n",
       "      <td>3.55</td>\n",
       "    </tr>\n",
       "    <tr>\n",
       "      <th>해운</th>\n",
       "      <td>팬오션</td>\n",
       "      <td>21.52</td>\n",
       "      <td>3.20</td>\n",
       "    </tr>\n",
       "  </tbody>\n",
       "</table>\n",
       "</div>"
      ],
      "text/plain": [
       "              종목명    PER   PBR\n",
       "테마                            \n",
       "2차전지(생산)  SK이노베이션  83.06  3.75\n",
       "시스템반도체       티엘아이  37.32  3.55\n",
       "해운            팬오션  21.52  3.20"
      ]
     },
     "execution_count": 2,
     "metadata": {},
     "output_type": "execute_result"
    }
   ],
   "source": [
    "data = [\n",
    "    [\"2차전지(생산)\", \"SK이노베이션\", 10.19, 1.29],\n",
    "    [\"해운\", \"팬오션\", 21.23, 0.95],\n",
    "    [\"시스템반도체\", \"티엘아이\", 35.97, 1.12],\n",
    "    [\"해운\", \"HMM\", 21.52, 3.20],\n",
    "    [\"시스템반도체\", \"아이에이\", 37.32, 3.55],\n",
    "    [\"2차전지(생산)\", \"LG화학\", 83.06, 3.75]\n",
    "]\n",
    "\n",
    "columns = [\"테마\", \"종목명\", \"PER\", \"PBR\"]\n",
    "df = pd.DataFrame(data=data, columns=columns)\n",
    "\n",
    "df.groupby(by=\"테마\").max()"
   ]
  },
  {
   "cell_type": "code",
   "execution_count": 3,
   "id": "79ce6718",
   "metadata": {},
   "outputs": [
    {
     "data": {
      "text/html": [
       "<div>\n",
       "<style scoped>\n",
       "    .dataframe tbody tr th:only-of-type {\n",
       "        vertical-align: middle;\n",
       "    }\n",
       "\n",
       "    .dataframe tbody tr th {\n",
       "        vertical-align: top;\n",
       "    }\n",
       "\n",
       "    .dataframe thead th {\n",
       "        text-align: right;\n",
       "    }\n",
       "</style>\n",
       "<table border=\"1\" class=\"dataframe\">\n",
       "  <thead>\n",
       "    <tr style=\"text-align: right;\">\n",
       "      <th></th>\n",
       "      <th>종목명</th>\n",
       "      <th>PER</th>\n",
       "      <th>PBR</th>\n",
       "    </tr>\n",
       "    <tr>\n",
       "      <th>테마</th>\n",
       "      <th></th>\n",
       "      <th></th>\n",
       "      <th></th>\n",
       "    </tr>\n",
       "  </thead>\n",
       "  <tbody>\n",
       "    <tr>\n",
       "      <th>2차전지(생산)</th>\n",
       "      <td>LG화학</td>\n",
       "      <td>10.19</td>\n",
       "      <td>1.29</td>\n",
       "    </tr>\n",
       "    <tr>\n",
       "      <th>시스템반도체</th>\n",
       "      <td>아이에이</td>\n",
       "      <td>35.97</td>\n",
       "      <td>1.12</td>\n",
       "    </tr>\n",
       "    <tr>\n",
       "      <th>해운</th>\n",
       "      <td>HMM</td>\n",
       "      <td>21.23</td>\n",
       "      <td>0.95</td>\n",
       "    </tr>\n",
       "  </tbody>\n",
       "</table>\n",
       "</div>"
      ],
      "text/plain": [
       "           종목명    PER   PBR\n",
       "테마                         \n",
       "2차전지(생산)  LG화학  10.19  1.29\n",
       "시스템반도체    아이에이  35.97  1.12\n",
       "해운         HMM  21.23  0.95"
      ]
     },
     "execution_count": 3,
     "metadata": {},
     "output_type": "execute_result"
    }
   ],
   "source": [
    "data = [\n",
    "    [\"2차전지(생산)\", \"SK이노베이션\", 10.19, 1.29],\n",
    "    [\"해운\", \"팬오션\", 21.23, 0.95],\n",
    "    [\"시스템반도체\", \"티엘아이\", 35.97, 1.12],\n",
    "    [\"해운\", \"HMM\", 21.52, 3.20],\n",
    "    [\"시스템반도체\", \"아이에이\", 37.32, 3.55],\n",
    "    [\"2차전지(생산)\", \"LG화학\", 83.06, 3.75]\n",
    "]\n",
    "\n",
    "columns = [\"테마\", \"종목명\", \"PER\", \"PBR\"]\n",
    "df = pd.DataFrame(data=data, columns=columns)\n",
    "\n",
    "df.groupby(by=\"테마\").min()"
   ]
  },
  {
   "cell_type": "markdown",
   "id": "b1187453",
   "metadata": {},
   "source": [
    "### DataFrame.groupby size\n",
    "\n",
    "위 데이터프레임에서 테마별 종목의 개수를 계산하세요."
   ]
  },
  {
   "cell_type": "code",
   "execution_count": 4,
   "id": "11f0808b",
   "metadata": {},
   "outputs": [
    {
     "data": {
      "text/plain": [
       "테마\n",
       "2차전지(생산)    2\n",
       "시스템반도체      2\n",
       "해운          2\n",
       "dtype: int64"
      ]
     },
     "execution_count": 4,
     "metadata": {},
     "output_type": "execute_result"
    }
   ],
   "source": [
    "data = [  \n",
    "    [\"2차전지(생산)\", \"SK이노베이션\", 10.19, 1.29],  \n",
    "    [\"해운\", \"팬오션\", 21.23, 0.95],  \n",
    "    [\"시스템반도체\", \"티엘아이\", 35.97, 1.12],  \n",
    "    [\"해운\", \"HMM\", 21.52, 3.20],  \n",
    "    [\"시스템반도체\", \"아이에이\", 37.32, 3.55],  \n",
    "    [\"2차전지(생산)\", \"LG화학\", 83.06, 3.75]  \n",
    "]\n",
    "\n",
    "columns = [\"테마\", \"종목명\", \"PER\", \"PBR\"]  \n",
    "df = pd.DataFrame(data=data, columns=columns)\n",
    "\n",
    "df.groupby(by=\"테마\").size()"
   ]
  },
  {
   "cell_type": "markdown",
   "id": "aa66c9d8",
   "metadata": {},
   "source": [
    "### DataFrame.groupby get_group\n",
    "\n",
    "위 데이터프레임을 '테마' 컬럼으로 그룹핑한 후 '2차전지(생산)' 그룹만 가져오세요."
   ]
  },
  {
   "cell_type": "code",
   "execution_count": 5,
   "id": "06b61fdf",
   "metadata": {},
   "outputs": [
    {
     "data": {
      "text/html": [
       "<div>\n",
       "<style scoped>\n",
       "    .dataframe tbody tr th:only-of-type {\n",
       "        vertical-align: middle;\n",
       "    }\n",
       "\n",
       "    .dataframe tbody tr th {\n",
       "        vertical-align: top;\n",
       "    }\n",
       "\n",
       "    .dataframe thead th {\n",
       "        text-align: right;\n",
       "    }\n",
       "</style>\n",
       "<table border=\"1\" class=\"dataframe\">\n",
       "  <thead>\n",
       "    <tr style=\"text-align: right;\">\n",
       "      <th></th>\n",
       "      <th>테마</th>\n",
       "      <th>종목명</th>\n",
       "      <th>PER</th>\n",
       "      <th>PBR</th>\n",
       "    </tr>\n",
       "  </thead>\n",
       "  <tbody>\n",
       "    <tr>\n",
       "      <th>0</th>\n",
       "      <td>2차전지(생산)</td>\n",
       "      <td>SK이노베이션</td>\n",
       "      <td>10.19</td>\n",
       "      <td>1.29</td>\n",
       "    </tr>\n",
       "    <tr>\n",
       "      <th>5</th>\n",
       "      <td>2차전지(생산)</td>\n",
       "      <td>LG화학</td>\n",
       "      <td>83.06</td>\n",
       "      <td>3.75</td>\n",
       "    </tr>\n",
       "  </tbody>\n",
       "</table>\n",
       "</div>"
      ],
      "text/plain": [
       "         테마      종목명    PER   PBR\n",
       "0  2차전지(생산)  SK이노베이션  10.19  1.29\n",
       "5  2차전지(생산)     LG화학  83.06  3.75"
      ]
     },
     "execution_count": 5,
     "metadata": {},
     "output_type": "execute_result"
    }
   ],
   "source": [
    "data = [  \n",
    "    [\"2차전지(생산)\", \"SK이노베이션\", 10.19, 1.29],  \n",
    "    [\"해운\", \"팬오션\", 21.23, 0.95],  \n",
    "    [\"시스템반도체\", \"티엘아이\", 35.97, 1.12],  \n",
    "    [\"해운\", \"HMM\", 21.52, 3.20],  \n",
    "    [\"시스템반도체\", \"아이에이\", 37.32, 3.55],  \n",
    "    [\"2차전지(생산)\", \"LG화학\", 83.06, 3.75]  \n",
    "]\n",
    "\n",
    "columns = [\"테마\", \"종목명\", \"PER\", \"PBR\"]  \n",
    "df = pd.DataFrame(data=data, columns=columns)\n",
    "\n",
    "df.groupby(by=\"테마\").get_group(\"2차전지(생산)\")"
   ]
  },
  {
   "cell_type": "markdown",
   "id": "27e089f1",
   "metadata": {},
   "source": [
    "### DataFrame groupby\n",
    "\n",
    "위 데이터프레임에서 테마별 PER의 평균을 계산하세요."
   ]
  },
  {
   "cell_type": "code",
   "execution_count": 6,
   "id": "e03a70f8",
   "metadata": {},
   "outputs": [
    {
     "data": {
      "text/html": [
       "<div>\n",
       "<style scoped>\n",
       "    .dataframe tbody tr th:only-of-type {\n",
       "        vertical-align: middle;\n",
       "    }\n",
       "\n",
       "    .dataframe tbody tr th {\n",
       "        vertical-align: top;\n",
       "    }\n",
       "\n",
       "    .dataframe thead th {\n",
       "        text-align: right;\n",
       "    }\n",
       "</style>\n",
       "<table border=\"1\" class=\"dataframe\">\n",
       "  <thead>\n",
       "    <tr style=\"text-align: right;\">\n",
       "      <th></th>\n",
       "      <th>PER</th>\n",
       "    </tr>\n",
       "    <tr>\n",
       "      <th>테마</th>\n",
       "      <th></th>\n",
       "    </tr>\n",
       "  </thead>\n",
       "  <tbody>\n",
       "    <tr>\n",
       "      <th>2차전지(생산)</th>\n",
       "      <td>46.625</td>\n",
       "    </tr>\n",
       "    <tr>\n",
       "      <th>시스템반도체</th>\n",
       "      <td>36.645</td>\n",
       "    </tr>\n",
       "    <tr>\n",
       "      <th>해운</th>\n",
       "      <td>21.375</td>\n",
       "    </tr>\n",
       "  </tbody>\n",
       "</table>\n",
       "</div>"
      ],
      "text/plain": [
       "             PER\n",
       "테마              \n",
       "2차전지(생산)  46.625\n",
       "시스템반도체    36.645\n",
       "해운        21.375"
      ]
     },
     "execution_count": 6,
     "metadata": {},
     "output_type": "execute_result"
    }
   ],
   "source": [
    "data = [  \n",
    "    [\"2차전지(생산)\", \"SK이노베이션\", 10.19, 1.29],  \n",
    "    [\"해운\", \"팬오션\", 21.23, 0.95],  \n",
    "    [\"시스템반도체\", \"티엘아이\", 35.97, 1.12],  \n",
    "    [\"해운\", \"HMM\", 21.52, 3.20],  \n",
    "    [\"시스템반도체\", \"아이에이\", 37.32, 3.55],  \n",
    "    [\"2차전지(생산)\", \"LG화학\", 83.06, 3.75]  \n",
    "]\n",
    "\n",
    "columns = [\"테마\", \"종목명\", \"PER\", \"PBR\"]  \n",
    "df = pd.DataFrame(data=data, columns=columns)\n",
    "\n",
    "df.groupby(\"테마\")[[\"PER\"]].mean()"
   ]
  },
  {
   "cell_type": "markdown",
   "id": "4ccede2a",
   "metadata": {},
   "source": [
    "### DataFrame.groupby 슬라이싱\n",
    "\n",
    "위 데이터프레임에 대해 테마로 그룹화한 후 PER, PBR 컬럼을 스라이싱하세요. 그 다음 두 컬럼에 대한 평균을 계산하세요."
   ]
  },
  {
   "cell_type": "code",
   "execution_count": 7,
   "id": "9b226834",
   "metadata": {},
   "outputs": [
    {
     "data": {
      "text/html": [
       "<div>\n",
       "<style scoped>\n",
       "    .dataframe tbody tr th:only-of-type {\n",
       "        vertical-align: middle;\n",
       "    }\n",
       "\n",
       "    .dataframe tbody tr th {\n",
       "        vertical-align: top;\n",
       "    }\n",
       "\n",
       "    .dataframe thead th {\n",
       "        text-align: right;\n",
       "    }\n",
       "</style>\n",
       "<table border=\"1\" class=\"dataframe\">\n",
       "  <thead>\n",
       "    <tr style=\"text-align: right;\">\n",
       "      <th></th>\n",
       "      <th>PER</th>\n",
       "    </tr>\n",
       "    <tr>\n",
       "      <th>테마</th>\n",
       "      <th></th>\n",
       "    </tr>\n",
       "  </thead>\n",
       "  <tbody>\n",
       "    <tr>\n",
       "      <th>2차전지(생산)</th>\n",
       "      <td>46.625</td>\n",
       "    </tr>\n",
       "    <tr>\n",
       "      <th>시스템반도체</th>\n",
       "      <td>36.645</td>\n",
       "    </tr>\n",
       "    <tr>\n",
       "      <th>해운</th>\n",
       "      <td>21.375</td>\n",
       "    </tr>\n",
       "  </tbody>\n",
       "</table>\n",
       "</div>"
      ],
      "text/plain": [
       "             PER\n",
       "테마              \n",
       "2차전지(생산)  46.625\n",
       "시스템반도체    36.645\n",
       "해운        21.375"
      ]
     },
     "execution_count": 7,
     "metadata": {},
     "output_type": "execute_result"
    }
   ],
   "source": [
    "data = [  \n",
    "    [\"2차전지(생산)\", \"SK이노베이션\", 10.19, 1.29],  \n",
    "    [\"해운\", \"팬오션\", 21.23, 0.95],  \n",
    "    [\"시스템반도체\", \"티엘아이\", 35.97, 1.12],  \n",
    "    [\"해운\", \"HMM\", 21.52, 3.20],  \n",
    "    [\"시스템반도체\", \"아이에이\", 37.32, 3.55],  \n",
    "    [\"2차전지(생산)\", \"LG화학\", 83.06, 3.75]  \n",
    "]\n",
    "\n",
    "columns = [\"테마\", \"종목명\", \"PER\", \"PBR\"]  \n",
    "df = pd.DataFrame(data=data, columns=columns)\n",
    "\n",
    "df.groupby(\"테마\")[[\"PER\"]].mean()"
   ]
  },
  {
   "cell_type": "markdown",
   "id": "4f648a19",
   "metadata": {},
   "source": [
    "### DataFrame.groupby agg\n",
    "\n",
    "위 데이터프레임에 대해서 '테마'컬럼으로 그룹화한 후 max 함수를 적용하세요."
   ]
  },
  {
   "cell_type": "code",
   "execution_count": 8,
   "id": "9ef5d723",
   "metadata": {},
   "outputs": [
    {
     "data": {
      "text/html": [
       "<div>\n",
       "<style scoped>\n",
       "    .dataframe tbody tr th:only-of-type {\n",
       "        vertical-align: middle;\n",
       "    }\n",
       "\n",
       "    .dataframe tbody tr th {\n",
       "        vertical-align: top;\n",
       "    }\n",
       "\n",
       "    .dataframe thead tr th {\n",
       "        text-align: left;\n",
       "    }\n",
       "\n",
       "    .dataframe thead tr:last-of-type th {\n",
       "        text-align: right;\n",
       "    }\n",
       "</style>\n",
       "<table border=\"1\" class=\"dataframe\">\n",
       "  <thead>\n",
       "    <tr>\n",
       "      <th></th>\n",
       "      <th colspan=\"2\" halign=\"left\">PER</th>\n",
       "      <th colspan=\"2\" halign=\"left\">PBR</th>\n",
       "    </tr>\n",
       "    <tr>\n",
       "      <th></th>\n",
       "      <th>mean</th>\n",
       "      <th>std</th>\n",
       "      <th>mean</th>\n",
       "      <th>std</th>\n",
       "    </tr>\n",
       "    <tr>\n",
       "      <th>테마</th>\n",
       "      <th></th>\n",
       "      <th></th>\n",
       "      <th></th>\n",
       "      <th></th>\n",
       "    </tr>\n",
       "  </thead>\n",
       "  <tbody>\n",
       "    <tr>\n",
       "      <th>2차전지(생산)</th>\n",
       "      <td>46.625</td>\n",
       "      <td>51.526871</td>\n",
       "      <td>2.520</td>\n",
       "      <td>1.739483</td>\n",
       "    </tr>\n",
       "    <tr>\n",
       "      <th>시스템반도체</th>\n",
       "      <td>36.645</td>\n",
       "      <td>0.954594</td>\n",
       "      <td>2.335</td>\n",
       "      <td>1.718269</td>\n",
       "    </tr>\n",
       "    <tr>\n",
       "      <th>해운</th>\n",
       "      <td>21.375</td>\n",
       "      <td>0.205061</td>\n",
       "      <td>2.075</td>\n",
       "      <td>1.590990</td>\n",
       "    </tr>\n",
       "  </tbody>\n",
       "</table>\n",
       "</div>"
      ],
      "text/plain": [
       "             PER               PBR          \n",
       "            mean        std   mean       std\n",
       "테마                                          \n",
       "2차전지(생산)  46.625  51.526871  2.520  1.739483\n",
       "시스템반도체    36.645   0.954594  2.335  1.718269\n",
       "해운        21.375   0.205061  2.075  1.590990"
      ]
     },
     "execution_count": 8,
     "metadata": {},
     "output_type": "execute_result"
    }
   ],
   "source": [
    "import numpy as np\n",
    "\n",
    "data = [  \n",
    "    [\"2차전지(생산)\", \"SK이노베이션\", 10.19, 1.29],  \n",
    "    [\"해운\", \"팬오션\", 21.23, 0.95],  \n",
    "    [\"시스템반도체\", \"티엘아이\", 35.97, 1.12],  \n",
    "    [\"해운\", \"HMM\", 21.52, 3.20],  \n",
    "    [\"시스템반도체\", \"아이에이\", 37.32, 3.55],  \n",
    "    [\"2차전지(생산)\", \"LG화학\", 83.06, 3.75]  \n",
    "]\n",
    "\n",
    "columns = [\"테마\", \"종목명\", \"PER\", \"PBR\"]  \n",
    "df = pd.DataFrame(data=data, columns=columns)\n",
    "\n",
    "df.groupby('테마')[['PER', 'PBR']].agg([np.mean, np.std])"
   ]
  },
  {
   "cell_type": "markdown",
   "id": "45bc8ce9",
   "metadata": {},
   "source": [
    "### Group 순회\n",
    "\n",
    "위 데이터프레임에 대해 '테마'로 그룹화 한 후 순회하는 다음 코드를 실행하고 결과를 확인하세요."
   ]
  },
  {
   "cell_type": "code",
   "execution_count": 9,
   "id": "63514fd7",
   "metadata": {},
   "outputs": [
    {
     "name": "stdout",
     "output_type": "stream",
     "text": [
      "2차전지(생산)\n",
      "         테마      종목명    PER   PBR\n",
      "0  2차전지(생산)  SK이노베이션  10.19  1.29\n",
      "5  2차전지(생산)     LG화학  83.06  3.75\n",
      "시스템반도체\n",
      "       테마   종목명    PER   PBR\n",
      "2  시스템반도체  티엘아이  35.97  1.12\n",
      "4  시스템반도체  아이에이  37.32  3.55\n",
      "해운\n",
      "   테마  종목명    PER   PBR\n",
      "1  해운  팬오션  21.23  0.95\n",
      "3  해운  HMM  21.52  3.20\n"
     ]
    }
   ],
   "source": [
    "for name, group in df.groupby(\"테마\"):\n",
    "    print(name)\n",
    "    print(group)"
   ]
  },
  {
   "cell_type": "markdown",
   "id": "1e6324df",
   "metadata": {},
   "source": [
    "### group by agg\n",
    "\n",
    "위 데이터프레임에 대해서 '테마' 컬럼으로 그룹화한 후 PER, PBR 컬럼에 np.man과 np.std 함수를 적용하세요."
   ]
  },
  {
   "cell_type": "code",
   "execution_count": 10,
   "id": "11bd54d1",
   "metadata": {},
   "outputs": [
    {
     "data": {
      "text/html": [
       "<div>\n",
       "<style scoped>\n",
       "    .dataframe tbody tr th:only-of-type {\n",
       "        vertical-align: middle;\n",
       "    }\n",
       "\n",
       "    .dataframe tbody tr th {\n",
       "        vertical-align: top;\n",
       "    }\n",
       "\n",
       "    .dataframe thead tr th {\n",
       "        text-align: left;\n",
       "    }\n",
       "\n",
       "    .dataframe thead tr:last-of-type th {\n",
       "        text-align: right;\n",
       "    }\n",
       "</style>\n",
       "<table border=\"1\" class=\"dataframe\">\n",
       "  <thead>\n",
       "    <tr>\n",
       "      <th></th>\n",
       "      <th colspan=\"2\" halign=\"left\">PER</th>\n",
       "      <th colspan=\"2\" halign=\"left\">PBR</th>\n",
       "    </tr>\n",
       "    <tr>\n",
       "      <th></th>\n",
       "      <th>mean</th>\n",
       "      <th>std</th>\n",
       "      <th>mean</th>\n",
       "      <th>std</th>\n",
       "    </tr>\n",
       "    <tr>\n",
       "      <th>테마</th>\n",
       "      <th></th>\n",
       "      <th></th>\n",
       "      <th></th>\n",
       "      <th></th>\n",
       "    </tr>\n",
       "  </thead>\n",
       "  <tbody>\n",
       "    <tr>\n",
       "      <th>2차전지(생산)</th>\n",
       "      <td>46.625</td>\n",
       "      <td>51.526871</td>\n",
       "      <td>2.520</td>\n",
       "      <td>1.739483</td>\n",
       "    </tr>\n",
       "    <tr>\n",
       "      <th>시스템반도체</th>\n",
       "      <td>36.645</td>\n",
       "      <td>0.954594</td>\n",
       "      <td>2.335</td>\n",
       "      <td>1.718269</td>\n",
       "    </tr>\n",
       "    <tr>\n",
       "      <th>해운</th>\n",
       "      <td>21.375</td>\n",
       "      <td>0.205061</td>\n",
       "      <td>2.075</td>\n",
       "      <td>1.590990</td>\n",
       "    </tr>\n",
       "  </tbody>\n",
       "</table>\n",
       "</div>"
      ],
      "text/plain": [
       "             PER               PBR          \n",
       "            mean        std   mean       std\n",
       "테마                                          \n",
       "2차전지(생산)  46.625  51.526871  2.520  1.739483\n",
       "시스템반도체    36.645   0.954594  2.335  1.718269\n",
       "해운        21.375   0.205061  2.075  1.590990"
      ]
     },
     "execution_count": 10,
     "metadata": {},
     "output_type": "execute_result"
    }
   ],
   "source": [
    "import numpy as np\n",
    "\n",
    "data = [  \n",
    "    [\"2차전지(생산)\", \"SK이노베이션\", 10.19, 1.29],  \n",
    "    [\"해운\", \"팬오션\", 21.23, 0.95],  \n",
    "    [\"시스템반도체\", \"티엘아이\", 35.97, 1.12],  \n",
    "    [\"해운\", \"HMM\", 21.52, 3.20],  \n",
    "    [\"시스템반도체\", \"아이에이\", 37.32, 3.55],  \n",
    "    [\"2차전지(생산)\", \"LG화학\", 83.06, 3.75]  \n",
    "]\n",
    "\n",
    "columns = [\"테마\", \"종목명\", \"PER\", \"PBR\"]  \n",
    "df = pd.DataFrame(data=data, columns=columns)\n",
    "\n",
    "df.groupby('테마')[['PER', 'PBR']].agg([np.mean, np.std])"
   ]
  },
  {
   "cell_type": "markdown",
   "id": "dbeefb2a",
   "metadata": {},
   "source": [
    "### nunique\n",
    "\n",
    "위 데이터프레임을 '테마' 컬럼을 기준으로 그룹화한 후 종목명 열만 추출하여 데이터의 빈도수를 계산하세요."
   ]
  },
  {
   "cell_type": "code",
   "execution_count": 12,
   "id": "b7ec8899",
   "metadata": {},
   "outputs": [
    {
     "data": {
      "text/plain": [
       "테마\n",
       "2차전지(생산)    2\n",
       "시스템반도체      2\n",
       "해운          2\n",
       "Name: 종목명, dtype: int64"
      ]
     },
     "execution_count": 12,
     "metadata": {},
     "output_type": "execute_result"
    }
   ],
   "source": [
    "import numpy as np\n",
    "\n",
    "data = [  \n",
    "    [\"2차전지(생산)\", \"SK이노베이션\", 10.19, 1.29],  \n",
    "    [\"해운\", \"팬오션\", 21.23, 0.95],  \n",
    "    [\"시스템반도체\", \"티엘아이\", 35.97, 1.12],  \n",
    "    [\"해운\", \"HMM\", 21.52, 3.20],  \n",
    "    [\"시스템반도체\", \"아이에이\", 37.32, 3.55],  \n",
    "    [\"2차전지(생산)\", \"LG화학\", 83.06, 3.75]  \n",
    "]\n",
    "\n",
    "columns = [\"테마\", \"종목명\", \"PER\", \"PBR\"]  \n",
    "df = pd.DataFrame(data=data, columns=columns)\n",
    "\n",
    "df.groupby('테마')['종목명'].nunique()"
   ]
  },
  {
   "cell_type": "code",
   "execution_count": null,
   "id": "375a2daa",
   "metadata": {},
   "outputs": [],
   "source": []
  }
 ],
 "metadata": {
  "kernelspec": {
   "display_name": "Python 3 (ipykernel)",
   "language": "python",
   "name": "python3"
  },
  "language_info": {
   "codemirror_mode": {
    "name": "ipython",
    "version": 3
   },
   "file_extension": ".py",
   "mimetype": "text/x-python",
   "name": "python",
   "nbconvert_exporter": "python",
   "pygments_lexer": "ipython3",
   "version": "3.9.12"
  }
 },
 "nbformat": 4,
 "nbformat_minor": 5
}
