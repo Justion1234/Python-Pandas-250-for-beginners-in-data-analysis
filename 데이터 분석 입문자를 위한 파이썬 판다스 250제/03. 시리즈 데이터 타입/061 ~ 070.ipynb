{
 "cells": [
  {
   "cell_type": "markdown",
   "id": "1573302b",
   "metadata": {},
   "source": [
    "### 시리즈 데이터 타입\n",
    "\n",
    "시리즈의 데이터 타입을 출력해보세요.\n",
    "\n",
    "data = [100, 200, 300]  \n",
    "index = [\"철수\", \"영희\", \"아름\"]  \n",
    "s = Series(data, index)"
   ]
  },
  {
   "cell_type": "code",
   "execution_count": 2,
   "id": "4be86cd4",
   "metadata": {},
   "outputs": [
    {
     "name": "stdout",
     "output_type": "stream",
     "text": [
      "int64\n"
     ]
    }
   ],
   "source": [
    "import pandas as pd\n",
    "from pandas import Series\n",
    "\n",
    "\n",
    "data = [100, 200, 300]\n",
    "index = [\"철수\", \"영희\", \"아름\"]\n",
    "s = Series(data, index)\n",
    "\n",
    "print(s.dtype)"
   ]
  },
  {
   "cell_type": "markdown",
   "id": "b9279ab3",
   "metadata": {},
   "source": [
    "### 시리즈 데이터\n",
    "\n",
    "다음 시리즈의 데이터 타입을 출력해보세요.\n",
    "\n",
    "data = [ 10, \"가\"]  \n",
    "s = Series(data)"
   ]
  },
  {
   "cell_type": "code",
   "execution_count": 4,
   "id": "df22dcb9",
   "metadata": {},
   "outputs": [
    {
     "name": "stdout",
     "output_type": "stream",
     "text": [
      "object\n"
     ]
    }
   ],
   "source": [
    "data = [ 10, \"가\"]\n",
    "s = Series(data)\n",
    "\n",
    "print(s.dtype)"
   ]
  },
  {
   "cell_type": "markdown",
   "id": "c88fa010",
   "metadata": {},
   "source": [
    "### 시리즈 인덱스의 데이터 타입\n",
    "\n",
    "시리즈에서 인덱스의 데이터 타입을 출력해보세요.\n",
    "\n",
    "data = [100, 200, 300]  \n",
    "index = [\"철수\", \"영희\", \"아름\"]  \n",
    "s = Series(data, index)"
   ]
  },
  {
   "cell_type": "code",
   "execution_count": 6,
   "id": "21493eaf",
   "metadata": {},
   "outputs": [
    {
     "name": "stdout",
     "output_type": "stream",
     "text": [
      "object\n"
     ]
    }
   ],
   "source": [
    "data = [100, 200, 300]\n",
    "index = [\"철수\", \"영희\", \"아름\"]\n",
    "s = Series(data, index)\n",
    "\n",
    "print(s.index.dtype)"
   ]
  },
  {
   "cell_type": "markdown",
   "id": "e754a10f",
   "metadata": {},
   "source": [
    "### 시리즈 이름과 인덱스 이름\n",
    "\n",
    "다음은 삼성전자의 종가 데이터입니다. 이를 시리즈 객체로 생성한 후 시리즈의 name 속성에 '종가'를 인덱스의 name 속성에 날짜를 설정해보세요."
   ]
  },
  {
   "cell_type": "code",
   "execution_count": 3,
   "id": "6350fa1e",
   "metadata": {},
   "outputs": [
    {
     "data": {
      "text/plain": [
       "날짜\n",
       "2020-12-11    73400\n",
       "2020-12-10    72900\n",
       "2020-12-09    73900\n",
       "2020-12-08    71700\n",
       "2020-12-07    72900\n",
       "Name: 종가, dtype: int64"
      ]
     },
     "execution_count": 3,
     "metadata": {},
     "output_type": "execute_result"
    }
   ],
   "source": [
    "data = pd.Series([73400, 72900, 73900, 71700, 72900], index=['2020-12-11', '2020-12-10', '2020-12-09', '2020-12-08', '2020-12-07'])\n",
    "\n",
    "\n",
    "data.name = '종가'\n",
    "data.index.name = '날짜'\n",
    "\n",
    "data"
   ]
  },
  {
   "cell_type": "markdown",
   "id": "ccfc8b68",
   "metadata": {},
   "source": [
    "### to_dict\n",
    "\n",
    "시리즈의 데이터 타입을 딕셔너리로 변환하세요."
   ]
  },
  {
   "cell_type": "code",
   "execution_count": 7,
   "id": "c510bb18",
   "metadata": {},
   "outputs": [
    {
     "data": {
      "text/plain": [
       "{'apple': 1500, 'banana': 3000}"
      ]
     },
     "execution_count": 7,
     "metadata": {},
     "output_type": "execute_result"
    }
   ],
   "source": [
    "import pandas as pd\n",
    "\n",
    "data = {\"apple\": 1500, \"banana\": 3000}\n",
    "s = pd.Series(data)\n",
    "\n",
    "s.to_dict()"
   ]
  },
  {
   "cell_type": "markdown",
   "id": "c72ee31e",
   "metadata": {},
   "source": [
    "### 인덱스 이름\n",
    "\n",
    "다음 시리즈의 인덱스의 이름을 'icecream'으로 변경하세요.\n",
    "\n",
    "import pandas as pd\n",
    "\n",
    "data = {\"apple\": 1500, \"banana\": 3000}  \n",
    "s = pd.Series(data)  \n",
    "s"
   ]
  },
  {
   "cell_type": "code",
   "execution_count": 10,
   "id": "4fd866fe",
   "metadata": {},
   "outputs": [
    {
     "data": {
      "text/plain": [
       "icecream\n",
       "apple     1500\n",
       "banana    3000\n",
       "dtype: int64"
      ]
     },
     "execution_count": 10,
     "metadata": {},
     "output_type": "execute_result"
    }
   ],
   "source": [
    "import pandas as pd\n",
    "\n",
    "data = {\"apple\": 1500, \"banana\": 3000}\n",
    "s = pd.Series(data)\n",
    "\n",
    "s.index.name = 'icecream'\n",
    "\n",
    "s"
   ]
  },
  {
   "cell_type": "markdown",
   "id": "e901f2e2",
   "metadata": {},
   "source": [
    "### 시리즈 이름\n",
    "\n",
    "다음 시리즈 객체의 이름을 'number'로 지정하세요.\n",
    "\n",
    "import pandas as pd\n",
    "\n",
    "s = pd.Series(data=[1, 2, 3])"
   ]
  },
  {
   "cell_type": "code",
   "execution_count": 12,
   "id": "7f4d004f",
   "metadata": {},
   "outputs": [
    {
     "data": {
      "text/plain": [
       "0    1\n",
       "1    2\n",
       "2    3\n",
       "Name: number, dtype: int64"
      ]
     },
     "execution_count": 12,
     "metadata": {},
     "output_type": "execute_result"
    }
   ],
   "source": [
    "import pandas as pd\n",
    "\n",
    "s = pd.Series(data=[1, 2, 3])\n",
    "\n",
    "s.name = 'number'\n",
    "\n",
    "s"
   ]
  },
  {
   "cell_type": "markdown",
   "id": "025991c9",
   "metadata": {},
   "source": [
    "### NaN\n",
    "\n",
    "다음 시리즈 객체를 생성하세요."
   ]
  },
  {
   "cell_type": "code",
   "execution_count": 15,
   "id": "43d3af2f",
   "metadata": {},
   "outputs": [
    {
     "data": {
      "text/plain": [
       "0    1.0\n",
       "1    2.0\n",
       "2    NaN\n",
       "dtype: float64"
      ]
     },
     "execution_count": 15,
     "metadata": {},
     "output_type": "execute_result"
    }
   ],
   "source": [
    "import numpy as np\n",
    "\n",
    "data = [1.0, 2.0, np.NaN]\n",
    "s = pd.Series(data)\n",
    "\n",
    "s"
   ]
  },
  {
   "cell_type": "markdown",
   "id": "e40afc23",
   "metadata": {},
   "source": [
    "### Index.to_numpy\n",
    "\n",
    "다음 시리즈 객체의 인덱스를 넘파이 배열로 변경하세요.\n",
    "\n",
    "import pandas as pd\n",
    "\n",
    "s = pd.Series([1, 2, 3])\n"
   ]
  },
  {
   "cell_type": "code",
   "execution_count": 16,
   "id": "411cdf90",
   "metadata": {},
   "outputs": [
    {
     "data": {
      "text/plain": [
       "array([0, 1, 2], dtype=int64)"
      ]
     },
     "execution_count": 16,
     "metadata": {},
     "output_type": "execute_result"
    }
   ],
   "source": [
    "import pandas as pd\n",
    "\n",
    "s = pd.Series([1, 2, 3])\n",
    "\n",
    "s.index.to_numpy()"
   ]
  }
 ],
 "metadata": {
  "kernelspec": {
   "display_name": "Python 3 (ipykernel)",
   "language": "python",
   "name": "python3"
  },
  "language_info": {
   "codemirror_mode": {
    "name": "ipython",
    "version": 3
   },
   "file_extension": ".py",
   "mimetype": "text/x-python",
   "name": "python",
   "nbconvert_exporter": "python",
   "pygments_lexer": "ipython3",
   "version": "3.9.12"
  }
 },
 "nbformat": 4,
 "nbformat_minor": 5
}
