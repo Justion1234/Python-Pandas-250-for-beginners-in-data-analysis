{
 "cells": [
  {
   "cell_type": "markdown",
   "id": "b1ca19e0",
   "metadata": {},
   "source": [
    "### 조건에 맞는 원소값 출력\n",
    "\n",
    "다음 ndarray 객체에서 음수를 출력하세요.\n",
    "\n",
    "arr = np.array([-1, 2, -3, 4])"
   ]
  },
  {
   "cell_type": "code",
   "execution_count": 2,
   "id": "de666dd4",
   "metadata": {},
   "outputs": [],
   "source": [
    "import numpy as np\n",
    "arr = np.array([-1, 2, -3, 4])"
   ]
  },
  {
   "cell_type": "code",
   "execution_count": 5,
   "id": "66c50b98",
   "metadata": {},
   "outputs": [
    {
     "data": {
      "text/plain": [
       "array([-1, -3])"
      ]
     },
     "execution_count": 5,
     "metadata": {},
     "output_type": "execute_result"
    }
   ],
   "source": [
    "arr[arr < 0]"
   ]
  },
  {
   "cell_type": "markdown",
   "id": "9e0a0e3d",
   "metadata": {},
   "source": [
    "### 조건에 맞는 원소값 변경\n",
    "\n",
    "다음 ndarray 객체에서 음수를 0으로 치환하세요"
   ]
  },
  {
   "cell_type": "code",
   "execution_count": 6,
   "id": "ef05cd1f",
   "metadata": {},
   "outputs": [],
   "source": [
    "arr[arr < 0 ] = 0"
   ]
  },
  {
   "cell_type": "code",
   "execution_count": 7,
   "id": "d27307be",
   "metadata": {},
   "outputs": [
    {
     "data": {
      "text/plain": [
       "array([0, 2, 0, 4])"
      ]
     },
     "execution_count": 7,
     "metadata": {},
     "output_type": "execute_result"
    }
   ],
   "source": [
    "arr"
   ]
  },
  {
   "cell_type": "markdown",
   "id": "75792153",
   "metadata": {},
   "source": [
    "### 조건에 맞는 원소값 변경\n",
    "\n",
    "다음 ndarray 객체에서 양수 혹은 0이면 10을 더하고 음수는 10을 빼세요.\n",
    "\n",
    "arr = np.array([-1, 2, -3, 4])"
   ]
  },
  {
   "cell_type": "code",
   "execution_count": 16,
   "id": "75059c61",
   "metadata": {},
   "outputs": [
    {
     "name": "stdout",
     "output_type": "stream",
     "text": [
      "[-11 -13]\n",
      "[12 14]\n"
     ]
    }
   ],
   "source": [
    "#위키독스에서 제시한 답\n",
    "\n",
    "arr = np.array([-1, 2, -3, 4])\n",
    "negative_cond = arr < 0\n",
    "positive_cond = arr >= 0\n",
    "arr[negative_cond] = arr[negative_cond] - 10\n",
    "arr[positive_cond] = arr[positive_cond] + 10 \n",
    "\n",
    "print(arr[negative_cond])\n",
    "print(arr[positive_cond])"
   ]
  },
  {
   "cell_type": "markdown",
   "id": "d661a0fd",
   "metadata": {},
   "source": [
    "where 함수를 사용하면 코드가 간단해 집니다."
   ]
  },
  {
   "cell_type": "code",
   "execution_count": 10,
   "id": "99901d13",
   "metadata": {},
   "outputs": [
    {
     "data": {
      "text/plain": [
       "array([-21,  22, -23,  24])"
      ]
     },
     "execution_count": 10,
     "metadata": {},
     "output_type": "execute_result"
    }
   ],
   "source": [
    " np.where(arr >= 0, arr + 10, arr - 10)"
   ]
  },
  {
   "cell_type": "markdown",
   "id": "eccbca45",
   "metadata": {},
   "source": [
    "### shuffle\n",
    "\n",
    "numpy random 모듈의 shuffle 함수를 사용해서 입력 리스트의 원소들을 랜덤하게 섞어 보세요.\n",
    "\n",
    "arr = [1, 2, 3, 4, 5]"
   ]
  },
  {
   "cell_type": "code",
   "execution_count": 11,
   "id": "75633980",
   "metadata": {},
   "outputs": [],
   "source": [
    "arr = [1, 2, 3, 4, 5]"
   ]
  },
  {
   "cell_type": "code",
   "execution_count": 28,
   "id": "c168242c",
   "metadata": {},
   "outputs": [
    {
     "data": {
      "text/plain": [
       "array([1, 2, 4, 3, 5])"
      ]
     },
     "execution_count": 28,
     "metadata": {},
     "output_type": "execute_result"
    }
   ],
   "source": [
    "np.random.shuffle(arr)\n",
    "\n",
    "arr"
   ]
  },
  {
   "cell_type": "markdown",
   "id": "3aa776f0",
   "metadata": {},
   "source": [
    "### argmin\n",
    "\n",
    "다음 넘파이 배열에서 최솟값의 인덱스를 출력하세요.\n",
    "\n",
    "import numpy as np  \n",
    "arr = np.array([1, 2, 3, 4, 5])"
   ]
  },
  {
   "cell_type": "code",
   "execution_count": 32,
   "id": "df91a393",
   "metadata": {},
   "outputs": [
    {
     "data": {
      "text/plain": [
       "0"
      ]
     },
     "execution_count": 32,
     "metadata": {},
     "output_type": "execute_result"
    }
   ],
   "source": [
    "import numpy as np\n",
    "arr = np.array([1, 2, 3, 4, 5])\n",
    "\n",
    "arr = np.argmin(arr)\n",
    "arr"
   ]
  },
  {
   "cell_type": "markdown",
   "id": "4b35cd28",
   "metadata": {},
   "source": [
    "### argmax\n",
    "\n",
    "다음 넘파일 배열에서 최댓값의 인덱스를 출력하세요\n",
    "\n",
    "import numpy as np  \n",
    "arr = np.array([1, 2, 3, 4, 5])"
   ]
  },
  {
   "cell_type": "code",
   "execution_count": 33,
   "id": "1fafb822",
   "metadata": {},
   "outputs": [
    {
     "data": {
      "text/plain": [
       "4"
      ]
     },
     "execution_count": 33,
     "metadata": {},
     "output_type": "execute_result"
    }
   ],
   "source": [
    "arr = np.array([1, 2, 3, 4, 5])\n",
    "\n",
    "arr = np.argmax(arr)\n",
    "arr"
   ]
  },
  {
   "cell_type": "markdown",
   "id": "97a716e1",
   "metadata": {},
   "source": [
    "### 정렬\n",
    "\n",
    "다음 넘파이 배열을 오름차순 정렬해보세요.\n",
    "\n",
    "import numpy as np  \n",
    "arr = np.array([2, 1, 5, 3, 7, 4, 6, 8])"
   ]
  },
  {
   "cell_type": "code",
   "execution_count": 35,
   "id": "6f7e842b",
   "metadata": {},
   "outputs": [
    {
     "data": {
      "text/plain": [
       "array([1, 2, 3, 4, 5, 6, 7, 8])"
      ]
     },
     "execution_count": 35,
     "metadata": {},
     "output_type": "execute_result"
    }
   ],
   "source": [
    "import numpy as np\n",
    "arr = np.array([2, 1, 5, 3, 7, 4, 6, 8])\n",
    "\n",
    "arr.sort()\n",
    "arr"
   ]
  },
  {
   "cell_type": "markdown",
   "id": "b2c55504",
   "metadata": {},
   "source": [
    "### numpy.vstack\n",
    "\n",
    "numpy.vstack 함수를 사용하여 다음 2차원 배열을 생성하세요.\n",
    "\n",
    "arr1 = np.array([1, 2])  \n",
    "arr2 = np.array([3, 4])\n",
    "\n",
    "결과:  \n",
    "array([[1, 2],  \n",
    "&nbsp;&nbsp;&nbsp;&nbsp;[3, 4]])\n",
    "       \n"
   ]
  },
  {
   "cell_type": "code",
   "execution_count": 36,
   "id": "1e785733",
   "metadata": {},
   "outputs": [
    {
     "name": "stdout",
     "output_type": "stream",
     "text": [
      "[[1 2]\n",
      " [3 4]]\n"
     ]
    }
   ],
   "source": [
    "arr1 = np.array([1, 2])\n",
    "arr2 = np.array([3, 4])\n",
    "\n",
    "arr3 = np.vstack((arr1, arr2))\n",
    "print(arr3)"
   ]
  },
  {
   "cell_type": "markdown",
   "id": "113d4996",
   "metadata": {},
   "source": [
    "### flatten\n",
    "\n",
    "flatten 메서드를 사용하여 다음 배열을 1차원 배열로 변경하세요."
   ]
  },
  {
   "cell_type": "code",
   "execution_count": 41,
   "id": "023ab3b0",
   "metadata": {},
   "outputs": [
    {
     "data": {
      "text/plain": [
       "array([1, 2, 3, 4])"
      ]
     },
     "execution_count": 41,
     "metadata": {},
     "output_type": "execute_result"
    }
   ],
   "source": [
    "import numpy as np\n",
    "arr = np.array([ [1, 2], [3, 4] ])\n",
    "\n",
    "arr.flatten()"
   ]
  }
 ],
 "metadata": {
  "kernelspec": {
   "display_name": "Python 3 (ipykernel)",
   "language": "python",
   "name": "python3"
  },
  "language_info": {
   "codemirror_mode": {
    "name": "ipython",
    "version": 3
   },
   "file_extension": ".py",
   "mimetype": "text/x-python",
   "name": "python",
   "nbconvert_exporter": "python",
   "pygments_lexer": "ipython3",
   "version": "3.9.12"
  }
 },
 "nbformat": 4,
 "nbformat_minor": 5
}
