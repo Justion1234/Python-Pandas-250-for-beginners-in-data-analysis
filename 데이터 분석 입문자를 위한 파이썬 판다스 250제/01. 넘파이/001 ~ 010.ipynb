{
 "cells": [
  {
   "cell_type": "markdown",
   "id": "0f2c30c8",
   "metadata": {},
   "source": [
    "### 넘파이 임포트"
   ]
  },
  {
   "cell_type": "code",
   "execution_count": 1,
   "id": "caf4a712",
   "metadata": {},
   "outputs": [],
   "source": [
    "import numpy as np"
   ]
  },
  {
   "cell_type": "markdown",
   "id": "521c8739",
   "metadata": {},
   "source": [
    "### ndarray\n",
    "\n",
    "리스트를 넘파이의 ndarray 객체로 변환해보세요.  \n",
    "data = [1, 2, 3]"
   ]
  },
  {
   "cell_type": "code",
   "execution_count": 6,
   "id": "546a8d89",
   "metadata": {},
   "outputs": [
    {
     "name": "stdout",
     "output_type": "stream",
     "text": [
      "data type :  <class 'list'>\n",
      "data type :  <class 'numpy.ndarray'>\n"
     ]
    }
   ],
   "source": [
    "data = [1, 2, 3]\n",
    "print('data type : ', type(data))\n",
    "\n",
    "data = np.array(data)\n",
    "print('data type : ', type(data))"
   ]
  },
  {
   "cell_type": "markdown",
   "id": "18dccc76",
   "metadata": {},
   "source": [
    "### arange\n",
    "\n",
    "0부터 99까지의 정수가 저장된 ndarray 객체를 만들어보세요."
   ]
  },
  {
   "cell_type": "code",
   "execution_count": 8,
   "id": "7117dbf3",
   "metadata": {},
   "outputs": [
    {
     "data": {
      "text/plain": [
       "array([ 0,  1,  2,  3,  4,  5,  6,  7,  8,  9, 10, 11, 12, 13, 14, 15, 16,\n",
       "       17, 18, 19, 20, 21, 22, 23, 24, 25, 26, 27, 28, 29, 30, 31, 32, 33,\n",
       "       34, 35, 36, 37, 38, 39, 40, 41, 42, 43, 44, 45, 46, 47, 48, 49, 50,\n",
       "       51, 52, 53, 54, 55, 56, 57, 58, 59, 60, 61, 62, 63, 64, 65, 66, 67,\n",
       "       68, 69, 70, 71, 72, 73, 74, 75, 76, 77, 78, 79, 80, 81, 82, 83, 84,\n",
       "       85, 86, 87, 88, 89, 90, 91, 92, 93, 94, 95, 96, 97, 98, 99])"
      ]
     },
     "execution_count": 8,
     "metadata": {},
     "output_type": "execute_result"
    }
   ],
   "source": [
    "np.arange(0, 100)\n",
    "\n",
    "#답지에서 제시한 답: np.arange(100)"
   ]
  },
  {
   "cell_type": "markdown",
   "id": "fd368c85",
   "metadata": {},
   "source": [
    "### 실수 range\n",
    "\n",
    "0부터 1까지 0.1 간격으로 구성된 ndarray를 생성해보세요. 1은 포함되지 않습니다.\n",
    "\n"
   ]
  },
  {
   "cell_type": "code",
   "execution_count": 13,
   "id": "cfcae387",
   "metadata": {},
   "outputs": [
    {
     "data": {
      "text/plain": [
       "array([0. , 0.1, 0.2, 0.3, 0.4, 0.5, 0.6, 0.7, 0.8, 0.9])"
      ]
     },
     "execution_count": 13,
     "metadata": {},
     "output_type": "execute_result"
    }
   ],
   "source": [
    "np.arange(0, 1, 0.1)"
   ]
  },
  {
   "cell_type": "markdown",
   "id": "b78116a8",
   "metadata": {},
   "source": [
    "### reshape\n",
    "\n",
    "리스트에는 6개의 데이터가 저장돼 있습니다.\n",
    "data = [0, 1, 2, 3, 4, 5]\n",
    "\n",
    "\n",
    "다음의 2차원 ndarray 1차원 ndarray로 변환하세요.  \n",
    "\n",
    "arr = np.array([  \n",
    "    [0, 1, 2],  \n",
    "    [3, 4, 5]  \n",
    "])"
   ]
  },
  {
   "cell_type": "code",
   "execution_count": 14,
   "id": "59f01f77",
   "metadata": {},
   "outputs": [
    {
     "ename": "ValueError",
     "evalue": "cannot reshape array of size 6 into shape (1,1)",
     "output_type": "error",
     "traceback": [
      "\u001b[1;31m---------------------------------------------------------------------------\u001b[0m",
      "\u001b[1;31mValueError\u001b[0m                                Traceback (most recent call last)",
      "Input \u001b[1;32mIn [14]\u001b[0m, in \u001b[0;36m<cell line: 6>\u001b[1;34m()\u001b[0m\n\u001b[0;32m      1\u001b[0m arr \u001b[38;5;241m=\u001b[39m np\u001b[38;5;241m.\u001b[39marray([  \n\u001b[0;32m      2\u001b[0m     [\u001b[38;5;241m0\u001b[39m, \u001b[38;5;241m1\u001b[39m, \u001b[38;5;241m2\u001b[39m],  \n\u001b[0;32m      3\u001b[0m     [\u001b[38;5;241m3\u001b[39m, \u001b[38;5;241m4\u001b[39m, \u001b[38;5;241m5\u001b[39m]  \n\u001b[0;32m      4\u001b[0m ])\n\u001b[1;32m----> 6\u001b[0m re \u001b[38;5;241m=\u001b[39m \u001b[43marr\u001b[49m\u001b[38;5;241;43m.\u001b[39;49m\u001b[43mreshape\u001b[49m\u001b[43m(\u001b[49m\u001b[38;5;241;43m1\u001b[39;49m\u001b[43m,\u001b[49m\u001b[43m \u001b[49m\u001b[38;5;241;43m1\u001b[39;49m\u001b[43m)\u001b[49m\n",
      "\u001b[1;31mValueError\u001b[0m: cannot reshape array of size 6 into shape (1,1)"
     ]
    }
   ],
   "source": [
    "arr = np.array([  \n",
    "    [0, 1, 2],  \n",
    "    [3, 4, 5]  \n",
    "])\n"
   ]
  },
  {
   "cell_type": "code",
   "execution_count": 16,
   "id": "d4201a56",
   "metadata": {},
   "outputs": [
    {
     "data": {
      "text/plain": [
       "array([[0, 1, 2, 3, 4, 5]])"
      ]
     },
     "execution_count": 16,
     "metadata": {},
     "output_type": "execute_result"
    }
   ],
   "source": [
    "re = arr.reshape(1, 6)\n",
    "\n",
    "#reshape(6)말고 flatten() 함수를 이용해서 1차원으로 변환 가능\n",
    "\n",
    "#flatten()은 numpy에서 제공하는 다차원 배열 공간을 1차원으로 평탄화해주는 함수입니다.\n",
    "\n",
    "re"
   ]
  },
  {
   "cell_type": "code",
   "execution_count": 19,
   "id": "6b174cb3",
   "metadata": {},
   "outputs": [
    {
     "data": {
      "text/plain": [
       "array([[0],\n",
       "       [1],\n",
       "       [2]])"
      ]
     },
     "execution_count": 19,
     "metadata": {},
     "output_type": "execute_result"
    }
   ],
   "source": [
    "arr = np.arange(3)\n",
    "\n",
    "change = arr.reshape(3, 1)\n",
    "\n",
    "change"
   ]
  }
 ],
 "metadata": {
  "kernelspec": {
   "display_name": "Python 3 (ipykernel)",
   "language": "python",
   "name": "python3"
  },
  "language_info": {
   "codemirror_mode": {
    "name": "ipython",
    "version": 3
   },
   "file_extension": ".py",
   "mimetype": "text/x-python",
   "name": "python",
   "nbconvert_exporter": "python",
   "pygments_lexer": "ipython3",
   "version": "3.9.12"
  }
 },
 "nbformat": 4,
 "nbformat_minor": 5
}
