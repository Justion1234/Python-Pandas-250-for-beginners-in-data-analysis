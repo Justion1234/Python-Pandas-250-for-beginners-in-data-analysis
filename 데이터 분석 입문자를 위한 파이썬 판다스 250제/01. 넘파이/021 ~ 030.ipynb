{
 "cells": [
  {
   "cell_type": "markdown",
   "id": "5aef877d",
   "metadata": {},
   "source": [
    "### astype\n",
    "\n",
    "arr 배열은 flopat64 타입입니다. 이를 np.int32 타입으로 변경하세요.\n",
    "\n",
    "import numpy as np  \n",
    "  \n",
    "arr = np.array([1.1, 2.1, 3.1])  \n",
    "arr"
   ]
  },
  {
   "cell_type": "code",
   "execution_count": 8,
   "id": "5daab0de",
   "metadata": {},
   "outputs": [
    {
     "data": {
      "text/plain": [
       "array([1.1, 2.1, 3.1])"
      ]
     },
     "execution_count": 8,
     "metadata": {},
     "output_type": "execute_result"
    }
   ],
   "source": [
    "import numpy as np\n",
    "\n",
    "arr = np.array([1.1, 2.1, 3.1])\n",
    "arr"
   ]
  },
  {
   "cell_type": "code",
   "execution_count": 6,
   "id": "605a1b9d",
   "metadata": {},
   "outputs": [
    {
     "data": {
      "text/plain": [
       "array([1, 2, 3])"
      ]
     },
     "execution_count": 6,
     "metadata": {},
     "output_type": "execute_result"
    }
   ],
   "source": [
    "arr = arr.astype(np.int32)\n",
    "arr"
   ]
  },
  {
   "cell_type": "code",
   "execution_count": 7,
   "id": "551ae705",
   "metadata": {},
   "outputs": [
    {
     "name": "stdout",
     "output_type": "stream",
     "text": [
      "int32\n"
     ]
    }
   ],
   "source": [
    "print(arr.dtype)"
   ]
  },
  {
   "cell_type": "markdown",
   "id": "0614459c",
   "metadata": {},
   "source": [
    "### linspace\n",
    "\n",
    "0 ~ 10 사이를 구간을 20개의 포인트로 분활한 결과를 ndarray로 표현하라."
   ]
  },
  {
   "cell_type": "code",
   "execution_count": 10,
   "id": "9735e37a",
   "metadata": {},
   "outputs": [
    {
     "data": {
      "text/plain": [
       "array([ 0.        ,  0.52631579,  1.05263158,  1.57894737,  2.10526316,\n",
       "        2.63157895,  3.15789474,  3.68421053,  4.21052632,  4.73684211,\n",
       "        5.26315789,  5.78947368,  6.31578947,  6.84210526,  7.36842105,\n",
       "        7.89473684,  8.42105263,  8.94736842,  9.47368421, 10.        ])"
      ]
     },
     "execution_count": 10,
     "metadata": {},
     "output_type": "execute_result"
    }
   ],
   "source": [
    "np.linspace(0,10,20)"
   ]
  },
  {
   "cell_type": "markdown",
   "id": "4e39305e",
   "metadata": {},
   "source": [
    "### 로우 인덱싱\n",
    "\n",
    "다음의 ndarray 객체에서 마지막 로우 [6, 7, 8]을 출력하세요."
   ]
  },
  {
   "cell_type": "code",
   "execution_count": 27,
   "id": "948536e8",
   "metadata": {},
   "outputs": [
    {
     "data": {
      "text/plain": [
       "array([[0, 1, 2],\n",
       "       [3, 4, 5],\n",
       "       [6, 7, 8]])"
      ]
     },
     "execution_count": 27,
     "metadata": {},
     "output_type": "execute_result"
    }
   ],
   "source": [
    "arr = np.arange(9).reshape(3, 3)\n",
    "arr"
   ]
  },
  {
   "cell_type": "code",
   "execution_count": 17,
   "id": "f0282f77",
   "metadata": {},
   "outputs": [
    {
     "data": {
      "text/plain": [
       "array([[6, 7, 8]])"
      ]
     },
     "execution_count": 17,
     "metadata": {},
     "output_type": "execute_result"
    }
   ],
   "source": [
    "#내가 작성한 답\n",
    "arr[2:3, 0:3]"
   ]
  },
  {
   "cell_type": "code",
   "execution_count": 28,
   "id": "ea2fffc8",
   "metadata": {},
   "outputs": [
    {
     "data": {
      "text/plain": [
       "array([6, 7, 8])"
      ]
     },
     "execution_count": 28,
     "metadata": {},
     "output_type": "execute_result"
    }
   ],
   "source": [
    "#위키독스에서 제시한 답\n",
    "arr[2]"
   ]
  },
  {
   "cell_type": "markdown",
   "id": "53ff689b",
   "metadata": {},
   "source": [
    "### 컬럼 인덱싱\n",
    "\n",
    "다음의 ndarray 객체에서 두 번째 [1, 4, 7]을 출력하세요."
   ]
  },
  {
   "cell_type": "code",
   "execution_count": 29,
   "id": "4aa5921b",
   "metadata": {},
   "outputs": [
    {
     "data": {
      "text/plain": [
       "array([[0, 1, 2],\n",
       "       [3, 4, 5],\n",
       "       [6, 7, 8]])"
      ]
     },
     "execution_count": 29,
     "metadata": {},
     "output_type": "execute_result"
    }
   ],
   "source": [
    "arr = np.arange(9).reshape(3, 3)\n",
    "arr"
   ]
  },
  {
   "cell_type": "code",
   "execution_count": 20,
   "id": "555a48d6",
   "metadata": {},
   "outputs": [
    {
     "data": {
      "text/plain": [
       "array([[1],\n",
       "       [4],\n",
       "       [7]])"
      ]
     },
     "execution_count": 20,
     "metadata": {},
     "output_type": "execute_result"
    }
   ],
   "source": [
    "#내가 제시한 답\n",
    "arr[0:3, 1:2]"
   ]
  },
  {
   "cell_type": "code",
   "execution_count": 30,
   "id": "52c810c7",
   "metadata": {},
   "outputs": [
    {
     "data": {
      "text/plain": [
       "array([1, 4, 7])"
      ]
     },
     "execution_count": 30,
     "metadata": {},
     "output_type": "execute_result"
    }
   ],
   "source": [
    "#위키독스에서 제시한 답\n",
    "arr[:,1]"
   ]
  },
  {
   "cell_type": "markdown",
   "id": "e960063d",
   "metadata": {},
   "source": [
    "### 데이터 인덱싱\n",
    "\n",
    "다음의 ndarray 객체에서 17을 선택하는 코드를 작성하라."
   ]
  },
  {
   "cell_type": "code",
   "execution_count": 32,
   "id": "4bdd5901",
   "metadata": {},
   "outputs": [
    {
     "data": {
      "text/plain": [
       "array([[ 0,  1,  2,  3,  4],\n",
       "       [ 5,  6,  7,  8,  9],\n",
       "       [10, 11, 12, 13, 14],\n",
       "       [15, 16, 17, 18, 19],\n",
       "       [20, 21, 22, 23, 24]])"
      ]
     },
     "execution_count": 32,
     "metadata": {},
     "output_type": "execute_result"
    }
   ],
   "source": [
    "arr = np.arange(25).reshape(5, 5)\n",
    "arr"
   ]
  },
  {
   "cell_type": "code",
   "execution_count": 24,
   "id": "3fcaa8e8",
   "metadata": {},
   "outputs": [
    {
     "data": {
      "text/plain": [
       "array([[17]])"
      ]
     },
     "execution_count": 24,
     "metadata": {},
     "output_type": "execute_result"
    }
   ],
   "source": [
    "arr[3:4, 2:3]"
   ]
  },
  {
   "cell_type": "code",
   "execution_count": 34,
   "id": "3352ab02",
   "metadata": {},
   "outputs": [
    {
     "data": {
      "text/plain": [
       "17"
      ]
     },
     "execution_count": 34,
     "metadata": {},
     "output_type": "execute_result"
    }
   ],
   "source": [
    "#위키독스에서 제시한 답\n",
    "arr[3][2] # 방법1\n",
    "arr[3, 2] # 방법2 <- 한번에 인덱싱해서 성능측면에서 유리"
   ]
  },
  {
   "cell_type": "markdown",
   "id": "14a27e80",
   "metadata": {},
   "source": [
    "### 슬라이싱\n",
    "\n",
    "[1 3]을 슬라이싱 하는 코드를 작성하세요."
   ]
  },
  {
   "cell_type": "code",
   "execution_count": 35,
   "id": "5dd884a3",
   "metadata": {},
   "outputs": [
    {
     "data": {
      "text/plain": [
       "array([0, 1, 2, 3, 4])"
      ]
     },
     "execution_count": 35,
     "metadata": {},
     "output_type": "execute_result"
    }
   ],
   "source": [
    "arr = np.arange(5)\n",
    "\n",
    "arr"
   ]
  },
  {
   "cell_type": "code",
   "execution_count": 40,
   "id": "46688d38",
   "metadata": {},
   "outputs": [
    {
     "ename": "IndexError",
     "evalue": "too many indices for array: array is 1-dimensional, but 2 were indexed",
     "output_type": "error",
     "traceback": [
      "\u001b[1;31m---------------------------------------------------------------------------\u001b[0m",
      "\u001b[1;31mIndexError\u001b[0m                                Traceback (most recent call last)",
      "Input \u001b[1;32mIn [40]\u001b[0m, in \u001b[0;36m<cell line: 1>\u001b[1;34m()\u001b[0m\n\u001b[1;32m----> 1\u001b[0m \u001b[43marr\u001b[49m\u001b[43m[\u001b[49m\u001b[38;5;241;43m1\u001b[39;49m\u001b[43m,\u001b[49m\u001b[43m \u001b[49m\u001b[38;5;241;43m3\u001b[39;49m\u001b[43m]\u001b[49m\n\u001b[0;32m      2\u001b[0m \u001b[38;5;66;03m#위키독스에서 제시한 답\u001b[39;00m\n\u001b[0;32m      3\u001b[0m arr[[\u001b[38;5;241m1\u001b[39m, \u001b[38;5;241m3\u001b[39m]]\n",
      "\u001b[1;31mIndexError\u001b[0m: too many indices for array: array is 1-dimensional, but 2 were indexed"
     ]
    }
   ],
   "source": [
    "arr[1, 3]\n",
    "#위키독스에서 제시한 답\n",
    "arr[[1, 3]]"
   ]
  },
  {
   "cell_type": "markdown",
   "id": "1b4913b1",
   "metadata": {},
   "source": [
    "### 슬라이싱\n",
    "\n",
    "[6 7 8 9]를 슬라이싱 하는 코드를 작성하세요."
   ]
  },
  {
   "cell_type": "code",
   "execution_count": 41,
   "id": "6c4f8d7b",
   "metadata": {},
   "outputs": [
    {
     "data": {
      "text/plain": [
       "array([[ 0,  1,  2,  3,  4],\n",
       "       [ 5,  6,  7,  8,  9],\n",
       "       [10, 11, 12, 13, 14],\n",
       "       [15, 16, 17, 18, 19],\n",
       "       [20, 21, 22, 23, 24]])"
      ]
     },
     "execution_count": 41,
     "metadata": {},
     "output_type": "execute_result"
    }
   ],
   "source": [
    "arr = np.arange(25).reshape(5, 5)\n",
    "arr"
   ]
  },
  {
   "cell_type": "code",
   "execution_count": 49,
   "id": "599a2a82",
   "metadata": {},
   "outputs": [
    {
     "data": {
      "text/plain": [
       "array([[6, 7, 8, 9]])"
      ]
     },
     "execution_count": 49,
     "metadata": {},
     "output_type": "execute_result"
    }
   ],
   "source": [
    "arr[1:2, [1, 2, 3, 4]]"
   ]
  },
  {
   "cell_type": "code",
   "execution_count": 50,
   "id": "0cb909eb",
   "metadata": {},
   "outputs": [
    {
     "data": {
      "text/plain": [
       "array([6, 7, 8, 9])"
      ]
     },
     "execution_count": 50,
     "metadata": {},
     "output_type": "execute_result"
    }
   ],
   "source": [
    "#위키독스에서 제시한 답\n",
    "\n",
    "arr[1][1:]\n",
    "arr[1, 1:] #한 번에 슬라이싱하는 것이 성능 측면에서 유리합니다."
   ]
  },
  {
   "cell_type": "markdown",
   "id": "dca2adfa",
   "metadata": {},
   "source": [
    "### 슬라이싱\n",
    "\n",
    "첫번째와 두번째 컬럼을 슬라이싱하는 코드를 작성하세요."
   ]
  },
  {
   "cell_type": "code",
   "execution_count": 52,
   "id": "709fe3ac",
   "metadata": {},
   "outputs": [
    {
     "data": {
      "text/plain": [
       "array([[ 0,  1,  2,  3,  4],\n",
       "       [ 5,  6,  7,  8,  9],\n",
       "       [10, 11, 12, 13, 14],\n",
       "       [15, 16, 17, 18, 19],\n",
       "       [20, 21, 22, 23, 24]])"
      ]
     },
     "execution_count": 52,
     "metadata": {},
     "output_type": "execute_result"
    }
   ],
   "source": [
    "arr = np.arange(25).reshape(5, 5)\n",
    "arr"
   ]
  },
  {
   "cell_type": "code",
   "execution_count": 57,
   "id": "ef5dad4e",
   "metadata": {},
   "outputs": [
    {
     "data": {
      "text/plain": [
       "array([[ 0,  1],\n",
       "       [ 5,  6],\n",
       "       [10, 11],\n",
       "       [15, 16],\n",
       "       [20, 21]])"
      ]
     },
     "execution_count": 57,
     "metadata": {},
     "output_type": "execute_result"
    }
   ],
   "source": [
    "# 위키백과에서 제시한 답\n",
    "\n",
    "arr[:, 0:2] # 콤마를 기준으로 앞에는 행에 대한 정보를 뒤에는 열에 대한 정보를 입력합니다. 전체 행에 대해서 두개의 칼럼을 슬라이싱합니다."
   ]
  },
  {
   "cell_type": "markdown",
   "id": "49ca3736",
   "metadata": {},
   "source": [
    "### 슬라이싱\n",
    "\n",
    "6, 7, 11, 12를 2x2 ndarray로 슬라이싱하는 코드를 작성하세요."
   ]
  },
  {
   "cell_type": "code",
   "execution_count": 58,
   "id": "9ae4a487",
   "metadata": {},
   "outputs": [
    {
     "data": {
      "text/plain": [
       "array([[ 0,  1,  2,  3,  4],\n",
       "       [ 5,  6,  7,  8,  9],\n",
       "       [10, 11, 12, 13, 14],\n",
       "       [15, 16, 17, 18, 19],\n",
       "       [20, 21, 22, 23, 24]])"
      ]
     },
     "execution_count": 58,
     "metadata": {},
     "output_type": "execute_result"
    }
   ],
   "source": [
    "arr = np.arange(25).reshape(5, 5)\n",
    "arr"
   ]
  },
  {
   "cell_type": "code",
   "execution_count": 69,
   "id": "3026056e",
   "metadata": {},
   "outputs": [
    {
     "data": {
      "text/plain": [
       "array([[ 6,  7],\n",
       "       [11, 12]])"
      ]
     },
     "execution_count": 69,
     "metadata": {},
     "output_type": "execute_result"
    }
   ],
   "source": [
    "arr[1:3 , 1:3]"
   ]
  }
 ],
 "metadata": {
  "kernelspec": {
   "display_name": "Python 3 (ipykernel)",
   "language": "python",
   "name": "python3"
  },
  "language_info": {
   "codemirror_mode": {
    "name": "ipython",
    "version": 3
   },
   "file_extension": ".py",
   "mimetype": "text/x-python",
   "name": "python",
   "nbconvert_exporter": "python",
   "pygments_lexer": "ipython3",
   "version": "3.9.12"
  }
 },
 "nbformat": 4,
 "nbformat_minor": 5
}
