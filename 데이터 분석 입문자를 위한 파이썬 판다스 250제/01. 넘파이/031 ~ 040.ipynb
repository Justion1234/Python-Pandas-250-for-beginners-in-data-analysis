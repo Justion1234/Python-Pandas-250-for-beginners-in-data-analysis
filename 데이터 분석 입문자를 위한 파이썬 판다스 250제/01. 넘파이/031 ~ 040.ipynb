{
 "cells": [
  {
   "cell_type": "markdown",
   "id": "d12f1273",
   "metadata": {},
   "source": [
    "### ndarray 곱셈\n",
    "\n",
    "전체 데이터에 10을 곱한 결과를 ndarray에 저장하세요.\n",
    "\n",
    "data = [1, 2, 3]"
   ]
  },
  {
   "cell_type": "code",
   "execution_count": 2,
   "id": "5d6159f8",
   "metadata": {},
   "outputs": [
    {
     "data": {
      "text/plain": [
       "array([10, 20, 30])"
      ]
     },
     "execution_count": 2,
     "metadata": {},
     "output_type": "execute_result"
    }
   ],
   "source": [
    "#내 정답:\n",
    "\n",
    "import numpy as np\n",
    "\n",
    "data = np.array([1, 2, 3])\n",
    "data = data * 10\n",
    "data"
   ]
  },
  {
   "cell_type": "code",
   "execution_count": 7,
   "id": "2ceeb35b",
   "metadata": {},
   "outputs": [
    {
     "name": "stdout",
     "output_type": "stream",
     "text": [
      "[10 20 30]\n"
     ]
    }
   ],
   "source": [
    "#위키독스에서 제시한 답:\n",
    "\n",
    "data = np.array([1, 2, 3])\n",
    "result = np.array(data) * 10\n",
    "print(result)"
   ]
  },
  {
   "cell_type": "markdown",
   "id": "176bdfb6",
   "metadata": {},
   "source": [
    "### ndarray 제곱\n",
    "\n",
    "전체 데이터에 제곰한 결과를 ndarray에 저장하세요.\n",
    "\n",
    "data = [1, 2, 3]"
   ]
  },
  {
   "cell_type": "code",
   "execution_count": 9,
   "id": "c1c1cb16",
   "metadata": {},
   "outputs": [
    {
     "data": {
      "text/plain": [
       "array([1, 4, 9], dtype=int32)"
      ]
     },
     "execution_count": 9,
     "metadata": {},
     "output_type": "execute_result"
    }
   ],
   "source": [
    "data = np.array([1, 2, 3])\n",
    "data ** 2"
   ]
  },
  {
   "cell_type": "markdown",
   "id": "96aae6cc",
   "metadata": {},
   "source": [
    "### ndarray 루트\n",
    "\n",
    "전체 데이터에 루트를 적용한 결과를 ndarray에 저장하세요.\n",
    "\n",
    "data = [1, 2, 3]"
   ]
  },
  {
   "cell_type": "code",
   "execution_count": 5,
   "id": "e6ad57b7",
   "metadata": {},
   "outputs": [
    {
     "data": {
      "text/plain": [
       "array([1.        , 1.41421356, 1.73205081])"
      ]
     },
     "execution_count": 5,
     "metadata": {},
     "output_type": "execute_result"
    }
   ],
   "source": [
    "data = np.array([1, 2, 3])\n",
    "data = np.sqrt(data)\n",
    "\n",
    "data"
   ]
  },
  {
   "cell_type": "markdown",
   "id": "411b8fdf",
   "metadata": {},
   "source": [
    "### ndarray 컬럼 평균\n",
    "\n",
    "다음 ndarray에는 중간고사의 국어점수(10), 영어점수(20), 기말고사의 국어점수(14), 영어점수(16)이 저장돼 있습니다."
   ]
  },
  {
   "cell_type": "code",
   "execution_count": 3,
   "id": "d0c194ba",
   "metadata": {},
   "outputs": [],
   "source": [
    "score = np.array([\n",
    "    [10 ,20], #중간고사\n",
    "    [14, 16] #기말고사\n",
    "])"
   ]
  },
  {
   "cell_type": "markdown",
   "id": "d7670086",
   "metadata": {},
   "source": [
    "과목별 평균 점수를 출력하세요."
   ]
  },
  {
   "cell_type": "code",
   "execution_count": 6,
   "id": "3ce3eb98",
   "metadata": {},
   "outputs": [
    {
     "data": {
      "text/plain": [
       "array([12., 18.])"
      ]
     },
     "execution_count": 6,
     "metadata": {},
     "output_type": "execute_result"
    }
   ],
   "source": [
    "#위키독스에서 제시한 답\n",
    "score.mean(axis=0)\n",
    "\n",
    "#axis=0은 행 방향으로 동작합니다.\n",
    "#axis=1은 열 방향으로 동작합니다."
   ]
  },
  {
   "cell_type": "markdown",
   "id": "09f6f716",
   "metadata": {},
   "source": [
    "### ndarray 로우 표준편차\n",
    "\n",
    "다음 ndarray에는 중간고사의 국어점수(10), 영어점수(20), 기말고사의 국어점수(14), 영어점수(16)이 저장돼 있습니다."
   ]
  },
  {
   "cell_type": "code",
   "execution_count": 7,
   "id": "26b9cd6e",
   "metadata": {},
   "outputs": [],
   "source": [
    "score = np.array([\n",
    "    [10, 20],  # 중간고사\n",
    "    [14, 16]   # 기말고사\n",
    "])"
   ]
  },
  {
   "cell_type": "markdown",
   "id": "ac37ba75",
   "metadata": {},
   "source": [
    "중간고사와 기말고사의 표준편차를 출력하세요."
   ]
  },
  {
   "cell_type": "code",
   "execution_count": 11,
   "id": "5c240de3",
   "metadata": {},
   "outputs": [
    {
     "data": {
      "text/plain": [
       "array([5., 1.])"
      ]
     },
     "execution_count": 11,
     "metadata": {},
     "output_type": "execute_result"
    }
   ],
   "source": [
    "np.std(score, axis=1)"
   ]
  },
  {
   "cell_type": "markdown",
   "id": "8bb87b13",
   "metadata": {},
   "source": [
    "### 행렬곱\n",
    "\n",
    "두 행렬의 곱셈결과를 출력하세요."
   ]
  },
  {
   "cell_type": "code",
   "execution_count": 19,
   "id": "ec0b48c4",
   "metadata": {},
   "outputs": [
    {
     "data": {
      "text/plain": [
       "array([[0, 1],\n",
       "       [2, 3]])"
      ]
     },
     "execution_count": 19,
     "metadata": {},
     "output_type": "execute_result"
    }
   ],
   "source": [
    "a = np.arange(4).reshape(2, 2)\n",
    "a"
   ]
  },
  {
   "cell_type": "code",
   "execution_count": 20,
   "id": "ce7e8c20",
   "metadata": {},
   "outputs": [
    {
     "data": {
      "text/plain": [
       "array([[1, 2],\n",
       "       [3, 4]])"
      ]
     },
     "execution_count": 20,
     "metadata": {},
     "output_type": "execute_result"
    }
   ],
   "source": [
    "b = np.arange(1, 5).reshape(2, 2)\n",
    "b"
   ]
  },
  {
   "cell_type": "code",
   "execution_count": 22,
   "id": "0abbe6f8",
   "metadata": {},
   "outputs": [
    {
     "data": {
      "text/plain": [
       "array([[ 0,  2],\n",
       "       [ 6, 12]])"
      ]
     },
     "execution_count": 22,
     "metadata": {},
     "output_type": "execute_result"
    }
   ],
   "source": [
    "a * b"
   ]
  },
  {
   "cell_type": "code",
   "execution_count": 24,
   "id": "a9a88f02",
   "metadata": {},
   "outputs": [
    {
     "data": {
      "text/plain": [
       "array([[ 3,  4],\n",
       "       [11, 16]])"
      ]
     },
     "execution_count": 24,
     "metadata": {},
     "output_type": "execute_result"
    }
   ],
   "source": [
    "#위키독스에서 제시한 답:\n",
    "np.matmul(a, b)\n",
    "a @ b"
   ]
  },
  {
   "cell_type": "markdown",
   "id": "69cf305f",
   "metadata": {},
   "source": [
    "### 전치행렬\n",
    "\n",
    "다음의 ndarray로 행과 열의 위치를 바꾼 전치행렬을 출력하세요.\n",
    "\n",
    "arr = np.arange(9).reshape(3, 3)"
   ]
  },
  {
   "cell_type": "code",
   "execution_count": 27,
   "id": "32839fdb",
   "metadata": {},
   "outputs": [
    {
     "data": {
      "text/plain": [
       "array([[0, 1, 2],\n",
       "       [3, 4, 5],\n",
       "       [6, 7, 8]])"
      ]
     },
     "execution_count": 27,
     "metadata": {},
     "output_type": "execute_result"
    }
   ],
   "source": [
    "arr = np.arange(9).reshape(3, 3)\n",
    "\n",
    "arr"
   ]
  },
  {
   "cell_type": "code",
   "execution_count": 28,
   "id": "94eb7cfd",
   "metadata": {},
   "outputs": [
    {
     "data": {
      "text/plain": [
       "array([[0, 3, 6],\n",
       "       [1, 4, 7],\n",
       "       [2, 5, 8]])"
      ]
     },
     "execution_count": 28,
     "metadata": {},
     "output_type": "execute_result"
    }
   ],
   "source": [
    "np.transpose(arr)"
   ]
  },
  {
   "cell_type": "code",
   "execution_count": 30,
   "id": "7026bd9a",
   "metadata": {},
   "outputs": [
    {
     "data": {
      "text/plain": [
       "array([[0, 3, 6],\n",
       "       [1, 4, 7],\n",
       "       [2, 5, 8]])"
      ]
     },
     "execution_count": 30,
     "metadata": {},
     "output_type": "execute_result"
    }
   ],
   "source": [
    "#위키독스에서 제시한 답\n",
    "\n",
    "arr.T\n",
    "arr.transpose()"
   ]
  },
  {
   "cell_type": "markdown",
   "id": "e8526e1b",
   "metadata": {},
   "source": [
    "### 짝수 배열\n",
    "\n",
    "다음 배열에서 짝수 값만 추출하세요."
   ]
  },
  {
   "cell_type": "code",
   "execution_count": 31,
   "id": "dd48d7a2",
   "metadata": {},
   "outputs": [],
   "source": [
    "arr = np.arange(10)"
   ]
  },
  {
   "cell_type": "code",
   "execution_count": 32,
   "id": "c49555cc",
   "metadata": {},
   "outputs": [
    {
     "data": {
      "text/plain": [
       "array([0, 2, 4, 6, 8])"
      ]
     },
     "execution_count": 32,
     "metadata": {},
     "output_type": "execute_result"
    }
   ],
   "source": [
    "arr[arr % 2 == 0]"
   ]
  },
  {
   "cell_type": "markdown",
   "id": "b7af951c",
   "metadata": {},
   "source": [
    "### 홀수 배열\n",
    "\n",
    "다음 배열에서 짝수 값만 추출하세요."
   ]
  },
  {
   "cell_type": "code",
   "execution_count": 33,
   "id": "03ad120d",
   "metadata": {},
   "outputs": [
    {
     "data": {
      "text/plain": [
       "array([1, 3, 5, 7, 9])"
      ]
     },
     "execution_count": 33,
     "metadata": {},
     "output_type": "execute_result"
    }
   ],
   "source": [
    "arr = np.arange(10)\n",
    "arr[arr % 2 != 0]"
   ]
  },
  {
   "cell_type": "markdown",
   "id": "3267f3cf",
   "metadata": {},
   "source": [
    "### 여러 조건\n",
    "\n",
    "다음 배열에서 3보다 크고 7보다 작은수만 추출하세요\n",
    "\n",
    " arr = np.arange(10)"
   ]
  },
  {
   "cell_type": "code",
   "execution_count": 40,
   "id": "00a5df23",
   "metadata": {},
   "outputs": [
    {
     "ename": "ValueError",
     "evalue": "The truth value of an array with more than one element is ambiguous. Use a.any() or a.all()",
     "output_type": "error",
     "traceback": [
      "\u001b[1;31m---------------------------------------------------------------------------\u001b[0m",
      "\u001b[1;31mValueError\u001b[0m                                Traceback (most recent call last)",
      "Input \u001b[1;32mIn [40]\u001b[0m, in \u001b[0;36m<cell line: 2>\u001b[1;34m()\u001b[0m\n\u001b[0;32m      1\u001b[0m arr \u001b[38;5;241m=\u001b[39m np\u001b[38;5;241m.\u001b[39marange(\u001b[38;5;241m10\u001b[39m)\n\u001b[1;32m----> 2\u001b[0m arr[arr \u001b[38;5;241m>\u001b[39m \u001b[38;5;241m3\u001b[39m \u001b[38;5;241m&\u001b[39m arr \u001b[38;5;241m<\u001b[39m \u001b[38;5;241m7\u001b[39m]\n",
      "\u001b[1;31mValueError\u001b[0m: The truth value of an array with more than one element is ambiguous. Use a.any() or a.all()"
     ]
    }
   ],
   "source": [
    "arr = np.arange(10)\n",
    "arr[arr > 3 & arr < 7]"
   ]
  },
  {
   "cell_type": "code",
   "execution_count": 42,
   "id": "32d744c7",
   "metadata": {},
   "outputs": [
    {
     "data": {
      "text/plain": [
       "array([4, 5, 6])"
      ]
     },
     "execution_count": 42,
     "metadata": {},
     "output_type": "execute_result"
    }
   ],
   "source": [
    "#위키돇,에서 제시한 답\n",
    "arr = np.arange(10)\n",
    "arr[(arr > 3) & (arr < 7)]"
   ]
  },
  {
   "cell_type": "code",
   "execution_count": null,
   "id": "15c4cc70",
   "metadata": {},
   "outputs": [],
   "source": []
  }
 ],
 "metadata": {
  "kernelspec": {
   "display_name": "Python 3 (ipykernel)",
   "language": "python",
   "name": "python3"
  },
  "language_info": {
   "codemirror_mode": {
    "name": "ipython",
    "version": 3
   },
   "file_extension": ".py",
   "mimetype": "text/x-python",
   "name": "python",
   "nbconvert_exporter": "python",
   "pygments_lexer": "ipython3",
   "version": "3.9.12"
  }
 },
 "nbformat": 4,
 "nbformat_minor": 5
}
