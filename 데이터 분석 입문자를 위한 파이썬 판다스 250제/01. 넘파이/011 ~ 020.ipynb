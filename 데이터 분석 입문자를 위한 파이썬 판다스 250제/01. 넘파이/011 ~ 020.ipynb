{
 "cells": [
  {
   "cell_type": "code",
   "execution_count": 2,
   "id": "a6362748",
   "metadata": {},
   "outputs": [],
   "source": [
    "import numpy as np"
   ]
  },
  {
   "cell_type": "markdown",
   "id": "b20a438c",
   "metadata": {},
   "source": [
    "### 2차원 배열\n",
    "\n",
    "다음과 같이 2차원 ndarray 객체를 정의하세요.  \n",
    "\n",
    "[[0 1 2]  \n",
    "&nbsp;[ 3 4 5]]"
   ]
  },
  {
   "cell_type": "code",
   "execution_count": 3,
   "id": "d20d9b94",
   "metadata": {},
   "outputs": [
    {
     "ename": "TypeError",
     "evalue": "'builtin_function_or_method' object is not subscriptable",
     "output_type": "error",
     "traceback": [
      "\u001b[1;31m---------------------------------------------------------------------------\u001b[0m",
      "\u001b[1;31mTypeError\u001b[0m                                 Traceback (most recent call last)",
      "Input \u001b[1;32mIn [3]\u001b[0m, in \u001b[0;36m<cell line: 1>\u001b[1;34m()\u001b[0m\n\u001b[1;32m----> 1\u001b[0m \u001b[43mnp\u001b[49m\u001b[38;5;241;43m.\u001b[39;49m\u001b[43marray\u001b[49m\u001b[43m[\u001b[49m\u001b[38;5;241;43m2\u001b[39;49m\u001b[43m,\u001b[49m\u001b[43m \u001b[49m\u001b[38;5;241;43m3\u001b[39;49m\u001b[43m]\u001b[49m\n",
      "\u001b[1;31mTypeError\u001b[0m: 'builtin_function_or_method' object is not subscriptable"
     ]
    }
   ],
   "source": [
    "np.array[2, 3]"
   ]
  },
  {
   "cell_type": "code",
   "execution_count": 5,
   "id": "3744d21c",
   "metadata": {},
   "outputs": [
    {
     "data": {
      "text/plain": [
       "array([[0, 1, 2],\n",
       "       [3, 4, 5]])"
      ]
     },
     "execution_count": 5,
     "metadata": {},
     "output_type": "execute_result"
    }
   ],
   "source": [
    "# 위키독스에서 제시한 정답\n",
    "\n",
    "data = [\n",
    "    [0, 1, 2],\n",
    "    [3, 4, 5]\n",
    "]\n",
    "arr = np.array(data)\n",
    "\n",
    "arr"
   ]
  },
  {
   "cell_type": "code",
   "execution_count": 6,
   "id": "e54d3b62",
   "metadata": {},
   "outputs": [
    {
     "data": {
      "text/plain": [
       "array([[0, 1, 2],\n",
       "       [3, 4, 5]])"
      ]
     },
     "execution_count": 6,
     "metadata": {},
     "output_type": "execute_result"
    }
   ],
   "source": [
    "np.arange(6).reshape(2, 3)"
   ]
  },
  {
   "cell_type": "markdown",
   "id": "7da4f5ea",
   "metadata": {},
   "source": [
    "### ones\n",
    "\n",
    "1이 20개 저장된 아래의 ndarray 객체를 만들어보세요."
   ]
  },
  {
   "cell_type": "code",
   "execution_count": 7,
   "id": "332126cf",
   "metadata": {},
   "outputs": [
    {
     "data": {
      "text/plain": [
       "array([1, 1, 1, 1, 1, 1, 1, 1, 1, 1, 1, 1, 1, 1, 1, 1, 1, 1, 1, 1])"
      ]
     },
     "execution_count": 7,
     "metadata": {},
     "output_type": "execute_result"
    }
   ],
   "source": [
    "# 위키독스에서 제시한 정답1\n",
    "\n",
    "data = [1] * 20\n",
    "np.array(data)"
   ]
  },
  {
   "cell_type": "code",
   "execution_count": 8,
   "id": "8beb7d44",
   "metadata": {},
   "outputs": [
    {
     "data": {
      "text/plain": [
       "array([1, 1, 1, 1, 1, 1, 1, 1, 1, 1, 1, 1, 1, 1, 1, 1, 1, 1, 1, 1])"
      ]
     },
     "execution_count": 8,
     "metadata": {},
     "output_type": "execute_result"
    }
   ],
   "source": [
    "#위키독스에서 제시한 정답2\n",
    "\n",
    "np.ones(20, dtype=int)"
   ]
  },
  {
   "cell_type": "markdown",
   "id": "ed818bcb",
   "metadata": {},
   "source": [
    "4행 5열로 저장된 아래의 ndarray 객체를 만들어 보세요.  \n",
    "[[1 1 1 1 1]  \n",
    " [1 1 1 1 1]  \n",
    " [1 1 1 1 1]  \n",
    " [1 1 1 1 1]]"
   ]
  },
  {
   "cell_type": "code",
   "execution_count": 10,
   "id": "020a02b9",
   "metadata": {},
   "outputs": [
    {
     "data": {
      "text/plain": [
       "array([[1, 1, 1, 1, 1],\n",
       "       [1, 1, 1, 1, 1],\n",
       "       [1, 1, 1, 1, 1],\n",
       "       [1, 1, 1, 1, 1]])"
      ]
     },
     "execution_count": 10,
     "metadata": {},
     "output_type": "execute_result"
    }
   ],
   "source": [
    "np.ones(20, dtype = int).reshape(4, 5)"
   ]
  },
  {
   "cell_type": "markdown",
   "id": "e150d1a5",
   "metadata": {},
   "source": [
    "255로 채워진 10X10크기의 ndarray 객체를 생성하세요."
   ]
  },
  {
   "cell_type": "code",
   "execution_count": 12,
   "id": "4144ee18",
   "metadata": {},
   "outputs": [
    {
     "data": {
      "text/plain": [
       "array([[255, 255, 255, 255, 255, 255, 255, 255, 255, 255],\n",
       "       [255, 255, 255, 255, 255, 255, 255, 255, 255, 255],\n",
       "       [255, 255, 255, 255, 255, 255, 255, 255, 255, 255],\n",
       "       [255, 255, 255, 255, 255, 255, 255, 255, 255, 255],\n",
       "       [255, 255, 255, 255, 255, 255, 255, 255, 255, 255],\n",
       "       [255, 255, 255, 255, 255, 255, 255, 255, 255, 255],\n",
       "       [255, 255, 255, 255, 255, 255, 255, 255, 255, 255],\n",
       "       [255, 255, 255, 255, 255, 255, 255, 255, 255, 255],\n",
       "       [255, 255, 255, 255, 255, 255, 255, 255, 255, 255],\n",
       "       [255, 255, 255, 255, 255, 255, 255, 255, 255, 255]])"
      ]
     },
     "execution_count": 12,
     "metadata": {},
     "output_type": "execute_result"
    }
   ],
   "source": [
    "# 못 풀어서 위키독스에서 제시해준 답 적음\n",
    "\n",
    "arr = np.ones(100, dtype=int).reshape(10, 10)\n",
    "arr = arr * 255\n",
    "\n",
    "arr"
   ]
  },
  {
   "cell_type": "markdown",
   "id": "4861fd77",
   "metadata": {},
   "source": [
    "### zeros\n",
    "\n",
    "3x4 (행x열) 크기의 0으로 채워진 배열을 생성해보세요."
   ]
  },
  {
   "cell_type": "code",
   "execution_count": 13,
   "id": "dd010cbd",
   "metadata": {},
   "outputs": [
    {
     "data": {
      "text/plain": [
       "array([[0, 0, 0, 0],\n",
       "       [0, 0, 0, 0],\n",
       "       [0, 0, 0, 0]])"
      ]
     },
     "execution_count": 13,
     "metadata": {},
     "output_type": "execute_result"
    }
   ],
   "source": [
    "arr = np.zeros(12, dtype=int).reshape(3, 4) \n",
    "arr"
   ]
  },
  {
   "cell_type": "markdown",
   "id": "03f167b9",
   "metadata": {},
   "source": [
    "### dtype\n",
    "\n",
    "[1, 2, 3]을 np.int32 타입의 ndarray 배열로 생성하세요."
   ]
  },
  {
   "cell_type": "code",
   "execution_count": 23,
   "id": "2470360d",
   "metadata": {},
   "outputs": [
    {
     "data": {
      "text/plain": [
       "array([1, 2, 3])"
      ]
     },
     "execution_count": 23,
     "metadata": {},
     "output_type": "execute_result"
    }
   ],
   "source": [
    "data = np.array([1, 2, 3], dtype='int32')\n",
    "\n",
    "data"
   ]
  },
  {
   "cell_type": "markdown",
   "id": "97f4ac34",
   "metadata": {},
   "source": [
    "다음 배열의 데이터 타입을 확인해보세요."
   ]
  },
  {
   "cell_type": "code",
   "execution_count": 26,
   "id": "db9fc8dd",
   "metadata": {},
   "outputs": [
    {
     "name": "stdout",
     "output_type": "stream",
     "text": [
      "int32\n"
     ]
    }
   ],
   "source": [
    "#위키독스에서 제시한 답\n",
    "print(data.dtype)"
   ]
  },
  {
   "cell_type": "markdown",
   "id": "1dae4201",
   "metadata": {},
   "source": [
    "다음 데이터를 np.int16 타입의 배열로 형번환하세요.\n",
    "\n",
    "arr = np.array([1, 2, 3])"
   ]
  },
  {
   "cell_type": "code",
   "execution_count": 28,
   "id": "ba7d17fc",
   "metadata": {},
   "outputs": [
    {
     "data": {
      "text/plain": [
       "array([1, 2, 3], dtype=int16)"
      ]
     },
     "execution_count": 28,
     "metadata": {},
     "output_type": "execute_result"
    }
   ],
   "source": [
    "arr = np.array([1, 2, 3])\n",
    "\n",
    "arr = arr.astype(np.int16)\n",
    "\n",
    "arr"
   ]
  }
 ],
 "metadata": {
  "kernelspec": {
   "display_name": "Python 3 (ipykernel)",
   "language": "python",
   "name": "python3"
  },
  "language_info": {
   "codemirror_mode": {
    "name": "ipython",
    "version": 3
   },
   "file_extension": ".py",
   "mimetype": "text/x-python",
   "name": "python",
   "nbconvert_exporter": "python",
   "pygments_lexer": "ipython3",
   "version": "3.9.12"
  }
 },
 "nbformat": 4,
 "nbformat_minor": 5
}
