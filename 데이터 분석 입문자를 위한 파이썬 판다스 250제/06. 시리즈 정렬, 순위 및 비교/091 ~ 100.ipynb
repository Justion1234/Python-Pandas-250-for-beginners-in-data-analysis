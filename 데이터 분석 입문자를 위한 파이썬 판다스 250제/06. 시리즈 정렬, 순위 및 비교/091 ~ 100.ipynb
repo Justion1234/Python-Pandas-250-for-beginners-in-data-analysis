{
 "cells": [
  {
   "cell_type": "markdown",
   "id": "0621b22b",
   "metadata": {},
   "source": [
    "### 시리즈 정렬\n",
    "\n",
    "시리즈에 저장된 데이터의 순서를 변경하라.\n",
    "\n",
    "data = [100, 300, 200]  \n",
    "index = [\"08/01\", \"08/02\", \"08/03\"]  \n",
    "s = Series(data, index)"
   ]
  },
  {
   "cell_type": "code",
   "execution_count": 3,
   "id": "313ba8c2",
   "metadata": {},
   "outputs": [
    {
     "data": {
      "text/plain": [
       "08/01    100\n",
       "08/03    200\n",
       "08/02    300\n",
       "dtype: int64"
      ]
     },
     "execution_count": 3,
     "metadata": {},
     "output_type": "execute_result"
    }
   ],
   "source": [
    "import pandas as pd\n",
    "\n",
    "data = [100, 300, 200]\n",
    "index = [\"08/01\", \"08/02\", \"08/03\"]\n",
    "s = pd.Series(data, index)\n",
    "\n",
    "s.sort_values()"
   ]
  },
  {
   "cell_type": "markdown",
   "id": "69b33aee",
   "metadata": {},
   "source": [
    "### 시리즈 정렬\n",
    "\n",
    "시리즈에 정장된 데이터를 오름차순 혹은 내림차순으로 정렬하라.\n",
    "\n",
    "randint 함수는 지정된 범위(10)에서 임의의 숫자를 생성해서 numpy의 ndarray 객체로 반환합니다. 실행할 때마다 다른 값이 출력되는데, 이는 정상입니다.\n",
    "\n",
    "import numpy as np\n",
    "\n",
    "data = np.random.randint(10, size=4)  \n",
    "s = Series(data)"
   ]
  },
  {
   "cell_type": "code",
   "execution_count": 15,
   "id": "4a43cd4f",
   "metadata": {},
   "outputs": [
    {
     "data": {
      "text/plain": [
       "1    3\n",
       "2    6\n",
       "0    7\n",
       "3    8\n",
       "dtype: int32"
      ]
     },
     "execution_count": 15,
     "metadata": {},
     "output_type": "execute_result"
    }
   ],
   "source": [
    "import numpy as np\n",
    "\n",
    "data = np.random.randint(10, size=4)\n",
    "s = pd.Series(data)\n",
    "s.sort_values()"
   ]
  },
  {
   "cell_type": "markdown",
   "id": "e0a315c2",
   "metadata": {},
   "source": [
    "### 시리즈 정렬\n",
    "\n",
    "인덱스를 기준으로 a, b, c 순서로 데이터를 정렬하라.\n",
    "\n",
    "s = Series(np.random.randint(10, size=4), [\"b\", \"c\", \"a\", \"d\"])"
   ]
  },
  {
   "cell_type": "code",
   "execution_count": 16,
   "id": "8778629a",
   "metadata": {},
   "outputs": [
    {
     "data": {
      "text/plain": [
       "a    5\n",
       "b    1\n",
       "c    3\n",
       "d    8\n",
       "dtype: int32"
      ]
     },
     "execution_count": 16,
     "metadata": {},
     "output_type": "execute_result"
    }
   ],
   "source": [
    "s = pd.Series(np.random.randint(10, size=4), [\"b\", \"c\", \"a\", \"d\"])\n",
    "s.sort_index()"
   ]
  },
  {
   "cell_type": "markdown",
   "id": "37fc3dd4",
   "metadata": {},
   "source": [
    "### 시리즈 연산\n",
    "\n",
    "시리즈에 네 제곱한 결과를 시리즈로 출력하라.\n",
    "\n",
    "data = [100, 300, 200]  \n",
    "s = Series(data)"
   ]
  },
  {
   "cell_type": "code",
   "execution_count": 17,
   "id": "f240b3ea",
   "metadata": {},
   "outputs": [
    {
     "name": "stdout",
     "output_type": "stream",
     "text": [
      "0     100000000\n",
      "1    8100000000\n",
      "2    1600000000\n",
      "dtype: int64\n"
     ]
    }
   ],
   "source": [
    "data = [100, 300, 200]\n",
    "s = pd.Series(data)\n",
    "\n",
    "print(s ** 4)"
   ]
  },
  {
   "cell_type": "markdown",
   "id": "558aa134",
   "metadata": {},
   "source": [
    "### 시리지의 비교연산\n",
    "\n",
    "시리즈에서 52000보다 작은 값을 출력하라.\n",
    "\n",
    "s = Series(data=[51500, 51200, 52500], index=[\"5/1\", \"5/2\", \"5/3\"])"
   ]
  },
  {
   "cell_type": "code",
   "execution_count": 21,
   "id": "a2fa5caf",
   "metadata": {},
   "outputs": [
    {
     "name": "stdout",
     "output_type": "stream",
     "text": [
      "5/1    51500\n",
      "5/2    51200\n",
      "dtype: int64\n"
     ]
    }
   ],
   "source": [
    "s = pd.Series(data=[51500, 51200, 52500], index=[\"5/1\", \"5/2\", \"5/3\"])\n",
    "print(s[s < 52000])"
   ]
  },
  {
   "cell_type": "markdown",
   "id": "0589866e",
   "metadata": {},
   "source": [
    "### 시리즈 비교연산\n",
    "\n",
    "5월 1일 이후의 데이터를 출력하라.\n",
    "\n",
    "s = Series(data=[51500, 51200, 52500], index=[\"5/1\", \"5/2\", \"5/3\"])"
   ]
  },
  {
   "cell_type": "code",
   "execution_count": 22,
   "id": "70c912d1",
   "metadata": {},
   "outputs": [
    {
     "name": "stdout",
     "output_type": "stream",
     "text": [
      "5/2    51200\n",
      "5/3    52500\n",
      "dtype: int64\n"
     ]
    }
   ],
   "source": [
    "print(s.loc[s.index > \"5/1\"])"
   ]
  },
  {
   "cell_type": "markdown",
   "id": "b80dd184",
   "metadata": {},
   "source": [
    "### 시리즈 비교연산\n",
    "\n",
    "51400원 이상 53000 이하의 값을 출력하라.\n",
    "\n",
    "s = Series(data=[51500, 51200, 52500], index=[\"5/1\", \"5/2\", \"5/3\"])"
   ]
  },
  {
   "cell_type": "code",
   "execution_count": 27,
   "id": "ef17030a",
   "metadata": {},
   "outputs": [
    {
     "name": "stdout",
     "output_type": "stream",
     "text": [
      "5/1     True\n",
      "5/2    False\n",
      "5/3     True\n",
      "dtype: bool\n"
     ]
    }
   ],
   "source": [
    "#위키백과에서 제시한 답\n",
    "\n",
    "s = pd.Series(data=[51500, 51200, 52500], index=[\"5/1\", \"5/2\", \"5/3\"])\n",
    "\n",
    "one = s >= 51400\n",
    "second = s <= 53000\n",
    "\n",
    "print(one & second)"
   ]
  },
  {
   "cell_type": "markdown",
   "id": "501bc618",
   "metadata": {},
   "source": [
    "### 시리즈 비교 연산\n",
    "\n",
    "시리즈에서 가격이 52000원 이하였던 날은 몇일인가?\n",
    "\n",
    "s = Series(data=[51500, 51200, 52500], index=[\"5/1\", \"5/2\", \"5/3\"])"
   ]
  },
  {
   "cell_type": "code",
   "execution_count": 4,
   "id": "6a7400d4",
   "metadata": {},
   "outputs": [
    {
     "name": "stdout",
     "output_type": "stream",
     "text": [
      "2\n"
     ]
    }
   ],
   "source": [
    "import pandas as pd\n",
    "\n",
    "s = pd.Series(data=[51500, 51200, 52500], index=[\"5/1\", \"5/2\", \"5/3\"])\n",
    "print(len(s [s< 52000]))"
   ]
  }
 ],
 "metadata": {
  "kernelspec": {
   "display_name": "Python 3 (ipykernel)",
   "language": "python",
   "name": "python3"
  },
  "language_info": {
   "codemirror_mode": {
    "name": "ipython",
    "version": 3
   },
   "file_extension": ".py",
   "mimetype": "text/x-python",
   "name": "python",
   "nbconvert_exporter": "python",
   "pygments_lexer": "ipython3",
   "version": "3.9.12"
  }
 },
 "nbformat": 4,
 "nbformat_minor": 5
}
