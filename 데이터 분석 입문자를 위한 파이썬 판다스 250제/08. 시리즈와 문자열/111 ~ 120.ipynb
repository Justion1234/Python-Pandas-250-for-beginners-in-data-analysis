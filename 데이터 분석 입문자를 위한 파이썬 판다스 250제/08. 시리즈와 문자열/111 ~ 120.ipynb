{
 "cells": [
  {
   "cell_type": "markdown",
   "id": "f326d307",
   "metadata": {},
   "source": [
    "### count\n",
    "\n",
    "다음 시리즈 객체가 있을 때 null이 아닌 값의 개수를 출력하세요."
   ]
  },
  {
   "cell_type": "markdown",
   "id": "2607108d",
   "metadata": {},
   "source": [
    "import numpy as np\n",
    "import pandas as pd\n",
    "\n",
    "data = [1, 2, 3, 4, np.nan]\n",
    "s = pd.Series(data=data)\n",
    "\n"
   ]
  },
  {
   "cell_type": "markdown",
   "id": "39d625b7",
   "metadata": {},
   "source": [
    "### 시리즈 데이터 타입 변경\n",
    "\n",
    "다음 시리즈 객체는 문자열 타입의 데이터가 저장돼 있습니다. 데이터 타입의 문자열로 저장된 경우 숫자와 사칙연산을 수행할 수 없습니다. 시리즈 객체의 데이터 타입을 숫자 타입으로 변경해보세요."
   ]
  },
  {
   "cell_type": "code",
   "execution_count": 18,
   "id": "f5cf9cc2",
   "metadata": {},
   "outputs": [
    {
     "data": {
      "text/plain": [
       "철수    100\n",
       "영희    200\n",
       "아름    300\n",
       "dtype: int32"
      ]
     },
     "execution_count": 18,
     "metadata": {},
     "output_type": "execute_result"
    }
   ],
   "source": [
    "data = [\"100\", \"200\", \"300\"]\n",
    "index = [\"철수\", \"영희\", \"아름\"]\n",
    "s = pd.Series(data, index)\n",
    "\n",
    "s = s.astype(dtype='int32')\n",
    "\n",
    "s"
   ]
  },
  {
   "cell_type": "markdown",
   "id": "28847a72",
   "metadata": {},
   "source": [
    "### 시리즈 문자열 replace\n",
    "\n",
    "다음 시리즈 객체는 문자열 타입의 데이터가 저장돼 있습니다. str.replace 함수를 사용하여 컴마를 제거한 후 데이터를 'int32' 타입으로 변환해보세요.\n",
    "\n",
    "data = [\"100,000\", \"200,000\", \"300,000\"]   \n",
    "index = [\"철수\", \"영희\", \"아름\"]  \n",
    "s = Series(data, index)"
   ]
  },
  {
   "cell_type": "code",
   "execution_count": 20,
   "id": "af051879",
   "metadata": {},
   "outputs": [
    {
     "data": {
      "text/plain": [
       "철수    100000\n",
       "영희    200000\n",
       "아름    300000\n",
       "dtype: int32"
      ]
     },
     "execution_count": 20,
     "metadata": {},
     "output_type": "execute_result"
    }
   ],
   "source": [
    "data = [\"100,000\", \"200,000\", \"300,000\"]\n",
    "index = [\"철수\", \"영희\", \"아름\"]\n",
    "s = pd.Series(data, index)\n",
    "\n",
    "s = s.str.replace(',', '', regex=True)\n",
    "s = s.astype('int32')\n",
    "\n",
    "s"
   ]
  },
  {
   "cell_type": "markdown",
   "id": "85cc9c9b",
   "metadata": {},
   "source": [
    "### 시리즈 문자열 인덱싱\n",
    "\n",
    "다음과 같은 시리즈 객체가 있을 때 values에서 '세' 라는 문자열을 제거한 후 데이터를 'int32' 타입으로 변환해보세요.\n",
    "\n",
    "s = pd.Series([\"30세\", \"40세\", \"50세\"], index=[\"김대리\", \"이과장\", \"박차장\"])"
   ]
  },
  {
   "cell_type": "code",
   "execution_count": 26,
   "id": "123c1f7c",
   "metadata": {},
   "outputs": [
    {
     "data": {
      "text/plain": [
       "김대리    30\n",
       "이과장    40\n",
       "박차장    50\n",
       "dtype: int32"
      ]
     },
     "execution_count": 26,
     "metadata": {},
     "output_type": "execute_result"
    }
   ],
   "source": [
    "s = pd.Series([\"30세\", \"40세\", \"50세\"], index=[\"김대리\", \"이과장\", \"박차장\"])\n",
    "s = s.str.replace('세', '')\n",
    "\n",
    "s = s.astype(\"int32\")\n",
    "\n",
    "s\n",
    "\n",
    "\n",
    "\n"
   ]
  },
  {
   "cell_type": "code",
   "execution_count": 25,
   "id": "74a9ab3b",
   "metadata": {},
   "outputs": [
    {
     "data": {
      "text/plain": [
       "김대리    30\n",
       "이과장    40\n",
       "박차장    50\n",
       "dtype: int32"
      ]
     },
     "execution_count": 25,
     "metadata": {},
     "output_type": "execute_result"
    }
   ],
   "source": [
    "#위키백과에서  제시한 답\n",
    "s = pd.Series([\"30세\", \"40세\", \"50세\"], index=[\"김대리\", \"이과장\", \"박차장\"])\n",
    "s1 = s.str[:-1]\n",
    "s1 = s1.astype('int32')\n",
    "s1"
   ]
  },
  {
   "cell_type": "markdown",
   "id": "a082b4e7",
   "metadata": {},
   "source": [
    "### reindex\n",
    "\n",
    "다음 시리즈 객체의 인덱스를 ['a', 'b', 'c', 'd']로 재정렬하세요.\n",
    "\n",
    "\n",
    "import pandas as pd\n",
    "\n",
    "s = pd.Series([1, 2, 3, 4], index=[\"d\", \"c\", \"a\", \"b\"])  \n",
    "s"
   ]
  },
  {
   "cell_type": "code",
   "execution_count": 28,
   "id": "da98e816",
   "metadata": {},
   "outputs": [
    {
     "data": {
      "text/plain": [
       "a    3\n",
       "b    4\n",
       "c    2\n",
       "d    1\n",
       "dtype: int64"
      ]
     },
     "execution_count": 28,
     "metadata": {},
     "output_type": "execute_result"
    }
   ],
   "source": [
    "import pandas as pd\n",
    "\n",
    "s = pd.Series([1, 2, 3, 4], index=[\"d\", \"c\", \"a\", \"b\"])\n",
    "s.reindex(['a', 'b', 'c', 'd'])"
   ]
  },
  {
   "cell_type": "markdown",
   "id": "4f326981",
   "metadata": {},
   "source": [
    "### list\n",
    "\n",
    "다음 시리즈 객체의 값을 리스트로 변경하세요.\n",
    "\n",
    "import pandas as pd  \n",
    "s = pd.Series([1, 2, 3])"
   ]
  },
  {
   "cell_type": "code",
   "execution_count": 30,
   "id": "f8bf2c91",
   "metadata": {},
   "outputs": [
    {
     "data": {
      "text/plain": [
       "[1, 2, 3]"
      ]
     },
     "execution_count": 30,
     "metadata": {},
     "output_type": "execute_result"
    }
   ],
   "source": [
    "import pandas as pd\n",
    "s = pd.Series([1, 2, 3])\n",
    "list(s)"
   ]
  },
  {
   "cell_type": "markdown",
   "id": "de104364",
   "metadata": {},
   "source": [
    "### dict\n",
    "\n",
    "다음 시리즈 객체를 딕셔너리 타입으로 변경하세요.\n",
    "\n",
    "import pandas as pd  \n",
    "s = pd.Series([1, 2, 3])"
   ]
  },
  {
   "cell_type": "code",
   "execution_count": 1,
   "id": "8024069f",
   "metadata": {},
   "outputs": [
    {
     "data": {
      "text/plain": [
       "{0: 1, 1: 2, 2: 3}"
      ]
     },
     "execution_count": 1,
     "metadata": {},
     "output_type": "execute_result"
    }
   ],
   "source": [
    "import pandas as pd\n",
    "s = pd.Series([1, 2, 3])\n",
    "dict(s)"
   ]
  },
  {
   "cell_type": "markdown",
   "id": "18a1ea2f",
   "metadata": {},
   "source": [
    "### dropna\n",
    "\n",
    "다음 시리즈 객체에서 NaN 값을 제거하세요.\n",
    "\n",
    "import pandas as pd\n",
    "\n",
    "\n",
    "s = pd.Series([1, 2, 3, np.nan])"
   ]
  },
  {
   "cell_type": "code",
   "execution_count": 4,
   "id": "55d5fd84",
   "metadata": {},
   "outputs": [
    {
     "data": {
      "text/plain": [
       "0    1.0\n",
       "1    2.0\n",
       "2    3.0\n",
       "dtype: float64"
      ]
     },
     "execution_count": 4,
     "metadata": {},
     "output_type": "execute_result"
    }
   ],
   "source": [
    "import pandas as pd  \n",
    "import numpy as np\n",
    "\n",
    "s = pd.Series([1, 2, 3, np.nan])\n",
    "s.dropna()"
   ]
  },
  {
   "cell_type": "markdown",
   "id": "024ceeb0",
   "metadata": {},
   "source": [
    "### Series.map\n",
    "\n",
    "시리즈의 맵 메서드를 사용하여 시리즈 객체에서 콤마를 제거하세요."
   ]
  },
  {
   "cell_type": "code",
   "execution_count": 5,
   "id": "60af91f2",
   "metadata": {},
   "outputs": [],
   "source": [
    "import pandas as pd\n",
    "\n",
    "s = pd.Series([\"1,234\", \"5,678\", \"9,876\"])\n",
    "\n"
   ]
  },
  {
   "cell_type": "markdown",
   "id": "d0158082",
   "metadata": {},
   "source": [
    "### Series.apply\n",
    "\n",
    "시리즈 객체의 apply 메서드를 사용 로그(자연수 10을 밑으로 한 로그) 값을 구하세요.\n",
    "\n",
    "import pandas as pd\n",
    "import numpy as np\n",
    "\n",
    "s = pd.Series([10, 100, 100])"
   ]
  },
  {
   "cell_type": "code",
   "execution_count": 5,
   "id": "d15aaa55",
   "metadata": {},
   "outputs": [
    {
     "data": {
      "text/plain": [
       "0    1.0\n",
       "1    2.0\n",
       "2    2.0\n",
       "dtype: float64"
      ]
     },
     "execution_count": 5,
     "metadata": {},
     "output_type": "execute_result"
    }
   ],
   "source": [
    "import pandas as pd\n",
    "import numpy as np\n",
    "\n",
    "s = pd.Series([10, 100, 100])\n",
    "\n",
    "s.apply(np.log10)"
   ]
  }
 ],
 "metadata": {
  "kernelspec": {
   "display_name": "Python 3 (ipykernel)",
   "language": "python",
   "name": "python3"
  },
  "language_info": {
   "codemirror_mode": {
    "name": "ipython",
    "version": 3
   },
   "file_extension": ".py",
   "mimetype": "text/x-python",
   "name": "python",
   "nbconvert_exporter": "python",
   "pygments_lexer": "ipython3",
   "version": "3.9.12"
  }
 },
 "nbformat": 4,
 "nbformat_minor": 5
}
