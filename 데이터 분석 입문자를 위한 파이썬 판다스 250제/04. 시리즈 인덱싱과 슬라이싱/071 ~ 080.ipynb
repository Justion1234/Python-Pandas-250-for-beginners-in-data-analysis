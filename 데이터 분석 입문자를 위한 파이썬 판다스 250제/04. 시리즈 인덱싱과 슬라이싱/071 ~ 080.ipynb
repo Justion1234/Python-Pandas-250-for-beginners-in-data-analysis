{
 "cells": [
  {
   "cell_type": "markdown",
   "id": "3d2f87be",
   "metadata": {},
   "source": [
    "### 시리즈 타입\n",
    "\n",
    "다음 코드를 수행하면 어떤 타입을 출력되는지 이야기해보세요. 그리고 그 이유는 무엇인가요?\n",
    "\n",
    "import pandas as pd\n",
    "\n",
    "s = pd.Series([1, 2, 'python'])  \n",
    "print(s.dtype)"
   ]
  },
  {
   "cell_type": "markdown",
   "id": "1396f00b",
   "metadata": {},
   "source": [
    "#### 위키백과에서 제시한 답:\n",
    "\n",
    "object 타입이 출력됩니다. 시리지는 하나의 데이터 타입만 가질 수 있습니다. 예제에서처럼 숫자와 문자가 섞여 있는 경우 하나의 데이터 타입으로 표현하기 위하여 숫자를 문자로 변환 후 문자열의 타입의 데이터가 있는 시리즈 객체를 생성합니다."
   ]
  },
  {
   "cell_type": "markdown",
   "id": "fb9c187b",
   "metadata": {},
   "source": [
    "### 시리즈 타입 변경\n",
    "\n",
    "다음 시리즈 객체의 데이터 타입을 int32로 변경해보세요.\n",
    "\n",
    "import pandas as pd\n",
    "\n",
    "s = pd.Series(['1', '2', '3'])"
   ]
  },
  {
   "cell_type": "code",
   "execution_count": 2,
   "id": "663da5d1",
   "metadata": {},
   "outputs": [
    {
     "data": {
      "text/plain": [
       "0    1\n",
       "1    2\n",
       "2    3\n",
       "dtype: int32"
      ]
     },
     "execution_count": 2,
     "metadata": {},
     "output_type": "execute_result"
    }
   ],
   "source": [
    "import pandas as pd\n",
    "\n",
    "s = pd.Series(['1', '2', '3'])\n",
    "\n",
    "s.astype('int32')"
   ]
  },
  {
   "cell_type": "markdown",
   "id": "b2af4c76",
   "metadata": {},
   "source": [
    "## 시리즈 데이터 타입 설정\n",
    "\n",
    "BTC 금액이 50000 달러, XRP 금액이 1 달러, ETH 금액이 4000 달러일 때 시리즈 객체로 생성하세요. 시리즈 객체를 생성할 때 가격의 데이터 타입을 float로 지정해서 생성하세요."
   ]
  },
  {
   "cell_type": "code",
   "execution_count": 13,
   "id": "2bf0b29f",
   "metadata": {},
   "outputs": [
    {
     "data": {
      "text/plain": [
       "BTC    50000.0\n",
       "XRP        1.0\n",
       "ETH     4000.0\n",
       "dtype: float64"
      ]
     },
     "execution_count": 13,
     "metadata": {},
     "output_type": "execute_result"
    }
   ],
   "source": [
    "data = [50000, 1, 4000]\n",
    "index = [\"BTC\", \"XRP\", \"ETH\"]\n",
    "s = pd.Series(data, index)\n",
    "\n",
    "\n",
    "s.astype(float)"
   ]
  },
  {
   "cell_type": "code",
   "execution_count": 14,
   "id": "b4c30e1f",
   "metadata": {},
   "outputs": [
    {
     "data": {
      "text/plain": [
       "BTC    50000.0\n",
       "XRP        1.0\n",
       "ETH     4000.0\n",
       "dtype: float64"
      ]
     },
     "execution_count": 14,
     "metadata": {},
     "output_type": "execute_result"
    }
   ],
   "source": [
    "#위키백과에서 제시한 답\n",
    "\n",
    "tickers = [\"BTC\", \"XRP\", \"ETH\"]\n",
    "prices = [50000, 1, 4000]\n",
    "\n",
    "s = pd.Series(data=prices, index=tickers, dtype='float')\n",
    "s"
   ]
  },
  {
   "cell_type": "markdown",
   "id": "18c81c21",
   "metadata": {},
   "source": [
    "### 시리즈 인덱싱 (대괄호 사용하기)\n",
    "\n",
    "다음 데이터를 시리즈 객체로 표현하세요. 그 다음 대괄호([])을 사용하여 200을 출력하세요.\n",
    "\n",
    "data = [100, 200, 300]  \n",
    "index = [\"철수\", \"영희\", \"아름\"]  \n",
    "s = Series(data, index)"
   ]
  },
  {
   "cell_type": "code",
   "execution_count": 17,
   "id": "0705e9c2",
   "metadata": {},
   "outputs": [
    {
     "name": "stdout",
     "output_type": "stream",
     "text": [
      "200\n"
     ]
    }
   ],
   "source": [
    "data = [100, 200, 300]\n",
    "index = [\"철수\", \"영희\", \"아름\"]\n",
    "s = pd.Series(data, index)\n",
    "\n",
    "print(s[1])"
   ]
  },
  {
   "cell_type": "code",
   "execution_count": 18,
   "id": "c64db61c",
   "metadata": {},
   "outputs": [
    {
     "name": "stdout",
     "output_type": "stream",
     "text": [
      "200\n"
     ]
    }
   ],
   "source": [
    "#위키백과에서 제시한 답:\n",
    "print(s.iloc[1])"
   ]
  },
  {
   "cell_type": "markdown",
   "id": "995d0e02",
   "metadata": {},
   "source": [
    "### 시리즈 인덱싱 (loc 속성 사용하기)\n",
    "\n",
    "다음 데이터를 시리즈 객체로 표현하세요. 그 다음 loc 속성을 사용하여 200을 출력하세요."
   ]
  },
  {
   "cell_type": "code",
   "execution_count": 6,
   "id": "6e0f715c",
   "metadata": {},
   "outputs": [
    {
     "data": {
      "text/plain": [
       "200"
      ]
     },
     "execution_count": 6,
     "metadata": {},
     "output_type": "execute_result"
    }
   ],
   "source": [
    "data = [100, 200, 300]\n",
    "index = [\"철수\", \"영희\", \"아름\"]\n",
    "s = pd.Series(data, index)\n",
    "\n",
    "s.loc[\"영희\"]"
   ]
  },
  {
   "cell_type": "markdown",
   "id": "aea46e72",
   "metadata": {},
   "source": [
    "### 시리즈 인덱싱 (인덱스 사용하기)\n",
    "\n",
    "다음 데이터를 시리즈 객체로 표현하세요. 그 다음 인덱스를 사용하여 200을 출력하세요.\n",
    "\n",
    "data = [100, 200, 300]  \n",
    "index = [\"철수\", \"영희\", \"아름\"]  \n",
    "s = pd.Series(data, index)"
   ]
  },
  {
   "cell_type": "code",
   "execution_count": 7,
   "id": "7225cea7",
   "metadata": {},
   "outputs": [
    {
     "name": "stdout",
     "output_type": "stream",
     "text": [
      "200\n"
     ]
    }
   ],
   "source": [
    "data = [100, 200, 300]\n",
    "index = [\"철수\", \"영희\", \"아름\"]\n",
    "s = pd.Series(data, index)\n",
    "\n",
    "print(s[1])"
   ]
  },
  {
   "cell_type": "markdown",
   "id": "8d07a57d",
   "metadata": {},
   "source": [
    "### 시리즈 슬라이싱\n",
    "\n",
    "\n",
    "시리즈에서 100과 200을 시리즈로 출력하라.\n",
    "\n",
    "data = [100, 200, 300]  \n",
    "index = [\"철수\", \"영희\", \"아름\"]  \n",
    "s = Series(data, index)  "
   ]
  },
  {
   "cell_type": "code",
   "execution_count": 13,
   "id": "2ac6397a",
   "metadata": {},
   "outputs": [
    {
     "name": "stdout",
     "output_type": "stream",
     "text": [
      "철수    100\n",
      "영희    200\n",
      "dtype: int64\n",
      "철수    100\n",
      "영희    200\n",
      "dtype: int64\n",
      "철수    100\n",
      "영희    200\n",
      "dtype: int64\n",
      "철수    100\n",
      "영희    200\n",
      "dtype: int64\n",
      "철수    100\n",
      "영희    200\n",
      "dtype: int64\n",
      "철수    100\n",
      "영희    200\n",
      "dtype: int64\n",
      "[100 200]\n"
     ]
    }
   ],
   "source": [
    "#위키백과에서 제시한 답\n",
    "\n",
    "print(s.iloc[0:2])\n",
    "print(s.iloc[ :2])\n",
    "print(s.loc[\"철수\":\"영희\"])\n",
    "print(s[0:2])\n",
    "print(s[ :2])\n",
    "print(s[\"철수\":\"영희\"])\n",
    "print(s.values[:2])"
   ]
  },
  {
   "cell_type": "markdown",
   "id": "0997c195",
   "metadata": {},
   "source": [
    "### 시리즈 슬라이싱\n",
    "\n",
    "시리즈에는 일자별 가격 정보가 저장돼 있다. 시리즈에서 상위 3개의 데이터의 날짜 (인덱스)를 출력하라.\n",
    "\n",
    "data = [100, 200, 300, 400, 500, 600]  \n",
    "index = [\"08/01\", \"08/02\", \"08/03\", \"08/04\", \"08/05\", \"08/06\"]  \n",
    "s = Series(data, index)"
   ]
  },
  {
   "cell_type": "code",
   "execution_count": 17,
   "id": "c949d5ce",
   "metadata": {},
   "outputs": [
    {
     "name": "stdout",
     "output_type": "stream",
     "text": [
      "Index(['08/01', '08/02', '08/03'], dtype='object')\n"
     ]
    }
   ],
   "source": [
    "data = [100, 200, 300, 400, 500, 600]\n",
    "index = [\"08/01\", \"08/02\", \"08/03\", \"08/04\", \"08/05\", \"08/06\"]\n",
    "s = pd.Series(data, index)\n",
    "\n",
    "print(s.iloc[0:3].index)"
   ]
  },
  {
   "cell_type": "markdown",
   "id": "ee048b98",
   "metadata": {},
   "source": [
    "### 시리즈 슬라이싱\n",
    "\n",
    "시리즈에서 100, 300, 500을 슬라이싱으로 출력하라\n",
    "\n",
    "data = [100, 200, 300, 400, 500, 600]  \n",
    "index = [\"08/01\", \"08/02\", \"08/03\", \"08/04\", \"08/05\", \"08/06\"]  \n",
    "s = pd.Series(data, index)  "
   ]
  },
  {
   "cell_type": "code",
   "execution_count": 19,
   "id": "4576db9c",
   "metadata": {},
   "outputs": [
    {
     "name": "stdout",
     "output_type": "stream",
     "text": [
      "08/01    100\n",
      "08/03    300\n",
      "08/05    500\n",
      "dtype: int64\n",
      "08/01    100\n",
      "08/03    300\n",
      "08/05    500\n",
      "dtype: int64\n",
      "08/01    100\n",
      "08/03    300\n",
      "08/05    500\n",
      "dtype: int64\n",
      "08/01    100\n",
      "08/03    300\n",
      "08/05    500\n",
      "dtype: int64\n",
      "08/01    100\n",
      "08/03    300\n",
      "08/05    500\n",
      "dtype: int64\n"
     ]
    },
    {
     "ename": "ValueError",
     "evalue": "invalid literal for int() with base 10: '08/01'",
     "output_type": "error",
     "traceback": [
      "\u001b[1;31m---------------------------------------------------------------------------\u001b[0m",
      "\u001b[1;31mValueError\u001b[0m                                Traceback (most recent call last)",
      "Input \u001b[1;32mIn [19]\u001b[0m, in \u001b[0;36m<cell line: 15>\u001b[1;34m()\u001b[0m\n\u001b[0;32m     12\u001b[0m \u001b[38;5;28mprint\u001b[39m(s[\u001b[38;5;124m\"\u001b[39m\u001b[38;5;124m08/01\u001b[39m\u001b[38;5;124m\"\u001b[39m:\u001b[38;5;124m\"\u001b[39m\u001b[38;5;124m08/06\u001b[39m\u001b[38;5;124m\"\u001b[39m:\u001b[38;5;241m2\u001b[39m])\n\u001b[0;32m     14\u001b[0m \u001b[38;5;28mprint\u001b[39m(s\u001b[38;5;241m.\u001b[39miloc[[\u001b[38;5;241m0\u001b[39m, \u001b[38;5;241m2\u001b[39m, \u001b[38;5;241m4\u001b[39m]])\n\u001b[1;32m---> 15\u001b[0m \u001b[38;5;28mprint\u001b[39m(\u001b[43ms\u001b[49m\u001b[38;5;241;43m.\u001b[39;49m\u001b[43miloc\u001b[49m\u001b[43m[\u001b[49m\u001b[43m[\u001b[49m\u001b[38;5;124;43m\"\u001b[39;49m\u001b[38;5;124;43m08/01\u001b[39;49m\u001b[38;5;124;43m\"\u001b[39;49m\u001b[43m,\u001b[49m\u001b[43m \u001b[49m\u001b[38;5;124;43m\"\u001b[39;49m\u001b[38;5;124;43m08/03\u001b[39;49m\u001b[38;5;124;43m\"\u001b[39;49m\u001b[43m,\u001b[49m\u001b[43m \u001b[49m\u001b[38;5;124;43m\"\u001b[39;49m\u001b[38;5;124;43m08/05\u001b[39;49m\u001b[38;5;124;43m\"\u001b[39;49m\u001b[43m]\u001b[49m\u001b[43m]\u001b[49m)\n",
      "File \u001b[1;32m~\\Anaconda3\\lib\\site-packages\\pandas\\core\\indexing.py:967\u001b[0m, in \u001b[0;36m_LocationIndexer.__getitem__\u001b[1;34m(self, key)\u001b[0m\n\u001b[0;32m    964\u001b[0m axis \u001b[38;5;241m=\u001b[39m \u001b[38;5;28mself\u001b[39m\u001b[38;5;241m.\u001b[39maxis \u001b[38;5;129;01mor\u001b[39;00m \u001b[38;5;241m0\u001b[39m\n\u001b[0;32m    966\u001b[0m maybe_callable \u001b[38;5;241m=\u001b[39m com\u001b[38;5;241m.\u001b[39mapply_if_callable(key, \u001b[38;5;28mself\u001b[39m\u001b[38;5;241m.\u001b[39mobj)\n\u001b[1;32m--> 967\u001b[0m \u001b[38;5;28;01mreturn\u001b[39;00m \u001b[38;5;28;43mself\u001b[39;49m\u001b[38;5;241;43m.\u001b[39;49m\u001b[43m_getitem_axis\u001b[49m\u001b[43m(\u001b[49m\u001b[43mmaybe_callable\u001b[49m\u001b[43m,\u001b[49m\u001b[43m \u001b[49m\u001b[43maxis\u001b[49m\u001b[38;5;241;43m=\u001b[39;49m\u001b[43maxis\u001b[49m\u001b[43m)\u001b[49m\n",
      "File \u001b[1;32m~\\Anaconda3\\lib\\site-packages\\pandas\\core\\indexing.py:1511\u001b[0m, in \u001b[0;36m_iLocIndexer._getitem_axis\u001b[1;34m(self, key, axis)\u001b[0m\n\u001b[0;32m   1509\u001b[0m \u001b[38;5;66;03m# a list of integers\u001b[39;00m\n\u001b[0;32m   1510\u001b[0m \u001b[38;5;28;01melif\u001b[39;00m is_list_like_indexer(key):\n\u001b[1;32m-> 1511\u001b[0m     \u001b[38;5;28;01mreturn\u001b[39;00m \u001b[38;5;28;43mself\u001b[39;49m\u001b[38;5;241;43m.\u001b[39;49m\u001b[43m_get_list_axis\u001b[49m\u001b[43m(\u001b[49m\u001b[43mkey\u001b[49m\u001b[43m,\u001b[49m\u001b[43m \u001b[49m\u001b[43maxis\u001b[49m\u001b[38;5;241;43m=\u001b[39;49m\u001b[43maxis\u001b[49m\u001b[43m)\u001b[49m\n\u001b[0;32m   1513\u001b[0m \u001b[38;5;66;03m# a single integer\u001b[39;00m\n\u001b[0;32m   1514\u001b[0m \u001b[38;5;28;01melse\u001b[39;00m:\n\u001b[0;32m   1515\u001b[0m     key \u001b[38;5;241m=\u001b[39m item_from_zerodim(key)\n",
      "File \u001b[1;32m~\\Anaconda3\\lib\\site-packages\\pandas\\core\\indexing.py:1482\u001b[0m, in \u001b[0;36m_iLocIndexer._get_list_axis\u001b[1;34m(self, key, axis)\u001b[0m\n\u001b[0;32m   1465\u001b[0m \u001b[38;5;124;03m\"\"\"\u001b[39;00m\n\u001b[0;32m   1466\u001b[0m \u001b[38;5;124;03mReturn Series values by list or array of integers.\u001b[39;00m\n\u001b[0;32m   1467\u001b[0m \n\u001b[1;32m   (...)\u001b[0m\n\u001b[0;32m   1479\u001b[0m \u001b[38;5;124;03m`axis` can only be zero.\u001b[39;00m\n\u001b[0;32m   1480\u001b[0m \u001b[38;5;124;03m\"\"\"\u001b[39;00m\n\u001b[0;32m   1481\u001b[0m \u001b[38;5;28;01mtry\u001b[39;00m:\n\u001b[1;32m-> 1482\u001b[0m     \u001b[38;5;28;01mreturn\u001b[39;00m \u001b[38;5;28;43mself\u001b[39;49m\u001b[38;5;241;43m.\u001b[39;49m\u001b[43mobj\u001b[49m\u001b[38;5;241;43m.\u001b[39;49m\u001b[43m_take_with_is_copy\u001b[49m\u001b[43m(\u001b[49m\u001b[43mkey\u001b[49m\u001b[43m,\u001b[49m\u001b[43m \u001b[49m\u001b[43maxis\u001b[49m\u001b[38;5;241;43m=\u001b[39;49m\u001b[43maxis\u001b[49m\u001b[43m)\u001b[49m\n\u001b[0;32m   1483\u001b[0m \u001b[38;5;28;01mexcept\u001b[39;00m \u001b[38;5;167;01mIndexError\u001b[39;00m \u001b[38;5;28;01mas\u001b[39;00m err:\n\u001b[0;32m   1484\u001b[0m     \u001b[38;5;66;03m# re-raise with different error message\u001b[39;00m\n\u001b[0;32m   1485\u001b[0m     \u001b[38;5;28;01mraise\u001b[39;00m \u001b[38;5;167;01mIndexError\u001b[39;00m(\u001b[38;5;124m\"\u001b[39m\u001b[38;5;124mpositional indexers are out-of-bounds\u001b[39m\u001b[38;5;124m\"\u001b[39m) \u001b[38;5;28;01mfrom\u001b[39;00m \u001b[38;5;21;01merr\u001b[39;00m\n",
      "File \u001b[1;32m~\\Anaconda3\\lib\\site-packages\\pandas\\core\\series.py:922\u001b[0m, in \u001b[0;36mSeries._take_with_is_copy\u001b[1;34m(self, indices, axis)\u001b[0m\n\u001b[0;32m    913\u001b[0m \u001b[38;5;28;01mdef\u001b[39;00m \u001b[38;5;21m_take_with_is_copy\u001b[39m(\u001b[38;5;28mself\u001b[39m, indices, axis\u001b[38;5;241m=\u001b[39m\u001b[38;5;241m0\u001b[39m) \u001b[38;5;241m-\u001b[39m\u001b[38;5;241m>\u001b[39m Series:\n\u001b[0;32m    914\u001b[0m     \u001b[38;5;124;03m\"\"\"\u001b[39;00m\n\u001b[0;32m    915\u001b[0m \u001b[38;5;124;03m    Internal version of the `take` method that sets the `_is_copy`\u001b[39;00m\n\u001b[0;32m    916\u001b[0m \u001b[38;5;124;03m    attribute to keep track of the parent dataframe (using in indexing\u001b[39;00m\n\u001b[1;32m   (...)\u001b[0m\n\u001b[0;32m    920\u001b[0m \u001b[38;5;124;03m    See the docstring of `take` for full explanation of the parameters.\u001b[39;00m\n\u001b[0;32m    921\u001b[0m \u001b[38;5;124;03m    \"\"\"\u001b[39;00m\n\u001b[1;32m--> 922\u001b[0m     \u001b[38;5;28;01mreturn\u001b[39;00m \u001b[38;5;28;43mself\u001b[39;49m\u001b[38;5;241;43m.\u001b[39;49m\u001b[43mtake\u001b[49m\u001b[43m(\u001b[49m\u001b[43mindices\u001b[49m\u001b[38;5;241;43m=\u001b[39;49m\u001b[43mindices\u001b[49m\u001b[43m,\u001b[49m\u001b[43m \u001b[49m\u001b[43maxis\u001b[49m\u001b[38;5;241;43m=\u001b[39;49m\u001b[43maxis\u001b[49m\u001b[43m)\u001b[49m\n",
      "File \u001b[1;32m~\\Anaconda3\\lib\\site-packages\\pandas\\core\\series.py:906\u001b[0m, in \u001b[0;36mSeries.take\u001b[1;34m(self, indices, axis, is_copy, **kwargs)\u001b[0m\n\u001b[0;32m    898\u001b[0m     warnings\u001b[38;5;241m.\u001b[39mwarn(\n\u001b[0;32m    899\u001b[0m         \u001b[38;5;124m\"\u001b[39m\u001b[38;5;124mis_copy is deprecated and will be removed in a future version. \u001b[39m\u001b[38;5;124m\"\u001b[39m\n\u001b[0;32m    900\u001b[0m         \u001b[38;5;124m\"\u001b[39m\u001b[38;5;124m'\u001b[39m\u001b[38;5;124mtake\u001b[39m\u001b[38;5;124m'\u001b[39m\u001b[38;5;124m always returns a copy, so there is no need to specify this.\u001b[39m\u001b[38;5;124m\"\u001b[39m,\n\u001b[0;32m    901\u001b[0m         \u001b[38;5;167;01mFutureWarning\u001b[39;00m,\n\u001b[0;32m    902\u001b[0m         stacklevel\u001b[38;5;241m=\u001b[39mfind_stack_level(),\n\u001b[0;32m    903\u001b[0m     )\n\u001b[0;32m    904\u001b[0m nv\u001b[38;5;241m.\u001b[39mvalidate_take((), kwargs)\n\u001b[1;32m--> 906\u001b[0m indices \u001b[38;5;241m=\u001b[39m \u001b[43mensure_platform_int\u001b[49m\u001b[43m(\u001b[49m\u001b[43mindices\u001b[49m\u001b[43m)\u001b[49m\n\u001b[0;32m    907\u001b[0m new_index \u001b[38;5;241m=\u001b[39m \u001b[38;5;28mself\u001b[39m\u001b[38;5;241m.\u001b[39mindex\u001b[38;5;241m.\u001b[39mtake(indices)\n\u001b[0;32m    908\u001b[0m new_values \u001b[38;5;241m=\u001b[39m \u001b[38;5;28mself\u001b[39m\u001b[38;5;241m.\u001b[39m_values\u001b[38;5;241m.\u001b[39mtake(indices)\n",
      "File \u001b[1;32mpandas\\_libs\\algos_common_helper.pxi:20\u001b[0m, in \u001b[0;36mpandas._libs.algos.ensure_platform_int\u001b[1;34m()\u001b[0m\n",
      "\u001b[1;31mValueError\u001b[0m: invalid literal for int() with base 10: '08/01'"
     ]
    }
   ],
   "source": [
    "data = [100, 200, 300, 400, 500, 600]\n",
    "index = [\"08/01\", \"08/02\", \"08/03\", \"08/04\", \"08/05\", \"08/06\"]\n",
    "s = pd.Series(data, index)\n",
    "\n",
    "#위키백과에서 제시한 답\n",
    "\n",
    "\n",
    "print(s.iloc[ : :2])\n",
    "print(s[ : :2])\n",
    "\n",
    "print(s.loc[\"08/01\":\"08/06\":2])\n",
    "print(s[\"08/01\":\"08/06\":2])\n",
    "\n",
    "print(s.iloc[[0, 2, 4]])\n",
    "print(s.iloc[[\"08/01\", \"08/03\", \"08/05\"]])"
   ]
  }
 ],
 "metadata": {
  "kernelspec": {
   "display_name": "Python 3 (ipykernel)",
   "language": "python",
   "name": "python3"
  },
  "language_info": {
   "codemirror_mode": {
    "name": "ipython",
    "version": 3
   },
   "file_extension": ".py",
   "mimetype": "text/x-python",
   "name": "python",
   "nbconvert_exporter": "python",
   "pygments_lexer": "ipython3",
   "version": "3.9.12"
  }
 },
 "nbformat": 4,
 "nbformat_minor": 5
}
