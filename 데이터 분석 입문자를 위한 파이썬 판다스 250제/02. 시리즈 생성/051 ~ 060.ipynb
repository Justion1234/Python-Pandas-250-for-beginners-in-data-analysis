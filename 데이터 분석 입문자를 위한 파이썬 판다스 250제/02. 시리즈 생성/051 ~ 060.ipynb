{
 "cells": [
  {
   "cell_type": "markdown",
   "id": "ea83fe6f",
   "metadata": {},
   "source": [
    "### 모듈 임포트\n",
    "\n",
    "판다스의 시리즈 클래스를 사용하기 위해 주로 사용ㅎ나는 두 가지 방식으로 임포트해보세요.\n"
   ]
  },
  {
   "cell_type": "code",
   "execution_count": 1,
   "id": "bbb431d4",
   "metadata": {},
   "outputs": [],
   "source": [
    "import pandas as pd\n",
    "from pandas import Series"
   ]
  },
  {
   "cell_type": "markdown",
   "id": "aecf5b63",
   "metadata": {},
   "source": [
    "### 시리즈의 생성(리스트)\n",
    "\n",
    "다음 데이터를 시리즈로 객체로 생성해보세요"
   ]
  },
  {
   "cell_type": "code",
   "execution_count": 2,
   "id": "40ad7f27",
   "metadata": {},
   "outputs": [
    {
     "name": "stdout",
     "output_type": "stream",
     "text": [
      "0    100\n",
      "1    200\n",
      "2    300\n",
      "dtype: int64\n"
     ]
    }
   ],
   "source": [
    "score = [100, 200, 300]\n",
    "score = Series(score)\n",
    "\n",
    "print(score)"
   ]
  },
  {
   "cell_type": "markdown",
   "id": "bddb5e7d",
   "metadata": {},
   "source": [
    "### 시리즈의 생성 (인덱스 지정)\n",
    "\n",
    "생성된 시리즈 객체에 인덱스를 추가해보세요."
   ]
  },
  {
   "cell_type": "code",
   "execution_count": 3,
   "id": "eb09aebd",
   "metadata": {},
   "outputs": [
    {
     "name": "stdout",
     "output_type": "stream",
     "text": [
      "0      100\n",
      "1      200\n",
      "2      300\n",
      "100     철수\n",
      "200     영희\n",
      "300     아름\n",
      "dtype: object\n"
     ]
    }
   ],
   "source": [
    "score[100] = '철수'\n",
    "score[200] = '영희'\n",
    "score[300] = '아름'\n",
    "\n",
    "print(score)"
   ]
  },
  {
   "cell_type": "markdown",
   "id": "c5e2ee91",
   "metadata": {},
   "source": [
    "## 시리지의 생성 (딕셔너리)\n",
    "\n",
    "다음 데이터를 파이썬 딕셔너리로 표현하세요. 딕셔너리의 key로 인덱스를 value로 점수 컬럼을 지정하세요. 생성된 딕셔너리를 사용하여 시리즈 객체를 생성해봅시다."
   ]
  },
  {
   "cell_type": "code",
   "execution_count": 2,
   "id": "42be42ab",
   "metadata": {},
   "outputs": [
    {
     "data": {
      "text/plain": [
       "철수    100\n",
       "영희    200\n",
       "아름    300\n",
       "dtype: int64"
      ]
     },
     "execution_count": 2,
     "metadata": {},
     "output_type": "execute_result"
    }
   ],
   "source": [
    "data = {'철수': 100, '영희': 200, '아름': 300}\n",
    "score = Series(data)\n",
    "\n",
    "score\n"
   ]
  },
  {
   "cell_type": "markdown",
   "id": "194a226d",
   "metadata": {},
   "source": [
    "## 시리즈 생성\n",
    "\n",
    "다음은 네이버 금융에서 특정 거래일의 인기 종목과 해당 종목의 종가 데이터입니다. 종목명을 인덱스로 하여 종가를 데이터로 지정하여 시리즈 객체를 생성해봅시다."
   ]
  },
  {
   "cell_type": "code",
   "execution_count": 3,
   "id": "e0a2eb4b",
   "metadata": {},
   "outputs": [
    {
     "data": {
      "text/plain": [
       "삼성전자      73000\n",
       "셀트리온     356000\n",
       "카카오      367000\n",
       "삼성전자우     68600\n",
       "현대바이오     34150\n",
       "dtype: int64"
      ]
     },
     "execution_count": 3,
     "metadata": {},
     "output_type": "execute_result"
    }
   ],
   "source": [
    "finance = pd.Series([73000, 356000, 367000, 68600, 34150], index=['삼성전자', '셀트리온', '카카오', '삼성전자우', '현대바이오'])\n",
    "\n",
    "finance"
   ]
  },
  {
   "cell_type": "markdown",
   "id": "67f5f1fd",
   "metadata": {},
   "source": [
    "## 시리즈 데이터\n",
    "\n",
    "인덱스 없이 시리즈에 저장된 데이터만을 출력해보세요.\n",
    "\n",
    "data = [100, 200, 300]  \n",
    "index = [\"철수\", \"영희\", \"아름\"]     \n",
    "s = Series(data, index)  \n",
    "\n",
    "결과:  \n",
    "[100 200 300 400 500 600]"
   ]
  },
  {
   "cell_type": "code",
   "execution_count": 12,
   "id": "d29042fc",
   "metadata": {},
   "outputs": [
    {
     "name": "stdout",
     "output_type": "stream",
     "text": [
      "[100 200 300]\n"
     ]
    }
   ],
   "source": [
    "data = [100, 200, 300]\n",
    "index = [\"철수\", \"영희\", \"아름\"]\n",
    "s = Series(data, index)\n",
    "print(s.values)"
   ]
  },
  {
   "cell_type": "markdown",
   "id": "51ce8369",
   "metadata": {},
   "source": [
    "## 시리즈와 딕셔너리\n",
    "\n",
    "시리즈를 딕셔너리로 변경해 보세요.\n",
    "\n",
    "data = [100, 200, 300]  \n",
    "index = [\"철수\", \"영희\", \"아름\"]  \n",
    "s = Series(data, index)  \n",
    "\n",
    "실행 결과:  \n",
    "{'철수': 100, '영희': 200, '아름': 300}\n"
   ]
  },
  {
   "cell_type": "code",
   "execution_count": 14,
   "id": "7a1e449e",
   "metadata": {},
   "outputs": [
    {
     "data": {
      "text/plain": [
       "{'철수': 100, '영희': 200, '아름': 300}"
      ]
     },
     "execution_count": 14,
     "metadata": {},
     "output_type": "execute_result"
    }
   ],
   "source": [
    "data = [100, 200, 300]  \n",
    "index = [\"철수\", \"영희\", \"아름\"]  \n",
    "s = Series(data, index)\n",
    "\n",
    "s.to_dict()"
   ]
  },
  {
   "cell_type": "markdown",
   "id": "4ebf0e19",
   "metadata": {},
   "source": [
    "## 시리즈와 엑셀\n",
    "\n",
    "시리즈를 엑셀 파일(data.xlsx)에 저장해보세요.\n",
    "\n",
    "data = [100, 200, 300]  \n",
    "index = [\"철수\", \"영희\", \"아름\"]  \n",
    "s = Series(data, index)"
   ]
  },
  {
   "cell_type": "code",
   "execution_count": 15,
   "id": "e4ea324f",
   "metadata": {},
   "outputs": [],
   "source": [
    "data = [100, 200, 300]\n",
    "index = [\"철수\", \"영희\", \"아름\"]\n",
    "s = Series(data, index)\n",
    "s.to_excel('ser.xlsx')"
   ]
  },
  {
   "cell_type": "markdown",
   "id": "8da8fc12",
   "metadata": {},
   "source": [
    "위 엑셀에서 첫번째 라인을 제거하고 싶다면?"
   ]
  },
  {
   "cell_type": "code",
   "execution_count": 16,
   "id": "958eecbc",
   "metadata": {},
   "outputs": [],
   "source": [
    "s.to_excel(\"data.xlsx\", header=False)"
   ]
  },
  {
   "cell_type": "markdown",
   "id": "13055eee",
   "metadata": {},
   "source": [
    "## 시리즈와 엑셀\n",
    "\n",
    "엑셀 파일(.xlsx)을 읽어 보세요."
   ]
  },
  {
   "cell_type": "code",
   "execution_count": 19,
   "id": "7557e5dc",
   "metadata": {},
   "outputs": [
    {
     "data": {
      "text/html": [
       "<div>\n",
       "<style scoped>\n",
       "    .dataframe tbody tr th:only-of-type {\n",
       "        vertical-align: middle;\n",
       "    }\n",
       "\n",
       "    .dataframe tbody tr th {\n",
       "        vertical-align: top;\n",
       "    }\n",
       "\n",
       "    .dataframe thead th {\n",
       "        text-align: right;\n",
       "    }\n",
       "</style>\n",
       "<table border=\"1\" class=\"dataframe\">\n",
       "  <thead>\n",
       "    <tr style=\"text-align: right;\">\n",
       "      <th></th>\n",
       "      <th>철수</th>\n",
       "      <th>100</th>\n",
       "    </tr>\n",
       "  </thead>\n",
       "  <tbody>\n",
       "    <tr>\n",
       "      <th>0</th>\n",
       "      <td>영희</td>\n",
       "      <td>200</td>\n",
       "    </tr>\n",
       "    <tr>\n",
       "      <th>1</th>\n",
       "      <td>아름</td>\n",
       "      <td>300</td>\n",
       "    </tr>\n",
       "  </tbody>\n",
       "</table>\n",
       "</div>"
      ],
      "text/plain": [
       "   철수  100\n",
       "0  영희  200\n",
       "1  아름  300"
      ]
     },
     "execution_count": 19,
     "metadata": {},
     "output_type": "execute_result"
    }
   ],
   "source": [
    "pd.read_excel('data.xlsx')"
   ]
  }
 ],
 "metadata": {
  "kernelspec": {
   "display_name": "Python 3 (ipykernel)",
   "language": "python",
   "name": "python3"
  },
  "language_info": {
   "codemirror_mode": {
    "name": "ipython",
    "version": 3
   },
   "file_extension": ".py",
   "mimetype": "text/x-python",
   "name": "python",
   "nbconvert_exporter": "python",
   "pygments_lexer": "ipython3",
   "version": "3.9.12"
  }
 },
 "nbformat": 4,
 "nbformat_minor": 5
}
