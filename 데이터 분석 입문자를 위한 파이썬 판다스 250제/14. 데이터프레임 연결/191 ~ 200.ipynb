{
 "cells": [
  {
   "cell_type": "markdown",
   "id": "b628260d",
   "metadata": {},
   "source": [
    "### 데이터프레임 위/아래 붙이기 (concat)\n",
    "\n",
    "df1, df2 데이터프레임을 위/아래 방향으로 연결하세요. (위에 df1이 있고 그 아래에 df2가 있어야합니다.)\n",
    "\n",
    "columns = ['open', 'high', 'low', 'close']  \n",
    "index1 = [  \n",
    "    datetime(2022, 9, 8),  \n",
    "    datetime(2022, 9, 7),  \n",
    "    datetime(2022, 9, 6),  \n",
    "    datetime(2022, 9, 5),  \n",
    "    datetime(2022, 9, 2)  \n",
    "]  \n",
    "\n",
    "index2 = [  \n",
    "    datetime(2022, 9, 1),  \n",
    "    datetime(2022, 8, 31),  \n",
    "    datetime(2022, 8, 30),  \n",
    "    datetime(2022, 8, 29),  \n",
    "    datetime(2022, 8, 26)  \n",
    "]  \n",
    "\n",
    "df1 = pd.DataFrame(data=np.arange(0, 20).reshape(5,4), index=index1, columns=columns)  \n",
    "df2 = pd.DataFrame(data=np.arange(20,40).reshape(5,4), index=index2, columns=columns)"
   ]
  },
  {
   "cell_type": "code",
   "execution_count": 3,
   "id": "07e79b8b",
   "metadata": {
    "scrolled": true
   },
   "outputs": [
    {
     "ename": "TypeError",
     "evalue": "'module' object is not callable",
     "output_type": "error",
     "traceback": [
      "\u001b[1;31m---------------------------------------------------------------------------\u001b[0m",
      "\u001b[1;31mTypeError\u001b[0m                                 Traceback (most recent call last)",
      "Input \u001b[1;32mIn [3]\u001b[0m, in \u001b[0;36m<cell line: 6>\u001b[1;34m()\u001b[0m\n\u001b[0;32m      2\u001b[0m \u001b[38;5;28;01mimport\u001b[39;00m \u001b[38;5;21;01mcalendar\u001b[39;00m\n\u001b[0;32m      4\u001b[0m columns \u001b[38;5;241m=\u001b[39m [\u001b[38;5;124m'\u001b[39m\u001b[38;5;124mopen\u001b[39m\u001b[38;5;124m'\u001b[39m, \u001b[38;5;124m'\u001b[39m\u001b[38;5;124mhigh\u001b[39m\u001b[38;5;124m'\u001b[39m, \u001b[38;5;124m'\u001b[39m\u001b[38;5;124mlow\u001b[39m\u001b[38;5;124m'\u001b[39m, \u001b[38;5;124m'\u001b[39m\u001b[38;5;124mclose\u001b[39m\u001b[38;5;124m'\u001b[39m]  \n\u001b[0;32m      5\u001b[0m index1 \u001b[38;5;241m=\u001b[39m [  \n\u001b[1;32m----> 6\u001b[0m     \u001b[43mdatetime\u001b[49m\u001b[43m(\u001b[49m\u001b[38;5;241;43m2022\u001b[39;49m\u001b[43m,\u001b[49m\u001b[43m \u001b[49m\u001b[38;5;241;43m9\u001b[39;49m\u001b[43m,\u001b[49m\u001b[43m \u001b[49m\u001b[38;5;241;43m8\u001b[39;49m\u001b[43m)\u001b[49m,  \n\u001b[0;32m      7\u001b[0m     datetime(\u001b[38;5;241m2022\u001b[39m, \u001b[38;5;241m9\u001b[39m, \u001b[38;5;241m7\u001b[39m),  \n\u001b[0;32m      8\u001b[0m     datetime(\u001b[38;5;241m2022\u001b[39m, \u001b[38;5;241m9\u001b[39m, \u001b[38;5;241m6\u001b[39m),  \n\u001b[0;32m      9\u001b[0m     datetime(\u001b[38;5;241m2022\u001b[39m, \u001b[38;5;241m9\u001b[39m, \u001b[38;5;241m5\u001b[39m),  \n\u001b[0;32m     10\u001b[0m     datetime(\u001b[38;5;241m2022\u001b[39m, \u001b[38;5;241m9\u001b[39m, \u001b[38;5;241m2\u001b[39m)  \n\u001b[0;32m     11\u001b[0m ]  \n\u001b[0;32m     13\u001b[0m index2 \u001b[38;5;241m=\u001b[39m [  \n\u001b[0;32m     14\u001b[0m     datetime(\u001b[38;5;241m2022\u001b[39m, \u001b[38;5;241m9\u001b[39m, \u001b[38;5;241m1\u001b[39m),  \n\u001b[0;32m     15\u001b[0m     datetime(\u001b[38;5;241m2022\u001b[39m, \u001b[38;5;241m8\u001b[39m, \u001b[38;5;241m31\u001b[39m),  \n\u001b[1;32m   (...)\u001b[0m\n\u001b[0;32m     18\u001b[0m     datetime(\u001b[38;5;241m2022\u001b[39m, \u001b[38;5;241m8\u001b[39m, \u001b[38;5;241m26\u001b[39m)  \n\u001b[0;32m     19\u001b[0m ]  \n\u001b[0;32m     21\u001b[0m df1 \u001b[38;5;241m=\u001b[39m pd\u001b[38;5;241m.\u001b[39mDataFrame(data\u001b[38;5;241m=\u001b[39mnp\u001b[38;5;241m.\u001b[39marange(\u001b[38;5;241m0\u001b[39m, \u001b[38;5;241m20\u001b[39m)\u001b[38;5;241m.\u001b[39mreshape(\u001b[38;5;241m5\u001b[39m,\u001b[38;5;241m4\u001b[39m), index\u001b[38;5;241m=\u001b[39mindex1, columns\u001b[38;5;241m=\u001b[39mcolumns)  \n",
      "\u001b[1;31mTypeError\u001b[0m: 'module' object is not callable"
     ]
    }
   ],
   "source": [
    "import pandas as pd\n",
    "import calendar\n",
    "\n",
    "columns = ['open', 'high', 'low', 'close']  \n",
    "index1 = [  \n",
    "    datetime(2022, 9, 8),  \n",
    "    datetime(2022, 9, 7),  \n",
    "    datetime(2022, 9, 6),  \n",
    "    datetime(2022, 9, 5),  \n",
    "    datetime(2022, 9, 2)  \n",
    "]  \n",
    "\n",
    "index2 = [  \n",
    "    datetime(2022, 9, 1),  \n",
    "    datetime(2022, 8, 31),  \n",
    "    datetime(2022, 8, 30),  \n",
    "    datetime(2022, 8, 29),  \n",
    "    datetime(2022, 8, 26)  \n",
    "]  \n",
    "\n",
    "df1 = pd.DataFrame(data=np.arange(0, 20).reshape(5,4), index=index1, columns=columns)  \n",
    "df2 = pd.DataFrame(data=np.arange(20,40).reshape(5,4), index=index2, columns=columns)\n",
    "\n",
    "\n",
    "pd.concat([df1, df2], axis=0)"
   ]
  },
  {
   "cell_type": "code",
   "execution_count": null,
   "id": "76ee36ab",
   "metadata": {},
   "outputs": [],
   "source": []
  }
 ],
 "metadata": {
  "kernelspec": {
   "display_name": "Python 3 (ipykernel)",
   "language": "python",
   "name": "python3"
  },
  "language_info": {
   "codemirror_mode": {
    "name": "ipython",
    "version": 3
   },
   "file_extension": ".py",
   "mimetype": "text/x-python",
   "name": "python",
   "nbconvert_exporter": "python",
   "pygments_lexer": "ipython3",
   "version": "3.9.12"
  }
 },
 "nbformat": 4,
 "nbformat_minor": 5
}
