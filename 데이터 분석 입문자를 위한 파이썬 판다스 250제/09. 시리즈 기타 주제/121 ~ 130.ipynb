{
 "cells": [
  {
   "cell_type": "markdown",
   "id": "6f586ad0",
   "metadata": {},
   "source": [
    "### dropna\n",
    "\n",
    "다음과 같이 NaN이 포함된 시리즈 객체에서 NaN 값을 제거하세요.\n",
    "\n",
    "import numpy as np  \n",
    "from pandas import Series\n",
    "\n",
    "data =[1, 2, 3, 4, np.nan]  \n",
    "s = Series(data=data)  \n",
    "s"
   ]
  },
  {
   "cell_type": "code",
   "execution_count": 5,
   "id": "e93a7c51",
   "metadata": {},
   "outputs": [
    {
     "data": {
      "text/plain": [
       "0    1.0\n",
       "1    2.0\n",
       "2    3.0\n",
       "3    4.0\n",
       "dtype: float64"
      ]
     },
     "execution_count": 5,
     "metadata": {},
     "output_type": "execute_result"
    }
   ],
   "source": [
    "import numpy as np\n",
    "from pandas import Series\n",
    "\n",
    "data =[1, 2, 3, 4, np.nan]\n",
    "s = Series(data=data)\n",
    "\n",
    "s.dropna()"
   ]
  },
  {
   "cell_type": "markdown",
   "id": "b45cc3e5",
   "metadata": {},
   "source": [
    "### nlargest\n",
    "\n",
    "다음과 같은 시리즈 객체가 있을 때 nlargest 메서드를 사용하여 값이 큰 3개를 출력해보세요.\n",
    "\n",
    "from pandas import Series\n",
    "\n",
    "data = range(1, 11)  \n",
    "s = Series(data=data)  \n",
    "s"
   ]
  },
  {
   "cell_type": "code",
   "execution_count": 12,
   "id": "989b0b77",
   "metadata": {},
   "outputs": [
    {
     "data": {
      "text/plain": [
       "9    10\n",
       "8     9\n",
       "7     8\n",
       "dtype: int64"
      ]
     },
     "execution_count": 12,
     "metadata": {},
     "output_type": "execute_result"
    }
   ],
   "source": [
    "from pandas import Series\n",
    "\n",
    "data = range(1, 11)\n",
    "s = Series(data=data)\n",
    "s.nlargest(3)"
   ]
  },
  {
   "cell_type": "markdown",
   "id": "481e552a",
   "metadata": {},
   "source": [
    "### nsmallest\n",
    "\n",
    "다음과 같은 시리즈 객체가 있을 때 nsmallest 메서드를 사용하여 값이 작은 3개를 출력해보세요.\n",
    "\n",
    "from pandas import Series\n",
    "\n",
    "data = range(1, 11)  \n",
    "s = Series(data=data)  \n",
    "s"
   ]
  },
  {
   "cell_type": "code",
   "execution_count": 14,
   "id": "5608a3b5",
   "metadata": {},
   "outputs": [
    {
     "data": {
      "text/plain": [
       "0    1\n",
       "1    2\n",
       "2    3\n",
       "dtype: int64"
      ]
     },
     "execution_count": 14,
     "metadata": {},
     "output_type": "execute_result"
    }
   ],
   "source": [
    "from pandas import Series\n",
    "\n",
    "data = range(1, 11)\n",
    "s = Series(data=data)\n",
    "s.nsmallest(3)"
   ]
  },
  {
   "cell_type": "markdown",
   "id": "741ede27",
   "metadata": {},
   "source": [
    "### Series.dt.year\n",
    "\n",
    "다음 시리즈 객체의 값에서 연도만 가져와 보세요.\n",
    "\n",
    "import pandas as pd  \n",
    "from datetime import datetime  \n",
    "s = pd.Series([datetime(2020,1,1), datetime(2021,1,1), datetime(2022,1,1)])\n"
   ]
  },
  {
   "cell_type": "code",
   "execution_count": 16,
   "id": "e5bf797b",
   "metadata": {},
   "outputs": [
    {
     "data": {
      "text/plain": [
       "0    2020\n",
       "1    2021\n",
       "2    2022\n",
       "dtype: int64"
      ]
     },
     "execution_count": 16,
     "metadata": {},
     "output_type": "execute_result"
    }
   ],
   "source": [
    "import pandas as pd\n",
    "from datetime import datetime\n",
    "s = pd.Series([datetime(2020,1,1), datetime(2021,1,1), datetime(2022,1,1)])\n",
    "\n",
    "s.dt.year"
   ]
  },
  {
   "cell_type": "markdown",
   "id": "fc9f9e4f",
   "metadata": {},
   "source": [
    "### 시리즈 시계열 인덱스\n",
    "\n",
    "다음 시리즈 객체의 인덱스에서 연도만 가져오세요.\n",
    "\n",
    "import pandas as pd  \n",
    "from datetime import datetime\n",
    "\n",
    "index = [datetime(2020,1,1), datetime(2021,1,1), datetime(2022,1,1)]  \n",
    "data = [100, 200, 300]  \n",
    "s = pd.Series(data=data, index=index)"
   ]
  },
  {
   "cell_type": "code",
   "execution_count": 18,
   "id": "eb629f6c",
   "metadata": {},
   "outputs": [
    {
     "data": {
      "text/plain": [
       "Int64Index([2020, 2021, 2022], dtype='int64')"
      ]
     },
     "execution_count": 18,
     "metadata": {},
     "output_type": "execute_result"
    }
   ],
   "source": [
    "import pandas as pd\n",
    "from datetime import datetime\n",
    "\n",
    "index = [datetime(2020,1,1), datetime(2021,1,1), datetime(2022,1,1)]\n",
    "data = [100, 200, 300]\n",
    "s = pd.Series(data=data, index=index)\n",
    "\n",
    "s.index.year"
   ]
  },
  {
   "cell_type": "markdown",
   "id": "5b07b920",
   "metadata": {},
   "source": [
    "### Series.dt.day\n",
    "\n",
    "다음 시리즈 객체의 값에서 날짜 값만 가져와보세요.\n",
    "\n",
    "import pandas as pd  \n",
    "from datetime import datetime  \n",
    "s = pd.Series([datetime(2022,1,1), datetime(2022,1,2), datetime(2022,1,3)])"
   ]
  },
  {
   "cell_type": "code",
   "execution_count": 2,
   "id": "e0ed6e84",
   "metadata": {},
   "outputs": [
    {
     "data": {
      "text/plain": [
       "0    1\n",
       "1    2\n",
       "2    3\n",
       "dtype: int64"
      ]
     },
     "execution_count": 2,
     "metadata": {},
     "output_type": "execute_result"
    }
   ],
   "source": [
    "import pandas as pd\n",
    "from datetime import datetime\n",
    "s = pd.Series([datetime(2022,1,1), datetime(2022,1,2), datetime(2022,1,3)])\n",
    "s.dt.day"
   ]
  },
  {
   "cell_type": "markdown",
   "id": "09831c98",
   "metadata": {},
   "source": [
    "### strftime\n",
    "\n",
    "다음 시리즈 객체의 인덱스로부터 다음 포맷의 문자열 리스틀을 생성하세요.\n",
    "\n",
    "Index(['2020-01-01 00:00:00', '2021-01-01 00:00:00', '2022-01-01 00:00:00'], dtype='object')\n",
    "\n",
    "import pandas as pd  \n",
    "from datetime import datetime  \n",
    "\n",
    "index = [datetime(2020,1,1), datetime(2021,1,1), datetime(2022,1,1)]  \n",
    "data = [100, 200, 300]  \n",
    "s = pd.Series(data=data, index=index)"
   ]
  },
  {
   "cell_type": "code",
   "execution_count": 10,
   "id": "b73b2962",
   "metadata": {},
   "outputs": [
    {
     "name": "stdout",
     "output_type": "stream",
     "text": [
      "Index(['2020-01-01 ', '2021-01-01 ', '2022-01-01 '], dtype='object')\n"
     ]
    }
   ],
   "source": [
    "import pandas as pd\n",
    "from datetime import datetime\n",
    "\n",
    "index = [datetime(2020,1,1), datetime(2021,1,1), datetime(2022,1,1)]\n",
    "data = [100, 200, 300]\n",
    "s = pd.Series(data=data, index=index)\n",
    "date = s.index.strftime('%Y-%m-%d')\n",
    "print(date)"
   ]
  },
  {
   "cell_type": "markdown",
   "id": "2b666f50",
   "metadata": {},
   "source": [
    "### Series.str.cat\n",
    "\n",
    "다음 시리즈 객체는 3종목의 종목 코드를 저장하고 있습니다. 이를 다음과 같이 ';'로 구분된 문자열로 생성하세요.\n",
    "'000020;000040;005930'\n",
    "\n",
    "import pandas as pd\n",
    "\n",
    "s = pd.Series([\"000020\", \"000040\", \"005930\"])"
   ]
  },
  {
   "cell_type": "code",
   "execution_count": 12,
   "id": "5eac7558",
   "metadata": {},
   "outputs": [
    {
     "data": {
      "text/plain": [
       "'000020;000040;005930'"
      ]
     },
     "execution_count": 12,
     "metadata": {},
     "output_type": "execute_result"
    }
   ],
   "source": [
    "import pandas as pd\n",
    "\n",
    "s = pd.Series([\"000020\", \"000040\", \"005930\"])\n",
    "s.str.cat(sep=';')"
   ]
  },
  {
   "cell_type": "markdown",
   "id": "e8b1efd2",
   "metadata": {},
   "source": [
    "### 문자열 추가\n",
    "\n",
    "종목 코드를 저장하고 있는 시리즈 객체의 종목 코드에 'A'를 추가하세요.\n",
    "\n",
    "import pandas as pd\n",
    "\n",
    "s = pd.Series([\"000020\", \"000040\", \"005930\"])"
   ]
  },
  {
   "cell_type": "code",
   "execution_count": 13,
   "id": "7304b9e2",
   "metadata": {},
   "outputs": [
    {
     "data": {
      "text/plain": [
       "0    A000020\n",
       "1    A000040\n",
       "2    A005930\n",
       "dtype: object"
      ]
     },
     "execution_count": 13,
     "metadata": {},
     "output_type": "execute_result"
    }
   ],
   "source": [
    "import pandas as pd\n",
    "\n",
    "s = pd.Series([\"000020\", \"000040\", \"005930\"])\n",
    "\n",
    "'A' + s"
   ]
  },
  {
   "cell_type": "markdown",
   "id": "67d1aca9",
   "metadata": {},
   "source": [
    "### Series.str.zfill\n",
    "\n",
    "국내 주식은 6자리의 숫자로 구성됩니다. 다음 시리즈 객체는 각 값에서 leading zero가 모두 제가된 상태입니다. 이를 다시 원래 종목 코드로 변환하세요. 예를 들어, \"20\"은 \"000020\"이 되어야합니다."
   ]
  },
  {
   "cell_type": "code",
   "execution_count": 15,
   "id": "8d6772ae",
   "metadata": {},
   "outputs": [
    {
     "data": {
      "text/plain": [
       "0    000020\n",
       "1    000040\n",
       "2    005930\n",
       "dtype: object"
      ]
     },
     "execution_count": 15,
     "metadata": {},
     "output_type": "execute_result"
    }
   ],
   "source": [
    "import pandas as pd\n",
    "\n",
    "s = pd.Series([\"20\", \"40\", \"5930\"])\n",
    "s.str.zfill(6)"
   ]
  }
 ],
 "metadata": {
  "kernelspec": {
   "display_name": "Python 3 (ipykernel)",
   "language": "python",
   "name": "python3"
  },
  "language_info": {
   "codemirror_mode": {
    "name": "ipython",
    "version": 3
   },
   "file_extension": ".py",
   "mimetype": "text/x-python",
   "name": "python",
   "nbconvert_exporter": "python",
   "pygments_lexer": "ipython3",
   "version": "3.9.12"
  }
 },
 "nbformat": 4,
 "nbformat_minor": 5
}
