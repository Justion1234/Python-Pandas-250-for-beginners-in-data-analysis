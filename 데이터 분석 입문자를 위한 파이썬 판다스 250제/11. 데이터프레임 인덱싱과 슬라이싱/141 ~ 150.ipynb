{
 "cells": [
  {
   "cell_type": "markdown",
   "id": "ad003ff4",
   "metadata": {},
   "source": [
    "### 데이터프레임 컬럼 접근\n",
    "\n",
    "데이터프레임에서 현재가 컬러만 출력해보세요.\n",
    "\n",
    "data = [  \n",
    "    [\"037730\", \"3R\", 1510, 7.36],  \n",
    "    [\"036360\", \"3SOFT\", 1790, 1.65],  \n",
    "    [\"005760\", \"ACTS\", 1185, 1.28],  \n",
    "]  \n",
    "columns = [\"종목코드\", \"종목명\", \"현재가\", \"등락률\"]  \n",
    "df = pd.DataFrame(data=data, columns=columns)  \n",
    "df.set_index('종목코드', inplace=True)"
   ]
  },
  {
   "cell_type": "code",
   "execution_count": 4,
   "id": "41954b0a",
   "metadata": {},
   "outputs": [
    {
     "data": {
      "text/plain": [
       "종목코드\n",
       "037730    1510\n",
       "036360    1790\n",
       "005760    1185\n",
       "Name: 현재가, dtype: int64"
      ]
     },
     "execution_count": 4,
     "metadata": {},
     "output_type": "execute_result"
    }
   ],
   "source": [
    "import pandas as pd\n",
    "\n",
    "data = [\n",
    "    [\"037730\", \"3R\", 1510, 7.36],\n",
    "    [\"036360\", \"3SOFT\", 1790, 1.65],\n",
    "    [\"005760\", \"ACTS\", 1185, 1.28],\n",
    "]\n",
    "columns = [\"종목코드\", \"종목명\", \"현재가\", \"등락률\"]\n",
    "df = pd.DataFrame(data=data, columns=columns)\n",
    "df.set_index('종목코드', inplace=True)\n",
    "\n",
    "df['현재가']"
   ]
  },
  {
   "cell_type": "markdown",
   "id": "911d4c93",
   "metadata": {},
   "source": [
    "### 컬럼 인덱싱\n",
    "\n",
    "데이터프레임에서 현재가 컬럼을 인덱싱하는데 이를 데이터프레임 타입이 되도록 하세요.\n",
    "\n",
    "data = [  \n",
    "    [\"037730\", \"3R\", 1510, 7.36],  \n",
    "    [\"036360\", \"3SOFT\", 1790, 1.65],  \n",
    "    [\"005760\", \"ACTS\", 1185, 1.28],  \n",
    "] \n",
    "columns = [\"종목코드\", \"종목명\", \"현재가\", \"등락률\"]  \n",
    "df = pd.DataFrame(data=data, columns=columns)\n"
   ]
  },
  {
   "cell_type": "code",
   "execution_count": 7,
   "id": "a683e994",
   "metadata": {},
   "outputs": [
    {
     "data": {
      "text/html": [
       "<div>\n",
       "<style scoped>\n",
       "    .dataframe tbody tr th:only-of-type {\n",
       "        vertical-align: middle;\n",
       "    }\n",
       "\n",
       "    .dataframe tbody tr th {\n",
       "        vertical-align: top;\n",
       "    }\n",
       "\n",
       "    .dataframe thead th {\n",
       "        text-align: right;\n",
       "    }\n",
       "</style>\n",
       "<table border=\"1\" class=\"dataframe\">\n",
       "  <thead>\n",
       "    <tr style=\"text-align: right;\">\n",
       "      <th></th>\n",
       "      <th>현재가</th>\n",
       "    </tr>\n",
       "  </thead>\n",
       "  <tbody>\n",
       "    <tr>\n",
       "      <th>0</th>\n",
       "      <td>1510</td>\n",
       "    </tr>\n",
       "    <tr>\n",
       "      <th>1</th>\n",
       "      <td>1790</td>\n",
       "    </tr>\n",
       "    <tr>\n",
       "      <th>2</th>\n",
       "      <td>1185</td>\n",
       "    </tr>\n",
       "  </tbody>\n",
       "</table>\n",
       "</div>"
      ],
      "text/plain": [
       "    현재가\n",
       "0  1510\n",
       "1  1790\n",
       "2  1185"
      ]
     },
     "execution_count": 7,
     "metadata": {},
     "output_type": "execute_result"
    }
   ],
   "source": [
    "data = [  \n",
    "    [\"037730\", \"3R\", 1510, 7.36],  \n",
    "    [\"036360\", \"3SOFT\", 1790, 1.65],  \n",
    "    [\"005760\", \"ACTS\", 1185, 1.28],  \n",
    "] \n",
    "columns = [\"종목코드\", \"종목명\", \"현재가\", \"등락률\"]  \n",
    "df = pd.DataFrame(data=data, columns=columns)\n",
    "\n",
    "df[['현재가']]"
   ]
  },
  {
   "cell_type": "markdown",
   "id": "eeedf073",
   "metadata": {},
   "source": [
    "### 데이터프레임 멀티 컬럼 접근\n",
    "\n",
    "다음 데이터프레임에서 \"현재가\"와 \"등락률\" 컬럼을 인덱싱해보세요."
   ]
  },
  {
   "cell_type": "code",
   "execution_count": 8,
   "id": "0c65f21e",
   "metadata": {},
   "outputs": [
    {
     "data": {
      "text/html": [
       "<div>\n",
       "<style scoped>\n",
       "    .dataframe tbody tr th:only-of-type {\n",
       "        vertical-align: middle;\n",
       "    }\n",
       "\n",
       "    .dataframe tbody tr th {\n",
       "        vertical-align: top;\n",
       "    }\n",
       "\n",
       "    .dataframe thead th {\n",
       "        text-align: right;\n",
       "    }\n",
       "</style>\n",
       "<table border=\"1\" class=\"dataframe\">\n",
       "  <thead>\n",
       "    <tr style=\"text-align: right;\">\n",
       "      <th></th>\n",
       "      <th>현재가</th>\n",
       "      <th>등락률</th>\n",
       "    </tr>\n",
       "  </thead>\n",
       "  <tbody>\n",
       "    <tr>\n",
       "      <th>0</th>\n",
       "      <td>1510</td>\n",
       "      <td>7.36</td>\n",
       "    </tr>\n",
       "    <tr>\n",
       "      <th>1</th>\n",
       "      <td>1790</td>\n",
       "      <td>1.65</td>\n",
       "    </tr>\n",
       "    <tr>\n",
       "      <th>2</th>\n",
       "      <td>1185</td>\n",
       "      <td>1.28</td>\n",
       "    </tr>\n",
       "  </tbody>\n",
       "</table>\n",
       "</div>"
      ],
      "text/plain": [
       "    현재가   등락률\n",
       "0  1510  7.36\n",
       "1  1790  1.65\n",
       "2  1185  1.28"
      ]
     },
     "execution_count": 8,
     "metadata": {},
     "output_type": "execute_result"
    }
   ],
   "source": [
    "df[['현재가', '등락률']]"
   ]
  },
  {
   "cell_type": "markdown",
   "id": "c78d0591",
   "metadata": {},
   "source": [
    "### 데이터프레임 로우 접근 (iloc 속성)\n",
    "\n",
    "데이터프레임에서 iloc 속성을 사용하여 0본째 행을 출력해보세요."
   ]
  },
  {
   "cell_type": "code",
   "execution_count": 9,
   "id": "db38714f",
   "metadata": {},
   "outputs": [
    {
     "data": {
      "text/plain": [
       "종목코드    037730\n",
       "종목명         3R\n",
       "현재가       1510\n",
       "등락률       7.36\n",
       "Name: 0, dtype: object"
      ]
     },
     "execution_count": 9,
     "metadata": {},
     "output_type": "execute_result"
    }
   ],
   "source": [
    "df.iloc[0]"
   ]
  },
  {
   "cell_type": "markdown",
   "id": "30735ca7",
   "metadata": {},
   "source": [
    "### 데이터프레임 로우 접근 (iloc 속성)\n",
    "\n",
    "데이터프레임에서 iloc 속성을 사용하여 가장 아래쪽의 행을 출력해보세요."
   ]
  },
  {
   "cell_type": "code",
   "execution_count": 11,
   "id": "22ce4121",
   "metadata": {},
   "outputs": [
    {
     "data": {
      "text/plain": [
       "종목코드    005760\n",
       "종목명       ACTS\n",
       "현재가       1185\n",
       "등락률       1.28\n",
       "Name: 2, dtype: object"
      ]
     },
     "execution_count": 11,
     "metadata": {},
     "output_type": "execute_result"
    }
   ],
   "source": [
    "df.iloc[-1]"
   ]
  },
  {
   "cell_type": "markdown",
   "id": "fe7b55a5",
   "metadata": {},
   "source": [
    "### 데이터프레임 로우 접근 (iloc 속성)\n",
    "\n",
    "데이터프레임에서 iloc 속성을 사용하여 0번째, 2번째 행을 출력해보세요."
   ]
  },
  {
   "cell_type": "code",
   "execution_count": 13,
   "id": "c3d02256",
   "metadata": {},
   "outputs": [
    {
     "data": {
      "text/html": [
       "<div>\n",
       "<style scoped>\n",
       "    .dataframe tbody tr th:only-of-type {\n",
       "        vertical-align: middle;\n",
       "    }\n",
       "\n",
       "    .dataframe tbody tr th {\n",
       "        vertical-align: top;\n",
       "    }\n",
       "\n",
       "    .dataframe thead th {\n",
       "        text-align: right;\n",
       "    }\n",
       "</style>\n",
       "<table border=\"1\" class=\"dataframe\">\n",
       "  <thead>\n",
       "    <tr style=\"text-align: right;\">\n",
       "      <th></th>\n",
       "      <th>종목코드</th>\n",
       "      <th>종목명</th>\n",
       "      <th>현재가</th>\n",
       "      <th>등락률</th>\n",
       "    </tr>\n",
       "  </thead>\n",
       "  <tbody>\n",
       "    <tr>\n",
       "      <th>0</th>\n",
       "      <td>037730</td>\n",
       "      <td>3R</td>\n",
       "      <td>1510</td>\n",
       "      <td>7.36</td>\n",
       "    </tr>\n",
       "    <tr>\n",
       "      <th>2</th>\n",
       "      <td>005760</td>\n",
       "      <td>ACTS</td>\n",
       "      <td>1185</td>\n",
       "      <td>1.28</td>\n",
       "    </tr>\n",
       "  </tbody>\n",
       "</table>\n",
       "</div>"
      ],
      "text/plain": [
       "     종목코드   종목명   현재가   등락률\n",
       "0  037730    3R  1510  7.36\n",
       "2  005760  ACTS  1185  1.28"
      ]
     },
     "execution_count": 13,
     "metadata": {},
     "output_type": "execute_result"
    }
   ],
   "source": [
    "df.iloc[[0, 2]]"
   ]
  },
  {
   "cell_type": "markdown",
   "id": "e14862d6",
   "metadata": {},
   "source": [
    "### 특정 값 가져오기 (iloc)\n",
    "위 데이터프레임에서 037730 종목의 등락률을 출력하세요."
   ]
  },
  {
   "cell_type": "code",
   "execution_count": 40,
   "id": "0ec3e761",
   "metadata": {},
   "outputs": [
    {
     "data": {
      "text/plain": [
       "1510"
      ]
     },
     "execution_count": 40,
     "metadata": {},
     "output_type": "execute_result"
    }
   ],
   "source": [
    "import pandas as pd\n",
    "\n",
    "data = [  \n",
    "    [\"037730\", \"3R\", 1510, 7.36],  \n",
    "    [\"036360\", \"3SOFT\", 1790, 1.65],  \n",
    "    [\"005760\", \"ACTS\", 1185, 1.28],  \n",
    "] \n",
    "columns = [\"종목코드\", \"종목명\", \"현재가\", \"등락률\"]  \n",
    "df = pd.DataFrame(data=data, columns=columns)\n",
    "\n",
    "df.iloc[0, 2]"
   ]
  }
 ],
 "metadata": {
  "kernelspec": {
   "display_name": "Python 3 (ipykernel)",
   "language": "python",
   "name": "python3"
  },
  "language_info": {
   "codemirror_mode": {
    "name": "ipython",
    "version": 3
   },
   "file_extension": ".py",
   "mimetype": "text/x-python",
   "name": "python",
   "nbconvert_exporter": "python",
   "pygments_lexer": "ipython3",
   "version": "3.9.12"
  }
 },
 "nbformat": 4,
 "nbformat_minor": 5
}
